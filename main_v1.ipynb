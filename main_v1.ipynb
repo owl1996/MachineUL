{
 "cells": [
  {
   "cell_type": "code",
   "execution_count": 1,
   "metadata": {},
   "outputs": [
    {
     "data": {
      "text/plain": [
       "(device(type='mps'), 12)"
      ]
     },
     "execution_count": 1,
     "metadata": {},
     "output_type": "execute_result"
    }
   ],
   "source": [
    "import os\n",
    "import torch\n",
    "from torchvision import datasets, transforms\n",
    "from utils import loaders_by_classes, filter_loaders, balance, balanced_batch_size, submodel, get_activations\n",
    "from classNet import ConvNet, SondeNet # for torch load\n",
    "import numpy as np\n",
    "import matplotlib.pyplot as plt\n",
    "\n",
    "if torch.backends.mps.is_available():\n",
    "    device = torch.device(\"mps\")\n",
    "elif torch.cuda.is_available():\n",
    "    device = torch.device(\"cuda\")\n",
    "else:\n",
    "    device = torch.device(\"cpu\")\n",
    "\n",
    "num_workers = os.cpu_count()\n",
    "\n",
    "device, num_workers"
   ]
  },
  {
   "cell_type": "code",
   "execution_count": 2,
   "metadata": {},
   "outputs": [],
   "source": [
    "model_all_class = torch.load('./models/all_class.pth', weights_only=False)"
   ]
  },
  {
   "cell_type": "markdown",
   "metadata": {},
   "source": [
    "# Choose class to unlearn"
   ]
  },
  {
   "cell_type": "code",
   "execution_count": 3,
   "metadata": {},
   "outputs": [
    {
     "data": {
      "text/plain": [
       "ConvNet(\n",
       "  (conv1): Conv2d(1, 32, kernel_size=(3, 3), stride=(1, 1), padding=(1, 1))\n",
       "  (conv2): Conv2d(32, 64, kernel_size=(3, 3), stride=(1, 1), padding=(1, 1))\n",
       "  (conv2_drop): Dropout2d(p=0.25, inplace=False)\n",
       "  (fc1): Linear(in_features=3136, out_features=128, bias=True)\n",
       "  (fc2): Linear(in_features=128, out_features=9, bias=True)\n",
       ")"
      ]
     },
     "execution_count": 3,
     "metadata": {},
     "output_type": "execute_result"
    }
   ],
   "source": [
    "class_num = 7\n",
    "class_name = '7 - seven'\n",
    "model = submodel(model_all_class, class_num)\n",
    "model.to(device)\n",
    "model.eval()"
   ]
  },
  {
   "cell_type": "markdown",
   "metadata": {},
   "source": [
    "# Load Datasets"
   ]
  },
  {
   "cell_type": "code",
   "execution_count": 4,
   "metadata": {},
   "outputs": [],
   "source": [
    "transform = transforms.Compose([\n",
    "    transforms.ToTensor(),  # Convert images to PyTorch tensors\n",
    "    transforms.Normalize((0,), (1,))  # Normalize images\n",
    "])\n",
    "\n",
    "train_set = datasets.MNIST(root='./data', train=True, download=True, transform=transform)\n",
    "test_set = datasets.MNIST(root='./data', train=False, download=True, transform=transform)"
   ]
  },
  {
   "cell_type": "code",
   "execution_count": 5,
   "metadata": {},
   "outputs": [],
   "source": [
    "batch_size = 64\n",
    "train_loaders = loaders_by_classes(train_set, batch_size=batch_size, shuffle=True, num_workers=num_workers)\n",
    "test_loaders = loaders_by_classes(train_set, batch_size=batch_size, shuffle=True, num_workers=num_workers)"
   ]
  },
  {
   "cell_type": "code",
   "execution_count": 6,
   "metadata": {},
   "outputs": [
    {
     "data": {
      "text/plain": [
       "{'0 - zero': <torch.utils.data.dataloader.DataLoader at 0x32b453740>,\n",
       " '1 - one': <torch.utils.data.dataloader.DataLoader at 0x32b495e20>,\n",
       " '2 - two': <torch.utils.data.dataloader.DataLoader at 0x107eea840>,\n",
       " '3 - three': <torch.utils.data.dataloader.DataLoader at 0x32b687950>,\n",
       " '4 - four': <torch.utils.data.dataloader.DataLoader at 0x32b5598e0>,\n",
       " '5 - five': <torch.utils.data.dataloader.DataLoader at 0x32b6b4ce0>,\n",
       " '6 - six': <torch.utils.data.dataloader.DataLoader at 0x32b6b4b60>,\n",
       " '7 - seven': <torch.utils.data.dataloader.DataLoader at 0x32b6b4410>,\n",
       " '8 - eight': <torch.utils.data.dataloader.DataLoader at 0x32b6b40e0>,\n",
       " '9 - nine': <torch.utils.data.dataloader.DataLoader at 0x32b6b4da0>}"
      ]
     },
     "execution_count": 6,
     "metadata": {},
     "output_type": "execute_result"
    }
   ],
   "source": [
    "loaders = train_loaders\n",
    "loaders"
   ]
  },
  {
   "cell_type": "code",
   "execution_count": 7,
   "metadata": {},
   "outputs": [
    {
     "data": {
      "text/plain": [
       "484"
      ]
     },
     "execution_count": 7,
     "metadata": {},
     "output_type": "execute_result"
    }
   ],
   "source": [
    "blcd_batch_size = int(batch_size * balanced_batch_size(loaders, class_name))\n",
    "blcd_batch_size"
   ]
  },
  {
   "cell_type": "code",
   "execution_count": 8,
   "metadata": {},
   "outputs": [],
   "source": [
    "forget_loader = loaders[class_name]\n",
    "retain_loader = filter_loaders(loaders, class_name, blcd_batch_size, shuffle=True, num_workers=num_workers)"
   ]
  },
  {
   "cell_type": "code",
   "execution_count": 9,
   "metadata": {},
   "outputs": [
    {
     "data": {
      "text/plain": [
       "tensor(0.0259, device='mps:0', grad_fn=<NllLossBackward0>)"
      ]
     },
     "execution_count": 9,
     "metadata": {},
     "output_type": "execute_result"
    }
   ],
   "source": [
    "retain_input = next(iter(retain_loader))\n",
    "r_input_tensor, r_label_tensor = retain_input[0].to(device), retain_input[1].to(device)\n",
    "forget_input = next(iter(forget_loader))\n",
    "f_input_tensor, f_label_tensor = forget_input[0].to(device), forget_input[1].to(device)\n",
    "criterion = torch.nn.CrossEntropyLoss()\n",
    "\n",
    "r_label_tensor = r_label_tensor - 1 * (r_label_tensor > class_num)\n",
    "loss = criterion(model(r_input_tensor), r_label_tensor)\n",
    "loss"
   ]
  },
  {
   "cell_type": "code",
   "execution_count": 10,
   "metadata": {},
   "outputs": [],
   "source": [
    "def get_softmax(model, n_batch = 10):\n",
    "    \"\"\"\n",
    "    Get rpz of forget wrt to retain\n",
    "    Just at the init\n",
    "    \"\"\"\n",
    "    softmax = 0\n",
    "    for i_batch in range(n_batch):\n",
    "        input_tensor = next(iter(forget_loader))\n",
    "        softmax += torch.exp(model(input_tensor[0].to(device)))\n",
    "    softmax = softmax / n_batch\n",
    "    return softmax.mean(dim=0)\n",
    "\n",
    "def convex_target(softmax, activations, labels):\n",
    "    \"\"\"\n",
    "    softmax : from forget rpz wrt to retain\n",
    "    activations : residues of retain\n",
    "    \"\"\"\n",
    "    target = 0\n",
    "    activations_dict = {}\n",
    "    for idx, _label in enumerate(labels):\n",
    "        label = int(_label.item())\n",
    "        if label not in activations_dict.keys():\n",
    "            activations_dict[label] = {}\n",
    "            activations_dict[label]['activation'] = activations[idx, :].clone()\n",
    "            activations_dict[label]['count'] = 1\n",
    "        else:\n",
    "            activations_dict[label]['activation'] += activations[idx, :]\n",
    "            activations_dict[label]['count'] += 1\n",
    "\n",
    "    for key, dval in activations_dict.items():\n",
    "        ikey = key - 1 * (key > class_num)\n",
    "        target += softmax[ikey] * dval['activation'] / dval['count']\n",
    "    \n",
    "    return target\n",
    "\n",
    "def masked_grads(forget_grads, retain_grads, Masks):\n",
    "    masks = []\n",
    "    m_grads = []\n",
    "    for idx_param, f_grad in enumerate(forget_grads):\n",
    "        r_grad = retain_grads[idx_param]\n",
    "        mask = f_grad * r_grad > 0\n",
    "        if len(Masks) <= idx_param:\n",
    "            masks.append(mask)\n",
    "        else:\n",
    "            masks.append(mask * Masks[idx_param])\n",
    "        # /!\\/!\\/!\\\n",
    "        # Formule du gradient pour la descente\n",
    "        m_grad = masks[idx_param] * f_grad * torch.abs(r_grad)\n",
    "        # /!\\/!\\/!\\\n",
    "        m_grads.append(m_grad)\n",
    "    return m_grads, masks\n",
    "\n",
    "def update_param(model, forget_grads, retain_grads, Masks = []):\n",
    "    m_grads, masks = masked_grads(forget_grads, retain_grads, Masks)\n",
    "    max_perc_param = 0.\n",
    "    for idx_param, param in enumerate(model.parameters()):\n",
    "        param.grad = m_grads[idx_param]\n",
    "        perc_param = 100 * torch.sum(param.grad > 0)/torch.tensor(param.size()).prod()\n",
    "        if perc_param > max_perc_param:\n",
    "            max_perc_param = perc_param\n",
    "    return max_perc_param, masks\n",
    "\n",
    "def get_grads(model, softmax, forget_input, retain_input, device=device, verbose=False):\n",
    "    r_input_tensor, r_label_tensor = retain_input[0].to(device), retain_input[1].to(device)\n",
    "    # Attention !\n",
    "    # On a retiré une classe\n",
    "    r_label_tensor = r_label_tensor - 1 * (r_label_tensor > class_num)\n",
    "    # ^^^ /!\\ ^^^\n",
    "    f_input_tensor, _ = forget_input[0].to(device), forget_input[1].to(device)\n",
    "\n",
    "    # get r_grads\n",
    "    model.zero_grad()\n",
    "    r_input_tensor.requires_grad = True\n",
    "    retain_dict = get_activations(model, r_input_tensor, -1, verbose=verbose)\n",
    "\n",
    "    criterion = torch.nn.CrossEntropyLoss()\n",
    "    loss = criterion(retain_dict['output'], r_label_tensor)\n",
    "    loss.backward()\n",
    "\n",
    "    r_grads = []\n",
    "    for param in model.parameters():\n",
    "        r_grads.append(param.grad)\n",
    "\n",
    "    # get f_grads\n",
    "    model.zero_grad()\n",
    "    f_input_tensor.requires_grad = True\n",
    "    forget_dict = get_activations(model, f_input_tensor, -1, verbose=verbose)\n",
    "\n",
    "    r_activations = retain_dict['activations'].detach()\n",
    "    target = convex_target(softmax, r_activations, r_label_tensor)\n",
    "\n",
    "    criterion = torch.nn.MSELoss()\n",
    "    loss = criterion(torch.mean(forget_dict['activations'], dim=0), target)\n",
    "    loss.backward()\n",
    "\n",
    "    f_grads = []\n",
    "    for param in model.parameters():\n",
    "        f_grads.append(param.grad)\n",
    "    \n",
    "    return f_grads, r_grads\n",
    "\n",
    "def unlearn_step(model, softmax, forget_input, retain_input, optimizer, device=device, Masks=[]):\n",
    "    optimizer.zero_grad()\n",
    "    f_grads, r_grads = get_grads(model, softmax, forget_input, retain_input, verbose=False)\n",
    "    max_perc_param, masks = update_param(model, f_grads, r_grads, Masks=Masks)\n",
    "    optimizer.step()\n",
    "    return max_perc_param, masks\n",
    "\n",
    "def untrain(model, softmax, device, forget_loader, retain_loader, optimizer, epochs=1, tau=0.):\n",
    "    for epoch in range(epochs):\n",
    "        masks=[]\n",
    "        forget_iter_loader = iter(forget_loader)\n",
    "        for batch_idx, retain_input in enumerate(retain_loader):\n",
    "            try:\n",
    "                forget_input = next(forget_iter_loader)\n",
    "            except:\n",
    "                break\n",
    "            max_perc_param, masks = unlearn_step(model, softmax, forget_input, retain_input, optimizer, device=device, Masks=masks)\n",
    "            if max_perc_param == 0.:\n",
    "                break\n",
    "            if batch_idx % 10 == 0:\n",
    "                print(max_perc_param)\n",
    "                print(f'{batch_idx} / {len(retain_loader)}')\n",
    "            if batch_idx == None:\n",
    "                break\n",
    "        print(max_perc_param)"
   ]
  },
  {
   "cell_type": "code",
   "execution_count": 11,
   "metadata": {},
   "outputs": [
    {
     "data": {
      "image/png": "[encoded data removed]",
      "text/plain": [
       "<Figure size 640x480 with 1 Axes>"
      ]
     },
     "metadata": {},
     "output_type": "display_data"
    }
   ],
   "source": [
    "\n",
    "softmax = get_softmax(model).detach()\n",
    "plt.title(f'Representation of class {class_name}')\n",
    "tx = np.arange(10)\n",
    "tx = np.concatenate([tx[:class_num],tx[1+class_num:]])\n",
    "# Création du graphique\n",
    "plt.title(f'Representation of class {class_name}', fontsize=14)\n",
    "ty = softmax.cpu().numpy()\n",
    "plt.plot(tx, ty, marker='o', label='Classes')\n",
    "\n",
    "# Annotation des points\n",
    "for i, (x, y) in enumerate(zip(tx, ty)):\n",
    "    plt.text(x, y + 0.01, f'{y:.2f}', ha='center', fontsize=10)\n",
    "\n",
    "# Ajout des axes et personnalisation\n",
    "plt.xlabel(\"Classes\", fontsize=12)\n",
    "plt.ylabel(\"Softmax Value\", fontsize=12)\n",
    "plt.grid(alpha=0.3)\n",
    "plt.xticks(tx)\n",
    "plt.tight_layout()\n",
    "plt.show()"
   ]
  },
  {
   "cell_type": "code",
   "execution_count": 12,
   "metadata": {},
   "outputs": [
    {
     "name": "stdout",
     "output_type": "stream",
     "text": [
      "tensor(30.3277, device='mps:0')\n",
      "0 / 112\n",
      "tensor(0.0868, device='mps:0')\n",
      "10 / 112\n",
      "0.0\n",
      "tensor(35.9375, device='mps:0')\n",
      "0 / 112\n",
      "tensor(0.1736, device='mps:0')\n",
      "10 / 112\n",
      "0.0\n",
      "tensor(53.1250, device='mps:0')\n",
      "0 / 112\n",
      "tensor(0.2930, device='mps:0')\n",
      "10 / 112\n",
      "0.0\n",
      "tensor(42.1875, device='mps:0')\n",
      "0 / 112\n",
      "tensor(0.1356, device='mps:0')\n",
      "10 / 112\n",
      "0.0\n",
      "tensor(40.6250, device='mps:0')\n",
      "0 / 112\n",
      "tensor(0.3472, device='mps:0')\n",
      "10 / 112\n",
      "tensor(0.0002, device='mps:0')\n",
      "20 / 112\n",
      "0.0\n",
      "tensor(31.2500, device='mps:0')\n",
      "0 / 112\n",
      "tensor(0.0760, device='mps:0')\n",
      "10 / 112\n",
      "0.0\n",
      "tensor(39.0625, device='mps:0')\n",
      "0 / 112\n",
      "tensor(0.0868, device='mps:0')\n",
      "10 / 112\n",
      "0.0\n",
      "tensor(28.1250, device='mps:0')\n",
      "0 / 112\n",
      "tensor(0.1953, device='mps:0')\n",
      "10 / 112\n",
      "tensor(0.0054, device='mps:0')\n",
      "20 / 112\n",
      "0.0\n",
      "tensor(26.5625, device='mps:0')\n",
      "0 / 112\n",
      "tensor(0.3472, device='mps:0')\n",
      "10 / 112\n",
      "tensor(0.0868, device='mps:0')\n",
      "20 / 112\n",
      "tensor(0.0002, device='mps:0')\n",
      "30 / 112\n",
      "tensor(0.0002, device='mps:0')\n",
      "40 / 112\n",
      "0.0\n",
      "tensor(31.2500, device='mps:0')\n",
      "0 / 112\n",
      "tensor(0.1736, device='mps:0')\n",
      "10 / 112\n",
      "tensor(0.0868, device='mps:0')\n",
      "20 / 112\n",
      "0.0\n"
     ]
    }
   ],
   "source": [
    "optimizer = torch.optim.Adam(model.parameters(), lr=0.0001)\n",
    "untrain(model, softmax, device, forget_loader, retain_loader, optimizer, epochs = 10)"
   ]
  },
  {
   "cell_type": "code",
   "execution_count": 13,
   "metadata": {},
   "outputs": [
    {
     "data": {
      "text/plain": [
       "tensor([[9.9999e-01, 1.2980e-08, 5.4974e-08,  ..., 5.0132e-06, 1.6902e-08,\n",
       "         3.2344e-08],\n",
       "        [9.2310e-07, 7.4471e-06, 3.5729e-05,  ..., 8.5591e-07, 2.6379e-03,\n",
       "         7.3513e-04],\n",
       "        [2.8614e-07, 1.1573e-06, 1.0030e-05,  ..., 5.1751e-07, 9.9997e-01,\n",
       "         1.3718e-08],\n",
       "        ...,\n",
       "        [2.2230e-10, 1.5277e-11, 1.1990e-13,  ..., 3.4049e-08, 1.1092e-05,\n",
       "         6.3698e-07],\n",
       "        [9.3302e-07, 1.7934e-09, 9.9994e-01,  ..., 1.4921e-11, 5.9596e-05,\n",
       "         2.1487e-10],\n",
       "        [2.5276e-07, 1.7798e-11, 2.7849e-09,  ..., 9.9999e-01, 7.0678e-07,\n",
       "         4.8440e-12]], device='mps:0', grad_fn=<ExpBackward0>)"
      ]
     },
     "execution_count": 13,
     "metadata": {},
     "output_type": "execute_result"
    }
   ],
   "source": [
    "torch.exp(model(r_input_tensor))"
   ]
  },
  {
   "cell_type": "code",
   "execution_count": 14,
   "metadata": {},
   "outputs": [
    {
     "name": "stdout",
     "output_type": "stream",
     "text": [
      "previous loss : 0.025942083448171616\n",
      "unlearned model loss : 0.04335595667362213\n"
     ]
    }
   ],
   "source": [
    "print(f'previous loss : {loss}')\n",
    "loss = criterion(model(r_input_tensor), r_label_tensor)\n",
    "print(f'unlearned model loss : {loss}')"
   ]
  },
  {
   "cell_type": "markdown",
   "metadata": {},
   "source": [
    "# Sonde Attack"
   ]
  },
  {
   "cell_type": "code",
   "execution_count": 32,
   "metadata": {},
   "outputs": [
    {
     "data": {
      "text/plain": [
       "SondeNet(\n",
       "  (fc1): Linear(in_features=128, out_features=256, bias=True)\n",
       "  (fc2): Linear(in_features=256, out_features=10, bias=True)\n",
       "  (fc3): Linear(in_features=10, out_features=1, bias=True)\n",
       ")"
      ]
     },
     "execution_count": 32,
     "metadata": {},
     "output_type": "execute_result"
    }
   ],
   "source": [
    "sondeNet = SondeNet()\n",
    "sondeNet.to(device)\n",
    "sondeNet"
   ]
  },
  {
   "cell_type": "code",
   "execution_count": 16,
   "metadata": {},
   "outputs": [
    {
     "data": {
      "text/plain": [
       "{'0 - zero': <torch.utils.data.dataloader.DataLoader at 0x32b686630>,\n",
       " '1 - one': <torch.utils.data.dataloader.DataLoader at 0x32b6b4ef0>,\n",
       " '2 - two': <torch.utils.data.dataloader.DataLoader at 0x32b6b4fb0>,\n",
       " '3 - three': <torch.utils.data.dataloader.DataLoader at 0x32b6b5010>,\n",
       " '4 - four': <torch.utils.data.dataloader.DataLoader at 0x32b6b50d0>,\n",
       " '5 - five': <torch.utils.data.dataloader.DataLoader at 0x32b6b5190>,\n",
       " '6 - six': <torch.utils.data.dataloader.DataLoader at 0x32b6b5250>,\n",
       " '7 - seven': <torch.utils.data.dataloader.DataLoader at 0x32b6b5310>,\n",
       " '8 - eight': <torch.utils.data.dataloader.DataLoader at 0x32b6b53d0>,\n",
       " '9 - nine': <torch.utils.data.dataloader.DataLoader at 0x32b6b5490>}"
      ]
     },
     "execution_count": 16,
     "metadata": {},
     "output_type": "execute_result"
    }
   ],
   "source": [
    "loaders = test_loaders\n",
    "loaders"
   ]
  },
  {
   "cell_type": "markdown",
   "metadata": {},
   "source": [
    "# Create SondeNet Loader"
   ]
  },
  {
   "cell_type": "code",
   "execution_count": 17,
   "metadata": {},
   "outputs": [
    {
     "data": {
      "text/plain": [
       "ConvNet(\n",
       "  (conv1): Conv2d(1, 32, kernel_size=(3, 3), stride=(1, 1), padding=(1, 1))\n",
       "  (conv2): Conv2d(32, 64, kernel_size=(3, 3), stride=(1, 1), padding=(1, 1))\n",
       "  (conv2_drop): Dropout2d(p=0.25, inplace=False)\n",
       "  (fc1): Linear(in_features=3136, out_features=128, bias=True)\n",
       "  (fc2): Linear(in_features=128, out_features=9, bias=True)\n",
       ")"
      ]
     },
     "execution_count": 17,
     "metadata": {},
     "output_type": "execute_result"
    }
   ],
   "source": [
    "model"
   ]
  },
  {
   "cell_type": "code",
   "execution_count": 30,
   "metadata": {},
   "outputs": [],
   "source": [
    "import torch\n",
    "from torch.utils.data import DataLoader, Dataset\n",
    "\n",
    "forget_loader = loaders[class_name]\n",
    "retain_loader = filter_loaders(loaders, class_name, batch_size, shuffle=True, num_workers=num_workers)\n",
    "\n",
    "def sonde_activations(model, data, device=device):\n",
    "    input = data[0].to(device)\n",
    "    return get_activations(model, input, layer_num=-2, verbose=False)['activations']\n",
    "\n",
    "# Fonction pour appliquer my_func et associer les labels\n",
    "def create_combined_dataset(model, forget_loader, retain_loader, my_func):\n",
    "    combined_data = []\n",
    "    combined_labels = []\n",
    "\n",
    "    # Process data from forget_loader\n",
    "    n = 0\n",
    "    for data in forget_loader:\n",
    "        with torch.no_grad():\n",
    "            processed_data = my_func(model, data)\n",
    "        combined_data.append(processed_data)\n",
    "        combined_labels.append(torch.ones(len(processed_data)))  # Label 1 for forget_loader\n",
    "        n += 1\n",
    "\n",
    "    # Process data from retain_loader\n",
    "    for i, data in enumerate(retain_loader):\n",
    "        with torch.no_grad():\n",
    "            processed_data = my_func(model, data)\n",
    "        combined_data.append(processed_data)\n",
    "        combined_labels.append(torch.zeros(len(processed_data)))  # Label 0 for retain_loader\n",
    "        if i == n-1:\n",
    "            break\n",
    "\n",
    "    # Flatten lists and convert to tensors\n",
    "    combined_data = torch.cat(combined_data)\n",
    "    combined_labels = torch.cat(combined_labels)\n",
    "\n",
    "    return torch.utils.data.TensorDataset(combined_data, combined_labels)\n",
    "\n",
    "# Création du DataLoader combiné\n",
    "def create_combined_dataloader(model, forget_loader, retain_loader, my_func, batch_size, shuffle=True, num_workers=0):\n",
    "    combined_dataset = create_combined_dataset(model, forget_loader, retain_loader, my_func)\n",
    "    return DataLoader(combined_dataset, batch_size=batch_size, shuffle=shuffle, num_workers=num_workers)\n",
    "\n",
    "# Exemple d'utilisation\n",
    "# forget_loader et retain_loader doivent déjà être définis\n",
    "# my_func doit être une fonction prenant des données en entrée et retournant des données transformées\n",
    "batch_size = 32\n",
    "num_workers = 4\n",
    "sonde_loader = create_combined_dataloader(\n",
    "    model=model_no_seven,\n",
    "    forget_loader=forget_loader,\n",
    "    retain_loader=retain_loader,\n",
    "    my_func=sonde_activations,\n",
    "    batch_size=batch_size,\n",
    "    shuffle=True,\n",
    "    num_workers=0\n",
    ")"
   ]
  },
  {
   "cell_type": "code",
   "execution_count": null,
   "metadata": {},
   "outputs": [],
   "source": []
  },
  {
   "cell_type": "code",
   "execution_count": 33,
   "metadata": {},
   "outputs": [
    {
     "name": "stderr",
     "output_type": "stream",
     "text": [
      "Epoch 1/5: 100%|██████████| 294/294 [00:00<00:00, 2340.52it/s]\n"
     ]
    },
    {
     "name": "stdout",
     "output_type": "stream",
     "text": [
      "Epoch 1/5 - Loss: 0.0223 - Accuracy: 97.20%\n"
     ]
    },
    {
     "name": "stderr",
     "output_type": "stream",
     "text": [
      "Epoch 2/5: 100%|██████████| 294/294 [00:00<00:00, 2641.70it/s]\n"
     ]
    },
    {
     "name": "stdout",
     "output_type": "stream",
     "text": [
      "Epoch 2/5 - Loss: 0.0087 - Accuracy: 98.81%\n"
     ]
    },
    {
     "name": "stderr",
     "output_type": "stream",
     "text": [
      "Epoch 3/5: 100%|██████████| 294/294 [00:00<00:00, 2664.32it/s]\n"
     ]
    },
    {
     "name": "stdout",
     "output_type": "stream",
     "text": [
      "Epoch 3/5 - Loss: 0.0085 - Accuracy: 98.85%\n"
     ]
    },
    {
     "name": "stderr",
     "output_type": "stream",
     "text": [
      "Epoch 4/5: 100%|██████████| 294/294 [00:00<00:00, 2680.13it/s]\n"
     ]
    },
    {
     "name": "stdout",
     "output_type": "stream",
     "text": [
      "Epoch 4/5 - Loss: 0.0071 - Accuracy: 99.05%\n"
     ]
    },
    {
     "name": "stderr",
     "output_type": "stream",
     "text": [
      "Epoch 5/5: 100%|██████████| 294/294 [00:00<00:00, 2660.92it/s]"
     ]
    },
    {
     "name": "stdout",
     "output_type": "stream",
     "text": [
      "Epoch 5/5 - Loss: 0.0063 - Accuracy: 99.22%\n",
      "Entraînement terminé.\n"
     ]
    },
    {
     "name": "stderr",
     "output_type": "stream",
     "text": [
      "\n"
     ]
    }
   ],
   "source": [
    "import torch\n",
    "import torch.nn as nn\n",
    "import torch.optim as optim\n",
    "from tqdm import tqdm\n",
    "\n",
    "# Définition de la fonction d'entraînement\n",
    "def train_sondeNet(model, dataloader, criterion, optimizer, device, num_epochs=5):\n",
    "    model = model.to(device)  # Envoyer le modèle sur l'appareil (CPU ou GPU)\n",
    "    model.train()  # Mettre le modèle en mode entraînement\n",
    "    \n",
    "    for epoch in range(num_epochs):\n",
    "        running_loss = 0.0\n",
    "        correct = 0\n",
    "        total = 0\n",
    "\n",
    "        # Boucle sur le DataLoader\n",
    "        for inputs, labels in tqdm(dataloader, desc=f\"Epoch {epoch+1}/{num_epochs}\"):\n",
    "            inputs, labels = inputs.to(device), labels.to(device)\n",
    "\n",
    "            # Réinitialiser les gradients\n",
    "            optimizer.zero_grad()\n",
    "\n",
    "            # Forward pass\n",
    "            outputs = model(inputs).squeeze()  # Assurez-vous que la sortie est de la bonne forme\n",
    "            loss = criterion(outputs, labels)\n",
    "\n",
    "            # Backward pass et mise à jour des poids\n",
    "            loss.backward()\n",
    "            optimizer.step()\n",
    "\n",
    "            # Calcul des métriques\n",
    "            running_loss += loss.item()\n",
    "            predicted = (outputs > 0.5).float()  # Seuil pour prédire 0 ou 1\n",
    "            correct += (predicted == labels).sum().item()\n",
    "            total += labels.size(0)\n",
    "\n",
    "        # Affichage des statistiques d'entraînement\n",
    "        accuracy = 100 * correct / total\n",
    "        print(f\"Epoch {epoch+1}/{num_epochs} - Loss: {running_loss/len(dataloader):.4f} - Accuracy: {accuracy:.2f}%\")\n",
    "\n",
    "    print(\"Entraînement terminé.\")\n",
    "\n",
    "# Préparation du modèle, de la fonction de perte et de l'optimiseur\n",
    "device = torch.device(\"cuda\" if torch.cuda.is_available() else \"cpu\")\n",
    "sondeNet = sondeNet.to(device)  # Assurez-vous que votre modèle `sondeNet` est correctement défini\n",
    "criterion = nn.MSELoss()  # Perte binaire pour les sorties scalaires entre 0 et 1\n",
    "optimizer = optim.Adam(sondeNet.parameters(), lr=0.001)\n",
    "\n",
    "# Lancer l'entraînement\n",
    "train_sondeNet(sondeNet, sonde_loader, criterion, optimizer, device, num_epochs=5)"
   ]
  },
  {
   "cell_type": "code",
   "execution_count": 20,
   "metadata": {},
   "outputs": [
    {
     "data": {
      "text/plain": [
       "tensor([[2.9552e-05],\n",
       "        [1.0057e-11],\n",
       "        [2.6468e-07],\n",
       "        [9.9747e-01],\n",
       "        [5.2967e-08],\n",
       "        [1.0000e+00],\n",
       "        [1.0000e+00],\n",
       "        [2.3347e-08],\n",
       "        [9.9996e-01],\n",
       "        [9.9997e-01],\n",
       "        [1.0000e+00],\n",
       "        [1.0000e+00],\n",
       "        [9.9973e-01],\n",
       "        [2.7756e-11],\n",
       "        [1.0000e+00],\n",
       "        [1.0000e+00],\n",
       "        [9.5120e-06],\n",
       "        [5.4353e-07],\n",
       "        [5.8981e-07],\n",
       "        [8.1233e-06],\n",
       "        [1.0000e+00],\n",
       "        [1.5646e-05],\n",
       "        [9.9998e-01],\n",
       "        [1.3483e-10],\n",
       "        [9.9995e-01],\n",
       "        [7.6234e-12],\n",
       "        [9.9983e-01],\n",
       "        [9.9987e-01],\n",
       "        [1.1324e-06],\n",
       "        [1.0000e+00],\n",
       "        [1.3555e-09],\n",
       "        [1.0160e-05]], grad_fn=<SigmoidBackward0>)"
      ]
     },
     "execution_count": 20,
     "metadata": {},
     "output_type": "execute_result"
    }
   ],
   "source": [
    "# output of sondeNet\n",
    "data = next(iter(sonde_loader))\n",
    "input_tensor, label_tensor = data[0].to(device), data[1].to(device)\n",
    "output_tensor = sondeNet(input_tensor)\n",
    "output_tensor"
   ]
  },
  {
   "cell_type": "code",
   "execution_count": 29,
   "metadata": {},
   "outputs": [
    {
     "data": {
      "text/plain": [
       "ConvNet(\n",
       "  (conv1): Conv2d(1, 32, kernel_size=(3, 3), stride=(1, 1), padding=(1, 1))\n",
       "  (conv2): Conv2d(32, 64, kernel_size=(3, 3), stride=(1, 1), padding=(1, 1))\n",
       "  (conv2_drop): Dropout2d(p=0.25, inplace=False)\n",
       "  (fc1): Linear(in_features=3136, out_features=128, bias=True)\n",
       "  (fc2): Linear(in_features=128, out_features=9, bias=True)\n",
       ")"
      ]
     },
     "execution_count": 29,
     "metadata": {},
     "output_type": "execute_result"
    }
   ],
   "source": [
    "model_no_ = torch.load('./models/no_7 - seven.pth', weights_only=False)\n",
    "class_num = 7\n",
    "class_name = '7 - seven'\n",
    "model_no_seven = submodel(model_no_, class_num)\n",
    "model_no_seven.to(device)\n",
    "model_no_seven.eval()"
   ]
  }
 ],
 "metadata": {
  "kernelspec": {
   "display_name": "base",
   "language": "python",
   "name": "python3"
  },
  "language_info": {
   "codemirror_mode": {
    "name": "ipython",
    "version": 3
   },
   "file_extension": ".py",
   "mimetype": "text/x-python",
   "name": "python",
   "nbconvert_exporter": "python",
   "pygments_lexer": "ipython3",
   "version": "3.12.2"
  }
 },
 "nbformat": 4,
 "nbformat_minor": 2
}
