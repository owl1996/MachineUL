{
 "cells": [
  {
   "cell_type": "code",
   "execution_count": 18,
   "metadata": {},
   "outputs": [],
   "source": [
    "import torch\n",
    "import torch.nn as nn\n",
    "import torch.optim as optim\n",
    "import torch.nn.functional as F\n",
    "from torchvision import datasets, transforms\n",
    "from torch.utils.data import DataLoader, Subset"
   ]
  },
  {
   "cell_type": "code",
   "execution_count": 19,
   "metadata": {},
   "outputs": [],
   "source": [
    "class MNIST_Net(nn.Module):\n",
    "    def __init__(self):\n",
    "        super(MNIST_Net, self).__init__()\n",
    "        # Convolutional layers\n",
    "        self.conv1 = nn.Conv2d(1, 32, kernel_size=3)\n",
    "        self.conv2 = nn.Conv2d(32, 64, kernel_size=3)\n",
    "        self.conv2_drop = nn.Dropout2d(p=0.25)\n",
    "        # Fully connected layers\n",
    "        self.fc1 = nn.Linear(64 * 5 * 5, 128)  # Adapter la taille selon la sortie des convolutions\n",
    "        self.fc2 = nn.Linear(128, 10)\n",
    "\n",
    "    def forward(self, x):\n",
    "        x = F.relu(F.max_pool2d(self.conv1(x), 2))\n",
    "        x = F.relu(F.max_pool2d(self.conv2_drop(self.conv2(x)), 2))\n",
    "        x = x.view(-1, 64 * 5 * 5)  # Redimensionner pour la couche entièrement connectée\n",
    "        x = F.relu(self.fc1(x))\n",
    "        x = F.dropout(x, p=0.5, training=self.training)\n",
    "        x = self.fc2(x)\n",
    "        return F.log_softmax(x, dim=1)        "
   ]
  },
  {
   "cell_type": "code",
   "execution_count": 20,
   "metadata": {},
   "outputs": [],
   "source": [
    "def load_model(architecture, model_path):\n",
    "    model = architecture()  # Créer une instance du modèle\n",
    "    model.load_state_dict(torch.load(model_path))  # Charger les poids sauvegardés\n",
    "    model.eval()  # Mettre le modèle en mode évaluation\n",
    "    return model\n",
    "\n",
    "# Chemin du fichier contenant les poids sauvegardés\n",
    "model_path = \"models/mnist_cnn.pth\"\n",
    "\n",
    "# Charger le modèle avec les poids sauvegardés\n",
    "model = load_model(MNIST_Net, model_path)"
   ]
  },
  {
   "cell_type": "code",
   "execution_count": 49,
   "metadata": {},
   "outputs": [],
   "source": [
    "# Transformations\n",
    "transform = transforms.Compose([\n",
    "    transforms.ToTensor(),  # Convert images to PyTorch tensors\n",
    "    transforms.Normalize((0,), (1,))  # Normalize images\n",
    "])\n",
    "\n",
    "download = False\n",
    "\n",
    "# Load MNIST dataset\n",
    "train_set = datasets.MNIST(root='./data/', train=True, download=download, transform=transform)\n",
    "test_set = datasets.MNIST(root='./data/', train=False, download=download, transform=transform)\n",
    "\n",
    "# Function to split dataset by all classes in one pass\n",
    "def split_by_all_classes(dataset, num_classes=10):\n",
    "    class_indices = [[] for _ in range(num_classes)]  # List of lists to hold indices for each class\n",
    "\n",
    "    # Iterate once through the dataset to collect indices for each class\n",
    "    for idx, (_, label) in enumerate(dataset):\n",
    "        class_indices[label].append(idx)\n",
    "\n",
    "    # Create DataLoaders for each class\n",
    "    data_loaders = [DataLoader(Subset(dataset, indices), batch_size=batch_size, shuffle=True, num_workers=0)\n",
    "                    for indices in class_indices]\n",
    "    \n",
    "    return data_loaders\n",
    "\n",
    "# Batch size\n",
    "batch_size = 1000\n",
    "\n",
    "# Split training and test sets by all classes using the optimized approach\n",
    "train_loaders = split_by_all_classes(train_set)\n",
    "test_loaders = split_by_all_classes(test_set)"
   ]
  },
  {
   "cell_type": "code",
   "execution_count": 50,
   "metadata": {},
   "outputs": [
    {
     "data": {
      "text/plain": [
       "<matplotlib.image.AxesImage at 0x13fe69d90>"
      ]
     },
     "execution_count": 50,
     "metadata": {},
     "output_type": "execute_result"
    },
    {
     "data": {
      "image/png": "[encoded data removed]",
      "text/plain": [
       "<Figure size 640x480 with 1 Axes>"
      ]
     },
     "metadata": {},
     "output_type": "display_data"
    }
   ],
   "source": [
    "import matplotlib.pyplot as plt\n",
    "\n",
    "class_index = 7\n",
    "train_loader_class = train_loaders[class_index]\n",
    "\n",
    "plt.imshow(next(iter(train_loader_class))[0][0,0])"
   ]
  },
  {
   "cell_type": "code",
   "execution_count": 68,
   "metadata": {},
   "outputs": [],
   "source": [
    "optimizer = optim.Adam(model.parameters(), lr=0.001)\n",
    "criterion = nn.CrossEntropyLoss()\n",
    "\n",
    "def test(model, device, test_loader):\n",
    "    model.eval()\n",
    "    test_loss = 0\n",
    "    correct = 0\n",
    "    with torch.no_grad():\n",
    "        for data, target in test_loader:\n",
    "            data, target = data.to(device), target.to(device)\n",
    "            output = model(data)\n",
    "            test_loss += criterion(output, target).item()  # Ajouter la perte sur l'ensemble des données de test\n",
    "            pred = output.argmax(dim=1, keepdim=True)  # Trouver la classe prédite\n",
    "            correct += pred.eq(target.view_as(pred)).sum().item()\n",
    "\n",
    "    test_loss /= len(test_loader.dataset)\n",
    "    accuracy = 100. * correct / len(test_loader.dataset)\n",
    "    # print(f'\\nTest set: Average loss: {test_loss:.4f}, Accuracy: {correct}/{len(test_loader.dataset)} '\n",
    "    #       f'({accuracy:.2f}%)\\n')\n",
    "    return accuracy"
   ]
  },
  {
   "cell_type": "code",
   "execution_count": 75,
   "metadata": {},
   "outputs": [
    {
     "data": {
      "text/plain": [
       "{0: 99.38775510204081,\n",
       " 1: 99.64757709251101,\n",
       " 2: 99.03100775193798,\n",
       " 3: 98.41584158415841,\n",
       " 4: 98.57433808553971,\n",
       " 5: 98.54260089686099,\n",
       " 6: 98.64300626304802,\n",
       " 7: 98.44357976653697,\n",
       " 8: 97.53593429158111,\n",
       " 9: 96.33300297324084}"
      ]
     },
     "execution_count": 75,
     "metadata": {},
     "output_type": "execute_result"
    }
   ],
   "source": [
    "device = torch.device(\"mps\")\n",
    "model.to(device)\n",
    "\n",
    "test_scores = {}\n",
    "for class_index in range(10):\n",
    "    test_loader_class = test_loaders[class_index]\n",
    "    test_scores[class_index] = test(model, device, test_loader_class)\n",
    "\n",
    "test_scores"
   ]
  },
  {
   "cell_type": "code",
   "execution_count": 74,
   "metadata": {},
   "outputs": [
    {
     "name": "stdout",
     "output_type": "stream",
     "text": [
      "tensor([1.], device='mps:0')\n"
     ]
    }
   ],
   "source": [
    "import torch\n",
    "if torch.backends.mps.is_available():\n",
    "    mps_device = torch.device(\"mps\")\n",
    "    x = torch.ones(1, device=mps_device)\n",
    "    print (x)\n",
    "else:\n",
    "    print (\"MPS device not found.\")\n"
   ]
  },
  {
   "cell_type": "code",
   "execution_count": null,
   "metadata": {},
   "outputs": [],
   "source": []
  }
 ],
 "metadata": {
  "kernelspec": {
   "display_name": "Python 3",
   "language": "python",
   "name": "python3"
  },
  "language_info": {
   "codemirror_mode": {
    "name": "ipython",
    "version": 3
   },
   "file_extension": ".py",
   "mimetype": "text/x-python",
   "name": "python",
   "nbconvert_exporter": "python",
   "pygments_lexer": "ipython3",
   "version": "3.9.6"
  }
 },
 "nbformat": 4,
 "nbformat_minor": 2
}
