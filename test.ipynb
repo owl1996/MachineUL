{
 "cells": [
  {
   "cell_type": "code",
   "execution_count": 1,
   "metadata": {},
   "outputs": [
    {
     "name": "stdout",
     "output_type": "stream",
     "text": [
      "tensor([1.], device='mps:0')\n"
     ]
    }
   ],
   "source": [
    "import torch\n",
    "import torch.nn as nn\n",
    "import torch.optim as optim\n",
    "import torch.nn.functional as F\n",
    "from torchvision import datasets, transforms\n",
    "from torch.utils.data import DataLoader, Subset\n",
    "import random\n",
    "from utils import loaders_by_classes, filter_loaders, balance\n",
    "import matplotlib.pyplot as plt\n",
    "import numpy as np\n",
    "\n",
    "if torch.backends.mps.is_available():\n",
    "    device = torch.device(\"mps\")\n",
    "    x = torch.ones(1, device=device)\n",
    "    print(x)\n",
    "else:\n",
    "    print(\"MPS device not found.\")"
   ]
  },
  {
   "cell_type": "code",
   "execution_count": 2,
   "metadata": {},
   "outputs": [
    {
     "name": "stdout",
     "output_type": "stream",
     "text": [
      "Nombre de CPU logiques (threads) disponibles : 12\n"
     ]
    }
   ],
   "source": [
    "import os\n",
    "num_workers = os.cpu_count()\n",
    "print(f\"Nombre de CPU logiques (threads) disponibles : {num_workers}\")"
   ]
  },
  {
   "cell_type": "code",
   "execution_count": 3,
   "metadata": {},
   "outputs": [],
   "source": [
    "transform = transforms.Compose([\n",
    "    transforms.ToTensor(),  # Convert images to PyTorch tensors\n",
    "    transforms.Normalize((0,), (1,))  # Normalize images\n",
    "])\n",
    "\n",
    "train_set = datasets.MNIST(root='./data', train=True, download=True, transform=transform)\n",
    "test_set = datasets.MNIST(root='./data', train=False, download=True, transform=transform)\n",
    "\n",
    "batch_size = 100\n",
    "\n",
    "train_loaders = loaders_by_classes(train_set, batch_size=batch_size, shuffle=True, num_workers=num_workers) \n",
    "test_loaders = loaders_by_classes(test_set, batch_size=batch_size, shuffle=True, num_workers=num_workers) "
   ]
  },
  {
   "cell_type": "code",
   "execution_count": 4,
   "metadata": {},
   "outputs": [
    {
     "data": {
      "text/plain": [
       "{'0 - zero': 5923,\n",
       " '1 - one': 6742,\n",
       " '2 - two': 5958,\n",
       " '3 - three': 6131,\n",
       " '4 - four': 5842,\n",
       " '5 - five': 5421,\n",
       " '6 - six': 5918,\n",
       " '7 - seven': 6265,\n",
       " '8 - eight': 5851,\n",
       " '9 - nine': 5949}"
      ]
     },
     "execution_count": 4,
     "metadata": {},
     "output_type": "execute_result"
    }
   ],
   "source": [
    "balance(train_loaders)"
   ]
  },
  {
   "cell_type": "code",
   "execution_count": 5,
   "metadata": {},
   "outputs": [],
   "source": [
    "class ConvNet(nn.Module):\n",
    "    def __init__(self):\n",
    "        super(ConvNet, self).__init__()\n",
    "        # Convolutional layers\n",
    "        self.conv1 = nn.Conv2d(1, 32, kernel_size=3, padding=1)  # 1 channel for grayscale images\n",
    "        self.conv2 = nn.Conv2d(32, 64, kernel_size=3, padding=1)\n",
    "        self.conv2_drop = nn.Dropout2d(p=0.25)\n",
    "        \n",
    "        # Fully connected layers\n",
    "        self.fc1 = nn.Linear(64 * 7 * 7, 128)  # 7x7 is the result of pooling twice from 28x28\n",
    "        self.fc2 = nn.Linear(128, 10)  # 10 classes for MNIST\n",
    "\n",
    "    def forward(self, x):\n",
    "        x = F.relu(F.max_pool2d(self.conv1(x), 2))  # Output: [batch_size, 32, 14, 14]\n",
    "        x = F.relu(F.max_pool2d(self.conv2_drop(self.conv2(x)), 2))  # Output: [batch_size, 64, 7, 7]\n",
    "        x = x.view(-1, 64 * 7 * 7)  # Flatten the tensor for fully connected layer\n",
    "        x = F.relu(self.fc1(x))\n",
    "        x = F.dropout(x, p=0.25, training=self.training)\n",
    "        x = self.fc2(x)\n",
    "        return F.log_softmax(x, dim=1)\n",
    "    \n",
    "# 6. Fonction pour entraîner le modèle\n",
    "def train(model, device, train_loader, optimizer, epoch):\n",
    "    model.train()\n",
    "    for batch_idx, (data, target) in enumerate(train_loader):\n",
    "        data, target = data.to(device), target.to(device)\n",
    "        optimizer.zero_grad()  # Réinitialiser les gradients\n",
    "        output = model(data)  # Faire une prédiction\n",
    "        loss = criterion(output, target)  # Calculer la perte\n",
    "        loss.backward()  # Rétropropagation\n",
    "        optimizer.step()  # Mise à jour des paramètres\n",
    "\n",
    "        if batch_idx % 100 == 0:\n",
    "            print(f'Train Epoch: {epoch} [{batch_idx * len(data)}/{len(train_loader.dataset)} '\n",
    "                  f'({100. * batch_idx / len(train_loader):.0f}%)]\\tLoss: {loss.item():.6f}')\n",
    "\n",
    "# 7. Fonction pour tester le modèle\n",
    "def test(model, device, test_loader):\n",
    "    model.eval()\n",
    "    test_loss = 0\n",
    "    correct = 0\n",
    "    with torch.no_grad():\n",
    "        for data, target in test_loader:\n",
    "            data, target = data.to(device), target.to(device)\n",
    "            output = model(data)\n",
    "            test_loss += criterion(output, target).item()  # Ajouter la perte sur l'ensemble des données de test\n",
    "            pred = output.argmax(dim=1, keepdim=True)  # Trouver la classe prédite\n",
    "            correct += pred.eq(target.view_as(pred)).sum().item()\n",
    "\n",
    "    test_loss /= len(test_loader.dataset)\n",
    "    accuracy = 100. * correct / len(test_loader.dataset)\n",
    "    print(f'\\nTest set: Average loss: {test_loss:.4f}, Accuracy: {correct}/{len(test_loader.dataset)} '\n",
    "          f'({accuracy:.2f}%)\\n')\n",
    "    return accuracy"
   ]
  },
  {
   "cell_type": "code",
   "execution_count": 6,
   "metadata": {},
   "outputs": [],
   "source": [
    "test_loader = filter_loaders(test_loaders, None, batch_size, shuffle=True, num_workers=0)\n",
    "data, target = next(iter(test_loader))"
   ]
  },
  {
   "cell_type": "code",
   "execution_count": 7,
   "metadata": {},
   "outputs": [
    {
     "data": {
      "text/plain": [
       "torch.Size([100, 1, 28, 28])"
      ]
     },
     "execution_count": 7,
     "metadata": {},
     "output_type": "execute_result"
    }
   ],
   "source": [
    "data.size()"
   ]
  },
  {
   "cell_type": "code",
   "execution_count": 8,
   "metadata": {},
   "outputs": [],
   "source": [
    "test_loader = filter_loaders(test_loaders, None, batch_size, shuffle=True, num_workers=0)\n",
    "data, target = next(iter(test_loader))\n",
    "model = torch.load('./models/all_class.pth', weights_only=False)\n",
    "model.eval()\n",
    "data = data.to(device)"
   ]
  },
  {
   "cell_type": "code",
   "execution_count": 9,
   "metadata": {},
   "outputs": [],
   "source": [
    "last_layer_name, last_layer = list(model.named_children())[-1]"
   ]
  },
  {
   "cell_type": "code",
   "execution_count": 10,
   "metadata": {},
   "outputs": [
    {
     "data": {
      "text/plain": [
       "Linear(in_features=128, out_features=10, bias=True)"
      ]
     },
     "execution_count": 10,
     "metadata": {},
     "output_type": "execute_result"
    }
   ],
   "source": [
    "getattr(model, last_layer_name)"
   ]
  },
  {
   "cell_type": "code",
   "execution_count": 11,
   "metadata": {},
   "outputs": [],
   "source": [
    "w,b = getattr(model, last_layer_name).parameters()"
   ]
  },
  {
   "cell_type": "code",
   "execution_count": 12,
   "metadata": {},
   "outputs": [
    {
     "data": {
      "text/plain": [
       "torch.Size([10])"
      ]
     },
     "execution_count": 12,
     "metadata": {},
     "output_type": "execute_result"
    }
   ],
   "source": [
    "b.size()"
   ]
  },
  {
   "cell_type": "code",
   "execution_count": 13,
   "metadata": {},
   "outputs": [
    {
     "name": "stdout",
     "output_type": "stream",
     "text": [
      "True\n",
      "True\n",
      "True\n",
      "True\n",
      "True\n",
      "True\n",
      "True\n",
      "True\n",
      "True\n",
      "True\n"
     ]
    }
   ],
   "source": [
    "for _b in b:\n",
    "    print(_b.requires_grad)"
   ]
  },
  {
   "cell_type": "code",
   "execution_count": 14,
   "metadata": {},
   "outputs": [
    {
     "data": {
      "text/plain": [
       "True"
      ]
     },
     "execution_count": 14,
     "metadata": {},
     "output_type": "execute_result"
    }
   ],
   "source": [
    "next(getattr(model, last_layer_name).parameters()).requires_grad"
   ]
  },
  {
   "cell_type": "code",
   "execution_count": 15,
   "metadata": {},
   "outputs": [],
   "source": [
    "w = next(last_layer.parameters())\n",
    "w0 = w[0,0]\n",
    "w0 = w0.detach()"
   ]
  },
  {
   "cell_type": "code",
   "execution_count": 16,
   "metadata": {},
   "outputs": [
    {
     "data": {
      "text/plain": [
       "False"
      ]
     },
     "execution_count": 16,
     "metadata": {},
     "output_type": "execute_result"
    }
   ],
   "source": [
    "w0.requires_grad"
   ]
  },
  {
   "cell_type": "code",
   "execution_count": 17,
   "metadata": {},
   "outputs": [
    {
     "data": {
      "text/plain": [
       "False"
      ]
     },
     "execution_count": 17,
     "metadata": {},
     "output_type": "execute_result"
    }
   ],
   "source": [
    "w0 = last_layer.weight.data[0,0]\n",
    "w0.requires_grad"
   ]
  },
  {
   "cell_type": "code",
   "execution_count": 18,
   "metadata": {},
   "outputs": [],
   "source": [
    "output = model(data)\n",
    "target = target.to(device)\n",
    "criterion = nn.CrossEntropyLoss()\n",
    "loss = criterion(output, target)\n",
    "loss.retain_grad()"
   ]
  },
  {
   "cell_type": "code",
   "execution_count": 19,
   "metadata": {},
   "outputs": [],
   "source": [
    "loss.backward()"
   ]
  },
  {
   "cell_type": "code",
   "execution_count": 20,
   "metadata": {},
   "outputs": [
    {
     "data": {
      "text/plain": [
       "tensor(1., device='mps:0')"
      ]
     },
     "execution_count": 20,
     "metadata": {},
     "output_type": "execute_result"
    }
   ],
   "source": [
    "loss.grad"
   ]
  },
  {
   "cell_type": "code",
   "execution_count": 21,
   "metadata": {},
   "outputs": [],
   "source": [
    "import torch\n",
    "\n",
    "def get_jacobian(model, data, last_layer_name):\n",
    "    \"\"\"\n",
    "    Pour un modèle `model`, un batch de données `data`, et le nom d'une couche intermédiaire `last_layer_name`,\n",
    "    cette fonction retourne le Jacobien de la couche spécifiée par rapport aux paramètres du modèle.\n",
    "\n",
    "    Args:\n",
    "        model (torch.nn.Module): Le modèle PyTorch.\n",
    "        data (torch.Tensor): Un batch de données (batch_size, channels, height, width).\n",
    "        last_layer_name (str): Le nom de la couche intermédiaire pour laquelle calculer le Jacobien.\n",
    "\n",
    "    Returns:\n",
    "        torch.Tensor: Le Jacobien de la couche spécifiée par rapport aux paramètres du modèle.\n",
    "                      Shape: [batch_size, layer_output_dim, num_parameters]\n",
    "    \"\"\"\n",
    "    model.eval()  # Mettre le modèle en mode évaluation\n",
    "    \n",
    "    # Variable pour stocker la sortie de la couche intermédiaire\n",
    "    layer_output = None\n",
    "\n",
    "    # Hook pour capturer la sortie de la couche spécifiée\n",
    "    def hook(module, input, output):\n",
    "        nonlocal layer_output\n",
    "        layer_output = output\n",
    "\n",
    "    # Enregistrer le hook sur la couche spécifiée\n",
    "    layer = dict(model.named_modules())[last_layer_name]\n",
    "    hook_handle = layer.register_forward_hook(hook)\n",
    "\n",
    "    # Exécuter une passe avant pour obtenir la sortie de la couche\n",
    "    model(data)\n",
    "    \n",
    "    # Supprimer le hook après avoir capturé la sortie\n",
    "    hook_handle.remove()\n",
    "\n",
    "    # S'assurer que la sortie de la couche cible a été capturée\n",
    "    if layer_output is None:\n",
    "        raise ValueError(f\"La couche '{last_layer_name}' n'a pas produit de sortie. Vérifiez le nom de la couche.\")\n",
    "\n",
    "    # On a besoin de \"layer_output\" en tant que cible du Jacobien, et des paramètres du modèle\n",
    "    params = list(model.parameters())\n",
    "    num_parameters = sum(p.numel() for p in params)  # Nombre total de paramètres\n",
    "\n",
    "    # Redimensionner la sortie de la couche pour un traitement plus simple\n",
    "    batch_size = layer_output.size(0)\n",
    "    layer_output_flat = layer_output.view(batch_size, -1)  # Flatten layer output per sample\n",
    "    layer_output_dim = layer_output_flat.size(1)\n",
    "\n",
    "    # Calculer le Jacobien pour chaque échantillon du batch\n",
    "    jacobians = []\n",
    "    for i in range(batch_size):\n",
    "        # Fonction pour calculer la sortie aplatie de la couche intermédiaire pour un échantillon\n",
    "        def single_output(*model_params):\n",
    "            idx = 0\n",
    "            for param, model_param in zip(params, model_params):\n",
    "                param.data = model_param.data  # Mettre à jour les paramètres du modèle\n",
    "                idx += 1\n",
    "            return layer_output_flat[i]\n",
    "\n",
    "        # Calcul du Jacobien de la couche spécifiée pour l'échantillon `i`\n",
    "        jacobian_i = torch.autograd.functional.jacobian(single_output, tuple(params), create_graph=True)\n",
    "        \n",
    "        # Transformer le Jacobien en un vecteur de forme [layer_output_dim, num_parameters]\n",
    "        jacobian_i = torch.cat([j.view(-1) for j in jacobian_i], dim=0).view(layer_output_dim, num_parameters)\n",
    "        jacobians.append(jacobian_i)\n",
    "\n",
    "    # Empiler les Jacobians pour chaque échantillon du batch\n",
    "    jacobian_matrix = torch.stack(jacobians)  # Shape: [batch_size, layer_output_dim, num_parameters]\n",
    "\n",
    "    return jacobian_matrix"
   ]
  },
  {
   "cell_type": "code",
   "execution_count": 22,
   "metadata": {},
   "outputs": [
    {
     "data": {
      "text/plain": [
       "tensor(0., device='mps:0')"
      ]
     },
     "execution_count": 22,
     "metadata": {},
     "output_type": "execute_result"
    }
   ],
   "source": [
    "data = data.to(device)\n",
    "model(data)\n",
    "torch.max(get_jacobian(model, data, last_layer_name))"
   ]
  },
  {
   "cell_type": "code",
   "execution_count": 23,
   "metadata": {},
   "outputs": [
    {
     "name": "stdout",
     "output_type": "stream",
     "text": [
      "Jacobian shape: torch.Size([100, 10, 421642])\n"
     ]
    }
   ],
   "source": [
    "# Forward pass to get `y` at some layer\n",
    "y = model(data)\n",
    "\n",
    "# Create a list to store the Jacobians\n",
    "jacobians = []\n",
    "\n",
    "# Loop over each element in the batch\n",
    "for i in range(batch_size):\n",
    "    # Initialize Jacobian matrix for this element in the batch\n",
    "    jacobian = []\n",
    "    \n",
    "    # Loop over each output element in `y` for this data point\n",
    "    for j in range(y.shape[1]):\n",
    "        # Zero gradients\n",
    "        model.zero_grad()\n",
    "        \n",
    "        # Backward pass for each output element in `y`\n",
    "        y[i, j].backward(retain_graph=True)\n",
    "        \n",
    "        # Collect the gradients with respect to each parameter\n",
    "        grads = torch.cat([param.grad.view(-1) for param in model.parameters()])\n",
    "        \n",
    "        # Append the gradient (row of the Jacobian) to the jacobian list\n",
    "        jacobian.append(grads)\n",
    "    \n",
    "    # Stack the gradients to form a matrix and add it to the jacobians list\n",
    "    jacobians.append(torch.stack(jacobian))\n",
    "\n",
    "# Stack the jacobians for each data point in the batch\n",
    "jacobian_matrix = torch.stack(jacobians)  # Shape: [batch_size, y_dim, num_params]\n",
    "\n",
    "print(\"Jacobian shape:\", jacobian_matrix.shape)"
   ]
  },
  {
   "cell_type": "code",
   "execution_count": 24,
   "metadata": {},
   "outputs": [
    {
     "ename": "RuntimeError",
     "evalue": "linear(): input and weight.T shapes cannot be multiplied (100x10 and 128x10)",
     "output_type": "error",
     "traceback": [
      "\u001b[0;31m---------------------------------------------------------------------------\u001b[0m",
      "\u001b[0;31mRuntimeError\u001b[0m                              Traceback (most recent call last)",
      "Cell \u001b[0;32mIn[24], line 10\u001b[0m\n\u001b[1;32m      7\u001b[0m     \u001b[38;5;28;01mreturn\u001b[39;00m \u001b[38;5;28mgetattr\u001b[39m(model, last_layer_name)(output)\n\u001b[1;32m      9\u001b[0m \u001b[38;5;66;03m# Compute the Jacobian with respect to the input `data`\u001b[39;00m\n\u001b[0;32m---> 10\u001b[0m jacobian_matrix \u001b[38;5;241m=\u001b[39m \u001b[43mtorch\u001b[49m\u001b[38;5;241;43m.\u001b[39;49m\u001b[43mautograd\u001b[49m\u001b[38;5;241;43m.\u001b[39;49m\u001b[43mfunctional\u001b[49m\u001b[38;5;241;43m.\u001b[39;49m\u001b[43mjacobian\u001b[49m\u001b[43m(\u001b[49m\u001b[43mmodel_last_layer_output\u001b[49m\u001b[43m,\u001b[49m\u001b[43m \u001b[49m\u001b[43mdata\u001b[49m\u001b[43m)\u001b[49m\n\u001b[1;32m     12\u001b[0m \u001b[38;5;28mprint\u001b[39m(\u001b[38;5;124m\"\u001b[39m\u001b[38;5;124mJacobian shape:\u001b[39m\u001b[38;5;124m\"\u001b[39m, jacobian_matrix\u001b[38;5;241m.\u001b[39mshape)\n",
      "File \u001b[0;32m~/miniconda3/lib/python3.12/site-packages/torch/autograd/functional.py:677\u001b[0m, in \u001b[0;36mjacobian\u001b[0;34m(func, inputs, create_graph, strict, vectorize, strategy)\u001b[0m\n\u001b[1;32m    674\u001b[0m is_inputs_tuple, inputs \u001b[38;5;241m=\u001b[39m _as_tuple(inputs, \u001b[38;5;124m\"\u001b[39m\u001b[38;5;124minputs\u001b[39m\u001b[38;5;124m\"\u001b[39m, \u001b[38;5;124m\"\u001b[39m\u001b[38;5;124mjacobian\u001b[39m\u001b[38;5;124m\"\u001b[39m)\n\u001b[1;32m    675\u001b[0m inputs \u001b[38;5;241m=\u001b[39m _grad_preprocess(inputs, create_graph\u001b[38;5;241m=\u001b[39mcreate_graph, need_graph\u001b[38;5;241m=\u001b[39m\u001b[38;5;28;01mTrue\u001b[39;00m)\n\u001b[0;32m--> 677\u001b[0m outputs \u001b[38;5;241m=\u001b[39m \u001b[43mfunc\u001b[49m\u001b[43m(\u001b[49m\u001b[38;5;241;43m*\u001b[39;49m\u001b[43minputs\u001b[49m\u001b[43m)\u001b[49m\n\u001b[1;32m    678\u001b[0m is_outputs_tuple, outputs \u001b[38;5;241m=\u001b[39m _as_tuple(\n\u001b[1;32m    679\u001b[0m     outputs, \u001b[38;5;124m\"\u001b[39m\u001b[38;5;124moutputs of the user-provided function\u001b[39m\u001b[38;5;124m\"\u001b[39m, \u001b[38;5;124m\"\u001b[39m\u001b[38;5;124mjacobian\u001b[39m\u001b[38;5;124m\"\u001b[39m\n\u001b[1;32m    680\u001b[0m )\n\u001b[1;32m    681\u001b[0m _check_requires_grad(outputs, \u001b[38;5;124m\"\u001b[39m\u001b[38;5;124moutputs\u001b[39m\u001b[38;5;124m\"\u001b[39m, strict\u001b[38;5;241m=\u001b[39mstrict)\n",
      "Cell \u001b[0;32mIn[24], line 7\u001b[0m, in \u001b[0;36mmodel_last_layer_output\u001b[0;34m(data)\u001b[0m\n\u001b[1;32m      5\u001b[0m \u001b[38;5;28;01mdef\u001b[39;00m \u001b[38;5;21mmodel_last_layer_output\u001b[39m(data):\n\u001b[1;32m      6\u001b[0m     output \u001b[38;5;241m=\u001b[39m model(data)\n\u001b[0;32m----> 7\u001b[0m     \u001b[38;5;28;01mreturn\u001b[39;00m \u001b[38;5;28;43mgetattr\u001b[39;49m\u001b[43m(\u001b[49m\u001b[43mmodel\u001b[49m\u001b[43m,\u001b[49m\u001b[43m \u001b[49m\u001b[43mlast_layer_name\u001b[49m\u001b[43m)\u001b[49m\u001b[43m(\u001b[49m\u001b[43moutput\u001b[49m\u001b[43m)\u001b[49m\n",
      "File \u001b[0;32m~/miniconda3/lib/python3.12/site-packages/torch/nn/modules/module.py:1736\u001b[0m, in \u001b[0;36mModule._wrapped_call_impl\u001b[0;34m(self, *args, **kwargs)\u001b[0m\n\u001b[1;32m   1734\u001b[0m     \u001b[38;5;28;01mreturn\u001b[39;00m \u001b[38;5;28mself\u001b[39m\u001b[38;5;241m.\u001b[39m_compiled_call_impl(\u001b[38;5;241m*\u001b[39margs, \u001b[38;5;241m*\u001b[39m\u001b[38;5;241m*\u001b[39mkwargs)  \u001b[38;5;66;03m# type: ignore[misc]\u001b[39;00m\n\u001b[1;32m   1735\u001b[0m \u001b[38;5;28;01melse\u001b[39;00m:\n\u001b[0;32m-> 1736\u001b[0m     \u001b[38;5;28;01mreturn\u001b[39;00m \u001b[38;5;28;43mself\u001b[39;49m\u001b[38;5;241;43m.\u001b[39;49m\u001b[43m_call_impl\u001b[49m\u001b[43m(\u001b[49m\u001b[38;5;241;43m*\u001b[39;49m\u001b[43margs\u001b[49m\u001b[43m,\u001b[49m\u001b[43m \u001b[49m\u001b[38;5;241;43m*\u001b[39;49m\u001b[38;5;241;43m*\u001b[39;49m\u001b[43mkwargs\u001b[49m\u001b[43m)\u001b[49m\n",
      "File \u001b[0;32m~/miniconda3/lib/python3.12/site-packages/torch/nn/modules/module.py:1747\u001b[0m, in \u001b[0;36mModule._call_impl\u001b[0;34m(self, *args, **kwargs)\u001b[0m\n\u001b[1;32m   1742\u001b[0m \u001b[38;5;66;03m# If we don't have any hooks, we want to skip the rest of the logic in\u001b[39;00m\n\u001b[1;32m   1743\u001b[0m \u001b[38;5;66;03m# this function, and just call forward.\u001b[39;00m\n\u001b[1;32m   1744\u001b[0m \u001b[38;5;28;01mif\u001b[39;00m \u001b[38;5;129;01mnot\u001b[39;00m (\u001b[38;5;28mself\u001b[39m\u001b[38;5;241m.\u001b[39m_backward_hooks \u001b[38;5;129;01mor\u001b[39;00m \u001b[38;5;28mself\u001b[39m\u001b[38;5;241m.\u001b[39m_backward_pre_hooks \u001b[38;5;129;01mor\u001b[39;00m \u001b[38;5;28mself\u001b[39m\u001b[38;5;241m.\u001b[39m_forward_hooks \u001b[38;5;129;01mor\u001b[39;00m \u001b[38;5;28mself\u001b[39m\u001b[38;5;241m.\u001b[39m_forward_pre_hooks\n\u001b[1;32m   1745\u001b[0m         \u001b[38;5;129;01mor\u001b[39;00m _global_backward_pre_hooks \u001b[38;5;129;01mor\u001b[39;00m _global_backward_hooks\n\u001b[1;32m   1746\u001b[0m         \u001b[38;5;129;01mor\u001b[39;00m _global_forward_hooks \u001b[38;5;129;01mor\u001b[39;00m _global_forward_pre_hooks):\n\u001b[0;32m-> 1747\u001b[0m     \u001b[38;5;28;01mreturn\u001b[39;00m \u001b[43mforward_call\u001b[49m\u001b[43m(\u001b[49m\u001b[38;5;241;43m*\u001b[39;49m\u001b[43margs\u001b[49m\u001b[43m,\u001b[49m\u001b[43m \u001b[49m\u001b[38;5;241;43m*\u001b[39;49m\u001b[38;5;241;43m*\u001b[39;49m\u001b[43mkwargs\u001b[49m\u001b[43m)\u001b[49m\n\u001b[1;32m   1749\u001b[0m result \u001b[38;5;241m=\u001b[39m \u001b[38;5;28;01mNone\u001b[39;00m\n\u001b[1;32m   1750\u001b[0m called_always_called_hooks \u001b[38;5;241m=\u001b[39m \u001b[38;5;28mset\u001b[39m()\n",
      "File \u001b[0;32m~/miniconda3/lib/python3.12/site-packages/torch/nn/modules/linear.py:125\u001b[0m, in \u001b[0;36mLinear.forward\u001b[0;34m(self, input)\u001b[0m\n\u001b[1;32m    124\u001b[0m \u001b[38;5;28;01mdef\u001b[39;00m \u001b[38;5;21mforward\u001b[39m(\u001b[38;5;28mself\u001b[39m, \u001b[38;5;28minput\u001b[39m: Tensor) \u001b[38;5;241m-\u001b[39m\u001b[38;5;241m>\u001b[39m Tensor:\n\u001b[0;32m--> 125\u001b[0m     \u001b[38;5;28;01mreturn\u001b[39;00m \u001b[43mF\u001b[49m\u001b[38;5;241;43m.\u001b[39;49m\u001b[43mlinear\u001b[49m\u001b[43m(\u001b[49m\u001b[38;5;28;43minput\u001b[39;49m\u001b[43m,\u001b[49m\u001b[43m \u001b[49m\u001b[38;5;28;43mself\u001b[39;49m\u001b[38;5;241;43m.\u001b[39;49m\u001b[43mweight\u001b[49m\u001b[43m,\u001b[49m\u001b[43m \u001b[49m\u001b[38;5;28;43mself\u001b[39;49m\u001b[38;5;241;43m.\u001b[39;49m\u001b[43mbias\u001b[49m\u001b[43m)\u001b[49m\n",
      "\u001b[0;31mRuntimeError\u001b[0m: linear(): input and weight.T shapes cannot be multiplied (100x10 and 128x10)"
     ]
    }
   ],
   "source": [
    "\n",
    "# Get the last layer\n",
    "last_layer_name, last_layer = list(model.named_children())[-1]\n",
    "\n",
    "# Define a function that computes the output of the last layer\n",
    "def model_last_layer_output(data):\n",
    "    output = model(data)\n",
    "    return getattr(model, last_layer_name)(output)\n",
    "\n",
    "# Compute the Jacobian with respect to the input `data`\n",
    "jacobian_matrix = torch.autograd.functional.jacobian(model_last_layer_output, data)\n",
    "\n",
    "print(\"Jacobian shape:\", jacobian_matrix.shape)"
   ]
  },
  {
   "cell_type": "code",
   "execution_count": null,
   "metadata": {},
   "outputs": [
    {
     "name": "stdout",
     "output_type": "stream",
     "text": [
      "Jacobian shape: torch.Size([100, 10, 421642])\n"
     ]
    }
   ],
   "source": [
    "data = data.to(device)\n",
    "\n",
    "# Forward pass to get `y` at some layer\n",
    "y = model(data)\n",
    "\n",
    "# Create a list to store the Jacobians\n",
    "jacobians = []\n",
    "\n",
    "# Loop over each element in the batch\n",
    "for i in range(batch_size):\n",
    "    # Initialize Jacobian matrix for this element in the batch\n",
    "    jacobian = []\n",
    "    \n",
    "    # Loop over each output element in `y` for this data point\n",
    "    for j in range(y.shape[1]):\n",
    "        # Zero gradients\n",
    "        model.zero_grad()\n",
    "        \n",
    "        # Backward pass for each output element in `y`\n",
    "        y[i, j].backward(retain_graph=True)\n",
    "        \n",
    "        # Collect the gradients with respect to each parameter\n",
    "        grads = torch.cat([param.grad.view(-1) for param in model.parameters()])\n",
    "        \n",
    "        # Append the gradient (row of the Jacobian) to the jacobian list\n",
    "        jacobian.append(grads)\n",
    "    \n",
    "    # Stack the gradients to form a matrix and add it to the jacobians list\n",
    "    jacobians.append(torch.stack(jacobian))\n",
    "\n",
    "# Stack the jacobians for each data point in the batch\n",
    "jacobian_matrix = torch.stack(jacobians)  # Shape: [batch_size, y_dim, num_params]\n",
    "\n",
    "print(\"Jacobian shape:\", jacobian_matrix.shape)"
   ]
  },
  {
   "cell_type": "code",
   "execution_count": null,
   "metadata": {},
   "outputs": [
    {
     "data": {
      "text/plain": [
       "torch.return_types.max(\n",
       "values=tensor([9.5819e+00, 9.5819e+00, 9.5819e+00, 9.5818e+00, 9.5770e+00, 9.5818e+00,\n",
       "        9.5819e+00, 9.5811e+00, 9.5789e+00, 8.6428e-03], device='mps:0'),\n",
       "indices=tensor([420448, 420576, 420704, 420832, 420960, 421088, 421216, 421344, 421472,\n",
       "        421600], device='mps:0'))"
      ]
     },
     "execution_count": 29,
     "metadata": {},
     "output_type": "execute_result"
    }
   ],
   "source": [
    "torch.max(jacobian_matrix[0], dim=1)"
   ]
  },
  {
   "cell_type": "code",
   "execution_count": null,
   "metadata": {},
   "outputs": [
    {
     "data": {
      "text/plain": [
       "tensor([3, 4, 7, 0, 1, 4, 3, 1, 9, 1, 4, 2, 7, 4, 6, 4, 4, 0, 1, 7, 2, 2, 2, 6,\n",
       "        3, 9, 4, 9, 3, 3, 3, 3, 0, 4, 8, 4, 4, 0, 9, 3, 5, 2, 5, 4, 1, 2, 6, 5,\n",
       "        2, 9, 3, 4, 7, 1, 8, 3, 1, 9, 6, 1, 5, 7, 0, 2, 1, 3, 4, 2, 3, 8, 7, 1,\n",
       "        2, 7, 9, 4, 9, 6, 1, 1, 0, 9, 1, 4, 1, 2, 9, 1, 4, 4, 7, 1, 7, 2, 8, 5,\n",
       "        1, 4, 0, 1])"
      ]
     },
     "execution_count": 28,
     "metadata": {},
     "output_type": "execute_result"
    }
   ],
   "source": [
    "target"
   ]
  },
  {
   "cell_type": "code",
   "execution_count": null,
   "metadata": {},
   "outputs": [],
   "source": [
    "target = target.to(device)\n",
    "criterion = nn.CrossEntropyLoss()\n",
    "loss = criterion(output, target)\n",
    "loss.retain_grad()"
   ]
  },
  {
   "cell_type": "code",
   "execution_count": null,
   "metadata": {},
   "outputs": [
    {
     "data": {
      "text/plain": [
       "tensor(0.0555, device='mps:0', grad_fn=<NllLossBackward0>)"
      ]
     },
     "execution_count": 35,
     "metadata": {},
     "output_type": "execute_result"
    }
   ],
   "source": [
    "loss\n"
   ]
  },
  {
   "cell_type": "code",
   "execution_count": null,
   "metadata": {},
   "outputs": [],
   "source": []
  },
  {
   "cell_type": "code",
   "execution_count": null,
   "metadata": {},
   "outputs": [
    {
     "ename": "RuntimeError",
     "evalue": "Trying to backward through the graph a second time (or directly access saved tensors after they have already been freed). Saved intermediate values of the graph are freed when you call .backward() or autograd.grad(). Specify retain_graph=True if you need to backward through the graph a second time or if you need to access saved tensors after calling backward.",
     "output_type": "error",
     "traceback": [
      "\u001b[0;31m---------------------------------------------------------------------------\u001b[0m",
      "\u001b[0;31mRuntimeError\u001b[0m                              Traceback (most recent call last)",
      "Cell \u001b[0;32mIn[36], line 1\u001b[0m\n\u001b[0;32m----> 1\u001b[0m \u001b[43mloss\u001b[49m\u001b[38;5;241;43m.\u001b[39;49m\u001b[43mbackward\u001b[49m\u001b[43m(\u001b[49m\u001b[43mretain_graph\u001b[49m\u001b[38;5;241;43m=\u001b[39;49m\u001b[38;5;28;43;01mTrue\u001b[39;49;00m\u001b[43m)\u001b[49m\n",
      "File \u001b[0;32m~/miniconda3/lib/python3.12/site-packages/torch/_tensor.py:581\u001b[0m, in \u001b[0;36mTensor.backward\u001b[0;34m(self, gradient, retain_graph, create_graph, inputs)\u001b[0m\n\u001b[1;32m    571\u001b[0m \u001b[38;5;28;01mif\u001b[39;00m has_torch_function_unary(\u001b[38;5;28mself\u001b[39m):\n\u001b[1;32m    572\u001b[0m     \u001b[38;5;28;01mreturn\u001b[39;00m handle_torch_function(\n\u001b[1;32m    573\u001b[0m         Tensor\u001b[38;5;241m.\u001b[39mbackward,\n\u001b[1;32m    574\u001b[0m         (\u001b[38;5;28mself\u001b[39m,),\n\u001b[0;32m   (...)\u001b[0m\n\u001b[1;32m    579\u001b[0m         inputs\u001b[38;5;241m=\u001b[39minputs,\n\u001b[1;32m    580\u001b[0m     )\n\u001b[0;32m--> 581\u001b[0m \u001b[43mtorch\u001b[49m\u001b[38;5;241;43m.\u001b[39;49m\u001b[43mautograd\u001b[49m\u001b[38;5;241;43m.\u001b[39;49m\u001b[43mbackward\u001b[49m\u001b[43m(\u001b[49m\n\u001b[1;32m    582\u001b[0m \u001b[43m    \u001b[49m\u001b[38;5;28;43mself\u001b[39;49m\u001b[43m,\u001b[49m\u001b[43m \u001b[49m\u001b[43mgradient\u001b[49m\u001b[43m,\u001b[49m\u001b[43m \u001b[49m\u001b[43mretain_graph\u001b[49m\u001b[43m,\u001b[49m\u001b[43m \u001b[49m\u001b[43mcreate_graph\u001b[49m\u001b[43m,\u001b[49m\u001b[43m \u001b[49m\u001b[43minputs\u001b[49m\u001b[38;5;241;43m=\u001b[39;49m\u001b[43minputs\u001b[49m\n\u001b[1;32m    583\u001b[0m \u001b[43m\u001b[49m\u001b[43m)\u001b[49m\n",
      "File \u001b[0;32m~/miniconda3/lib/python3.12/site-packages/torch/autograd/__init__.py:347\u001b[0m, in \u001b[0;36mbackward\u001b[0;34m(tensors, grad_tensors, retain_graph, create_graph, grad_variables, inputs)\u001b[0m\n\u001b[1;32m    342\u001b[0m     retain_graph \u001b[38;5;241m=\u001b[39m create_graph\n\u001b[1;32m    344\u001b[0m \u001b[38;5;66;03m# The reason we repeat the same comment below is that\u001b[39;00m\n\u001b[1;32m    345\u001b[0m \u001b[38;5;66;03m# some Python versions print out the first line of a multi-line function\u001b[39;00m\n\u001b[1;32m    346\u001b[0m \u001b[38;5;66;03m# calls in the traceback and some print out the last line\u001b[39;00m\n\u001b[0;32m--> 347\u001b[0m \u001b[43m_engine_run_backward\u001b[49m\u001b[43m(\u001b[49m\n\u001b[1;32m    348\u001b[0m \u001b[43m    \u001b[49m\u001b[43mtensors\u001b[49m\u001b[43m,\u001b[49m\n\u001b[1;32m    349\u001b[0m \u001b[43m    \u001b[49m\u001b[43mgrad_tensors_\u001b[49m\u001b[43m,\u001b[49m\n\u001b[1;32m    350\u001b[0m \u001b[43m    \u001b[49m\u001b[43mretain_graph\u001b[49m\u001b[43m,\u001b[49m\n\u001b[1;32m    351\u001b[0m \u001b[43m    \u001b[49m\u001b[43mcreate_graph\u001b[49m\u001b[43m,\u001b[49m\n\u001b[1;32m    352\u001b[0m \u001b[43m    \u001b[49m\u001b[43minputs\u001b[49m\u001b[43m,\u001b[49m\n\u001b[1;32m    353\u001b[0m \u001b[43m    \u001b[49m\u001b[43mallow_unreachable\u001b[49m\u001b[38;5;241;43m=\u001b[39;49m\u001b[38;5;28;43;01mTrue\u001b[39;49;00m\u001b[43m,\u001b[49m\n\u001b[1;32m    354\u001b[0m \u001b[43m    \u001b[49m\u001b[43maccumulate_grad\u001b[49m\u001b[38;5;241;43m=\u001b[39;49m\u001b[38;5;28;43;01mTrue\u001b[39;49;00m\u001b[43m,\u001b[49m\n\u001b[1;32m    355\u001b[0m \u001b[43m\u001b[49m\u001b[43m)\u001b[49m\n",
      "File \u001b[0;32m~/miniconda3/lib/python3.12/site-packages/torch/autograd/graph.py:825\u001b[0m, in \u001b[0;36m_engine_run_backward\u001b[0;34m(t_outputs, *args, **kwargs)\u001b[0m\n\u001b[1;32m    823\u001b[0m     unregister_hooks \u001b[38;5;241m=\u001b[39m _register_logging_hooks_on_whole_graph(t_outputs)\n\u001b[1;32m    824\u001b[0m \u001b[38;5;28;01mtry\u001b[39;00m:\n\u001b[0;32m--> 825\u001b[0m     \u001b[38;5;28;01mreturn\u001b[39;00m \u001b[43mVariable\u001b[49m\u001b[38;5;241;43m.\u001b[39;49m\u001b[43m_execution_engine\u001b[49m\u001b[38;5;241;43m.\u001b[39;49m\u001b[43mrun_backward\u001b[49m\u001b[43m(\u001b[49m\u001b[43m  \u001b[49m\u001b[38;5;66;43;03m# Calls into the C++ engine to run the backward pass\u001b[39;49;00m\n\u001b[1;32m    826\u001b[0m \u001b[43m        \u001b[49m\u001b[43mt_outputs\u001b[49m\u001b[43m,\u001b[49m\u001b[43m \u001b[49m\u001b[38;5;241;43m*\u001b[39;49m\u001b[43margs\u001b[49m\u001b[43m,\u001b[49m\u001b[43m \u001b[49m\u001b[38;5;241;43m*\u001b[39;49m\u001b[38;5;241;43m*\u001b[39;49m\u001b[43mkwargs\u001b[49m\n\u001b[1;32m    827\u001b[0m \u001b[43m    \u001b[49m\u001b[43m)\u001b[49m  \u001b[38;5;66;03m# Calls into the C++ engine to run the backward pass\u001b[39;00m\n\u001b[1;32m    828\u001b[0m \u001b[38;5;28;01mfinally\u001b[39;00m:\n\u001b[1;32m    829\u001b[0m     \u001b[38;5;28;01mif\u001b[39;00m attach_logging_hooks:\n",
      "\u001b[0;31mRuntimeError\u001b[0m: Trying to backward through the graph a second time (or directly access saved tensors after they have already been freed). Saved intermediate values of the graph are freed when you call .backward() or autograd.grad(). Specify retain_graph=True if you need to backward through the graph a second time or if you need to access saved tensors after calling backward."
     ]
    }
   ],
   "source": [
    "loss.backward(retain_graph=True)"
   ]
  },
  {
   "cell_type": "code",
   "execution_count": null,
   "metadata": {},
   "outputs": [
    {
     "data": {
      "text/plain": [
       "torch.Size([100, 10])"
      ]
     },
     "execution_count": 32,
     "metadata": {},
     "output_type": "execute_result"
    }
   ],
   "source": [
    "output.grad.size()"
   ]
  },
  {
   "cell_type": "code",
   "execution_count": null,
   "metadata": {},
   "outputs": [
    {
     "data": {
      "text/plain": [
       "ConvNet(\n",
       "  (conv1): Conv2d(1, 32, kernel_size=(3, 3), stride=(1, 1), padding=(1, 1))\n",
       "  (conv2): Conv2d(32, 64, kernel_size=(3, 3), stride=(1, 1), padding=(1, 1))\n",
       "  (conv2_drop): Dropout2d(p=0.25, inplace=False)\n",
       "  (fc1): Linear(in_features=3136, out_features=128, bias=True)\n",
       "  (fc2): Linear(in_features=128, out_features=10, bias=True)\n",
       ")"
      ]
     },
     "execution_count": 20,
     "metadata": {},
     "output_type": "execute_result"
    }
   ],
   "source": [
    "base"
   ]
  },
  {
   "cell_type": "code",
   "execution_count": null,
   "metadata": {},
   "outputs": [
    {
     "data": {
      "text/plain": [
       "tensor(1., device='mps:0')"
      ]
     },
     "execution_count": 68,
     "metadata": {},
     "output_type": "execute_result"
    }
   ],
   "source": [
    "loss.grad"
   ]
  },
  {
   "cell_type": "code",
   "execution_count": null,
   "metadata": {},
   "outputs": [
    {
     "ename": "TypeError",
     "evalue": "train() missing 2 required positional arguments: 'optimizer' and 'epoch'",
     "output_type": "error",
     "traceback": [
      "\u001b[0;31m---------------------------------------------------------------------------\u001b[0m",
      "\u001b[0;31mTypeError\u001b[0m                                 Traceback (most recent call last)",
      "Cell \u001b[0;32mIn[18], line 5\u001b[0m\n\u001b[1;32m      2\u001b[0m optimizer \u001b[38;5;241m=\u001b[39m optim\u001b[38;5;241m.\u001b[39mAdam(base\u001b[38;5;241m.\u001b[39mparameters(), lr\u001b[38;5;241m=\u001b[39m\u001b[38;5;241m0.001\u001b[39m)\n\u001b[1;32m      3\u001b[0m criterion \u001b[38;5;241m=\u001b[39m nn\u001b[38;5;241m.\u001b[39mCrossEntropyLoss()\n\u001b[0;32m----> 5\u001b[0m \u001b[43mtrain\u001b[49m\u001b[43m(\u001b[49m\u001b[43mbase\u001b[49m\u001b[43m,\u001b[49m\u001b[43m \u001b[49m\u001b[43mdevice\u001b[49m\u001b[43m,\u001b[49m\u001b[43m \u001b[49m\u001b[43mtest_loader\u001b[49m\u001b[43m)\u001b[49m\n",
      "\u001b[0;31mTypeError\u001b[0m: train() missing 2 required positional arguments: 'optimizer' and 'epoch'"
     ]
    }
   ],
   "source": [
    "test_loader = filter_loaders(test_loaders, None, batch_size, shuffle=True, num_workers=0)\n",
    "optimizer = optim.Adam(base.parameters(), lr=0.001)\n",
    "criterion = nn.CrossEntropyLoss()\n",
    "\n",
    "train(base, device, test_loader)"
   ]
  },
  {
   "cell_type": "code",
   "execution_count": null,
   "metadata": {},
   "outputs": [],
   "source": [
    "\n"
   ]
  },
  {
   "cell_type": "code",
   "execution_count": null,
   "metadata": {},
   "outputs": [],
   "source": [
    "# # Ground Truth\n",
    "    \n",
    "# train_loader = filter_loaders(train_loaders, None, batch_size, shuffle=True, num_workers=0)\n",
    "# test_loader = filter_loaders(test_loaders, None, batch_size, shuffle=True, num_workers=0)\n",
    "\n",
    "# model = ConvNet()\n",
    "# device = torch.device(\"mps\")\n",
    "# model.to(device)\n",
    "\n",
    "\n",
    "\n",
    "# num_epochs = 5\n",
    "# for epoch in range(1, num_epochs + 1):\n",
    "#     train(model, device, train_loader, optimizer, epoch)\n",
    "#     test(model, device, test_loader)\n",
    "\n",
    "# torch.save(model, './models/all_class.pth') \n",
    "\n",
    "# for class_name in list(train_loaders.keys()):\n",
    "#     print(class_name)\n",
    "    \n",
    "#     train_loader = filter_loaders(train_loaders, class_name, batch_size, shuffle=True, num_workers=0)\n",
    "#     test_loader = filter_loaders(test_loaders, class_name, batch_size, shuffle=True, num_workers=0)\n",
    "\n",
    "#     model = ConvNet()\n",
    "#     device = torch.device(\"mps\")\n",
    "#     model.to(device)\n",
    "\n",
    "#     optimizer = optim.Adam(model.parameters(), lr=0.001)\n",
    "#     criterion = nn.CrossEntropyLoss()\n",
    "\n",
    "#     num_epochs = 5\n",
    "#     for epoch in range(1, num_epochs + 1):\n",
    "#         train(model, device, train_loader, optimizer, epoch)\n",
    "#         test(model, device, test_loader)\n",
    "\n",
    "#     torch.save(model, f'./models/no_{class_name}.pth') "
   ]
  },
  {
   "cell_type": "code",
   "execution_count": null,
   "metadata": {},
   "outputs": [
    {
     "data": {
      "text/plain": [
       "tensor([[1., 1., 1.],\n",
       "        [0., 0., 0.]])"
      ]
     },
     "execution_count": 29,
     "metadata": {},
     "output_type": "execute_result"
    }
   ],
   "source": [
    "ones = torch.ones(1, 3)\n",
    "empt = torch.empty(1, 3)\n",
    "torch.cat([ones, empt], dim=0)"
   ]
  },
  {
   "cell_type": "code",
   "execution_count": null,
   "metadata": {},
   "outputs": [
    {
     "data": {
      "text/plain": [
       "0"
      ]
     },
     "execution_count": 14,
     "metadata": {},
     "output_type": "execute_result"
    }
   ],
   "source": [
    "list(test_loaders.keys()).index('0 - zero')"
   ]
  },
  {
   "cell_type": "code",
   "execution_count": null,
   "metadata": {},
   "outputs": [
    {
     "data": {
      "image/png": "[encoded data removed]",
      "text/plain": [
       "<Figure size 1000x600 with 1 Axes>"
      ]
     },
     "metadata": {},
     "output_type": "display_data"
    }
   ],
   "source": [
    "\n",
    "\n",
    "device = torch.device(\"mps\")  # Utilisation de 'mps' (Apple Silicon), sinon 'cuda' ou 'cpu'\n",
    "\n",
    "class_name = '8 - eight'  # Tu peux changer cela pour d'autres classes comme '1 - one', '2 - two', etc.\n",
    "# Extraire le numéro de la classe à partir de 'class_name'\n",
    "class_num = int(class_name.split(' ')[0])\n",
    "\n",
    "# Charger les modèles\n",
    "ideal = torch.load(f'./models/no_{class_name}.pth', weights_only=False)\n",
    "base = torch.load('./models/all_class.pth', weights_only=False)\n",
    "\n",
    "ideal.eval()\n",
    "base.eval()\n",
    "\n",
    "ideal.to(device)\n",
    "base.to(device)\n",
    "\n",
    "def sample_logits(class_name, model, loaders, device):\n",
    "    loader = loaders[class_name]\n",
    "    model.eval()\n",
    "\n",
    "    # Sélectionner un batch aléatoire\n",
    "    loader_list = list(loader)  # Convertir le DataLoader en liste pour pouvoir indexer\n",
    "    random_batch = random.choice(loader_list)  # Choisir un batch aléatoire\n",
    "\n",
    "    data, _ = random_batch  # Extraire les données (ignorer les labels)\n",
    "    data = data.to(device)  # Envoyer les données sur le device\n",
    "\n",
    "    # Passer les données à travers le modèle pour obtenir les logits\n",
    "    with torch.no_grad():\n",
    "        output = model(data)  # Calculer les logits pour ce batch\n",
    "\n",
    "    return output  # Retourne les logits pour le batch sélectionné\n",
    "\n",
    "def sample_all_logits(model, loaders, device):\n",
    "    \"return dict keys : sample of logits\"\n",
    "    all_logits = []\n",
    "    for class_name in loaders.keys():\n",
    "        logits = sample_logits(class_name, model, loaders, device)\n",
    "        all_logits.append(logits)\n",
    "    return dict(zip(loaders.keys(), all_logits))\n",
    "\n",
    "def sample_pre_softmax(class_name, model, loaders, device):\n",
    "    logits = None  # Variable locale pour stocker les logits\n",
    "\n",
    "    # Définir la fonction hook pour capturer les logits avant le softmax\n",
    "    def hook_fn(module, input, output):\n",
    "        nonlocal logits  # Utiliser nonlocal pour accéder à logits dans l'enclosant\n",
    "        logits = output  # Capture les logits ici\n",
    "    \n",
    "    # Enregistrer un hook sur la dernière couche du modèle\n",
    "    last_layer_name, last_layer = list(model.named_children())[-1]\n",
    "    hook = last_layer.register_forward_hook(hook_fn)\n",
    "\n",
    "    # Sélectionner un batch aléatoire dans le DataLoader\n",
    "    loader = loaders[class_name]\n",
    "    random_batch = next(iter(loader))  # Prendre un batch du loader (au lieu de convertir en liste)\n",
    "\n",
    "    data, _ = random_batch  # Extraire les données (ignorer les labels)\n",
    "    data = data.to(device)  # Envoyer les données sur le device\n",
    "\n",
    "    # Passer les données à travers le modèle pour obtenir les logits\n",
    "    with torch.no_grad():\n",
    "        _ = model(data)  # Les logits seront capturés dans hook_fn\n",
    "\n",
    "    # Retirer le hook une fois terminé\n",
    "    hook.remove()\n",
    "\n",
    "    return logits  # Retourner les logits capturés avant le softmax\n",
    "\n",
    "def sample_all_pre_softmax(model, loaders, device):\n",
    "    \"return dict keys : sample of logits\"\n",
    "    all_logits = []\n",
    "    for class_name in loaders.keys():\n",
    "        logits = sample_pre_softmax(class_name, model, loaders, device)\n",
    "        all_logits.append(logits)\n",
    "    return dict(zip(loaders.keys(), all_logits))\n",
    "\n",
    "def naive_method(output, class_num):\n",
    "    # Exclusion de la classe cible des logits\n",
    "    naive_output = torch.cat([output[:, :class_num], output[:, class_num+1:]], dim=1)\n",
    "    return naive_output\n",
    "\n",
    "def fast_normalization_method(output, class_num):\n",
    "    # Exclusion de la classe cible des logits\n",
    "    output_excluded = torch.cat([output[:, :class_num], output[:, class_num+1:]], dim=1)\n",
    "    # Moyenne sur toutes les classes restantes\n",
    "    mean_excluded = torch.mean(output_excluded, dim=1, keepdim=True)\n",
    "    # Soustraction de la moyenne\n",
    "    normalized_output = output_excluded - mean_excluded\n",
    "    return normalized_output\n",
    "\n",
    "def normalization_method(class_name, model, loaders, device):\n",
    "    outputs = sample_all_pre_softmax(model, loaders, device)\n",
    "    keys = list(outputs.keys())\n",
    "    class_num = list(outputs.keys()).index(class_name)\n",
    "\n",
    "    output_excluded = torch.cat([outputs[class_name][:, :class_num], outputs[class_name][:, class_num+1:]], dim=1).to(device)\n",
    "    mean_excluded = torch.mean(output_excluded, dim=1, keepdim=True).to(device)\n",
    "    keys.pop(class_num)\n",
    "\n",
    "    mean_others = torch.zeros_like(mean_excluded).to(device)\n",
    "    for class_name in keys:\n",
    "        class_output_excluded = torch.cat([outputs[class_name][:, :class_num], outputs[class_name][:, class_num+1:]], dim=1).to(device)\n",
    "        mean_others += torch.mean(class_output_excluded, dim=1, keepdim=True)\n",
    "    mean_others = mean_others / len(keys)\n",
    "\n",
    "    normalized_output = output_excluded - mean_excluded + mean_others\n",
    "    return normalized_output.cpu()\n",
    "\n",
    "# Fonction pour obtenir les valeurs softmax pour un batch d'images avec une méthode donnée\n",
    "def get_softmax_values(model, loaders, device, class_num, method):\n",
    "    output = sample_logits(class_name, model, loaders, device)\n",
    "    truncated_ouput = method(output, class_num).cpu()\n",
    "    softmax_output = F.log_softmax(truncated_ouput, dim=1) # Appliquer la méthode (naïve ou normalisation)\n",
    "    return softmax_output\n",
    "\n",
    "def get_pre_softmax_values(model, loaders, device, class_num, method):\n",
    "    output = sample_pre_softmax(class_name, model, loaders, device)\n",
    "    truncated_ouput = method(output, class_num).cpu()\n",
    "    return truncated_ouput\n",
    "\n",
    "loaders = test_loaders\n",
    "# Obtenir les softmax pour les deux modèles en utilisant les méthodes\n",
    "model_naive_softmax = get_pre_softmax_values(base, loaders, device, class_num, naive_method)\n",
    "model_fast_normalization_softmax = get_pre_softmax_values(base, loaders, device, class_num, fast_normalization_method)\n",
    "model_normalization_softmax = normalization_method(class_name, base, loaders, device)\n",
    "\n",
    "ideal_softmax = naive_method(sample_pre_softmax(class_name, ideal, loaders, device), class_num).cpu()\n",
    "\n",
    "# Calculer les quantiles de softmax (valeurs de distribution) pour chaque modèle\n",
    "quantiles_naive = np.quantile(model_naive_softmax.numpy(), [0, 0.25, 0.5, 0.75, 1], axis=0)\n",
    "quantiles_fast_normalization = np.quantile(model_fast_normalization_softmax.numpy(), [0, 0.25, 0.5, 0.75, 1], axis=0)\n",
    "quantiles_normalization = np.quantile(model_normalization_softmax.numpy(), [0, 0.25, 0.5, 0.75, 1], axis=0)\n",
    "quantiles_base = np.quantile(ideal_softmax.numpy(), [0, 0.25, 0.5, 0.75, 1], axis=0)\n",
    "\n",
    "# Tracer les quantiles de softmax pour chaque méthode\n",
    "x = np.arange(1, model_naive_softmax.size(1) + 1)  # Ajuster les classes pour 1 à 9 (en excluant la classe supprimée)\n",
    "plt.figure(figsize=(10, 6))\n",
    "\n",
    "# Méthode Idéale (base)\n",
    "plt.plot(x, quantiles_base[2], label='Median Ideal', color='blue', linestyle='-')\n",
    "plt.fill_between(x, quantiles_base[1], quantiles_base[3], color='blue', alpha=0.3, label='IQR Ideal')\n",
    "\n",
    "# Méthode Naïve\n",
    "plt.plot(x, quantiles_naive[2], label='Median Naive', color='orange', linestyle='-')\n",
    "plt.fill_between(x, quantiles_naive[1], quantiles_naive[3], color='red', alpha=0.3, label='IQR Naive')\n",
    "\n",
    "# Méthode Fast Normalization\n",
    "plt.plot(x, quantiles_fast_normalization[2], label='Median Fast Normalization', color='green', linestyle='-')\n",
    "plt.fill_between(x, quantiles_fast_normalization[1], quantiles_fast_normalization[3], color='green', alpha=0.3, label='IQR Fast Normalization')\n",
    "\n",
    "# Méthode Normalization\n",
    "plt.plot(x, quantiles_normalization[2], label='Median Normalization', color='yellow', linestyle='-')\n",
    "plt.fill_between(x, quantiles_normalization[1], quantiles_normalization[3], color='yellow', alpha=0.3, label='IQR Normalization')\n",
    "\n",
    "# Ajuster les labels pour les classes\n",
    "remaining_classes = [i for i in range(10) if i != class_num]  # Les classes sans la classe exclue\n",
    "plt.xticks(ticks=np.arange(1, model_naive_softmax.size(1) + 1), labels=[str(i) for i in remaining_classes])\n",
    "\n",
    "plt.xlabel(f\"Classes (Digits excluding {class_num})\")\n",
    "plt.ylabel(\"Logits Value\")\n",
    "plt.title(f\"Quantiles of Logits Values (excluding class '{class_num}')\")\n",
    "plt.legend()\n",
    "plt.show()"
   ]
  },
  {
   "cell_type": "code",
   "execution_count": null,
   "metadata": {},
   "outputs": [
    {
     "data": {
      "text/plain": [
       "{'0 - zero': tensor([[-4.7684e-07, -2.0315e+01, -1.4909e+01,  ..., -2.0756e+01,\n",
       "          -1.9857e+01, -1.8487e+01],\n",
       "         [-5.9605e-07, -2.0003e+01, -1.4609e+01,  ..., -1.7164e+01,\n",
       "          -1.7217e+01, -1.6676e+01],\n",
       "         [-7.2357e-05, -1.8302e+01, -1.6427e+01,  ..., -1.8263e+01,\n",
       "          -1.4822e+01, -1.6993e+01],\n",
       "         ...,\n",
       "         [-5.9864e+00, -6.1875e+00, -7.0674e+00,  ..., -1.2146e+01,\n",
       "          -9.3953e-03, -1.0616e+01],\n",
       "         [-1.1921e-07, -2.2680e+01, -1.6599e+01,  ..., -2.0217e+01,\n",
       "          -1.9895e+01, -1.7177e+01],\n",
       "         [ 0.0000e+00, -2.4354e+01, -1.7139e+01,  ..., -2.0328e+01,\n",
       "          -1.7145e+01, -2.3395e+01]], device='mps:0'),\n",
       " '1 - one': tensor([[-2.2862e+01, -1.5497e-06, -2.0139e+01,  ..., -1.6427e+01,\n",
       "          -1.5934e+01, -1.9238e+01],\n",
       "         [-2.3358e+01, -9.7751e-06, -1.8534e+01,  ..., -1.1819e+01,\n",
       "          -1.7935e+01, -1.8831e+01],\n",
       "         [-2.1180e+01, -1.6332e-05, -1.7782e+01,  ..., -1.1726e+01,\n",
       "          -1.5567e+01, -1.3588e+01],\n",
       "         ...,\n",
       "         [-1.4768e+01, -1.6187e-04, -1.1251e+01,  ..., -9.1208e+00,\n",
       "          -1.2534e+01, -1.3308e+01],\n",
       "         [-1.6029e+01, -1.1408e-03, -9.6879e+00,  ..., -1.1383e+01,\n",
       "          -9.3253e+00, -9.9206e+00],\n",
       "         [-2.1633e+01, -2.1458e-06, -1.8245e+01,  ..., -1.4571e+01,\n",
       "          -1.5692e+01, -1.9340e+01]], device='mps:0'),\n",
       " '2 - two': tensor([[-2.7775e+01, -1.4878e+01, -3.5763e-07,  ..., -1.6504e+01,\n",
       "          -2.3546e+01, -3.2503e+01],\n",
       "         [-1.6023e+01, -1.6665e+01, -7.4980e-05,  ..., -1.1396e+01,\n",
       "          -9.7095e+00, -2.1493e+01],\n",
       "         [-1.2345e+01, -1.5835e+01, -4.4106e-05,  ..., -1.7694e+01,\n",
       "          -1.0218e+01, -1.6300e+01],\n",
       "         ...,\n",
       "         [-2.2416e+01, -1.7782e+01,  0.0000e+00,  ..., -2.4514e+01,\n",
       "          -2.1496e+01, -3.6325e+01],\n",
       "         [-2.2258e+01, -1.7227e+01, -7.0333e-06,  ..., -1.7356e+01,\n",
       "          -1.3912e+01, -2.7662e+01],\n",
       "         [-1.6333e+01, -8.1038e+00, -3.7913e-04,  ..., -9.4923e+00,\n",
       "          -1.4329e+01, -1.7928e+01]], device='mps:0'),\n",
       " '3 - three': tensor([[-24.8752, -18.9811, -21.6699,  ..., -20.0719, -16.4050, -10.4914],\n",
       "         [-17.9067, -15.4773, -13.3453,  ..., -16.4964, -13.8341, -10.8773],\n",
       "         [-22.3711, -18.6110, -21.1936,  ..., -21.2451, -12.0579, -10.2939],\n",
       "         ...,\n",
       "         [-42.6131, -25.5061, -30.5230,  ..., -24.7820, -19.8422, -22.9826],\n",
       "         [-20.0441, -14.7903, -18.1185,  ..., -15.0226, -10.4453,  -6.8540],\n",
       "         [-33.2682, -16.8314, -22.2063,  ..., -19.6630, -16.6559, -17.4974]],\n",
       "        device='mps:0'),\n",
       " '4 - four': tensor([[-18.5791, -13.7627, -16.9286,  ..., -14.7127, -16.9115, -15.9809],\n",
       "         [-26.8277, -16.4118, -19.0483,  ..., -15.5671, -23.0734, -16.7498],\n",
       "         [-18.2048, -18.1169, -17.8216,  ..., -18.3602, -20.5987, -12.1125],\n",
       "         ...,\n",
       "         [-19.3324, -18.2148, -19.7619,  ..., -14.1337, -18.2138,  -6.5132],\n",
       "         [-31.5430, -12.4234, -20.8420,  ..., -17.6011, -18.7365, -15.3146],\n",
       "         [-32.5269, -21.9582, -25.5014,  ..., -22.7407, -18.2271, -12.6201]],\n",
       "        device='mps:0'),\n",
       " '5 - five': tensor([[-21.4607, -25.7110, -35.4690,  ..., -29.1328, -14.7411, -16.7833],\n",
       "         [-32.2461, -35.0477, -41.9726,  ..., -34.4971, -18.9891, -16.3830],\n",
       "         [-20.2557, -28.6942, -30.9372,  ..., -34.5885, -14.5671, -18.1299],\n",
       "         ...,\n",
       "         [-30.8438, -31.3031, -44.0496,  ..., -37.6623, -19.5604, -22.3242],\n",
       "         [-26.7564, -27.8140, -37.4299,  ..., -36.5303, -17.4095, -15.3919],\n",
       "         [-22.9808, -29.5135, -38.7154,  ..., -35.6483, -14.5074, -18.5282]],\n",
       "        device='mps:0'),\n",
       " '6 - six': tensor([[-19.9998, -24.9233, -25.2591,  ..., -35.9802, -16.4134, -25.0843],\n",
       "         [-14.9305, -26.0902, -20.7294,  ..., -33.2402, -10.1043, -17.1207],\n",
       "         [-11.8304, -13.7889, -11.2300,  ..., -17.2322, -10.5439, -10.6486],\n",
       "         ...,\n",
       "         [-13.8525, -22.4533, -15.0164,  ..., -29.2523, -13.1843, -17.0279],\n",
       "         [-22.0229, -28.2310, -25.4285,  ..., -41.7041, -14.1415, -27.9699],\n",
       "         [-13.6632, -17.2134, -22.3025,  ..., -22.1819, -13.7836, -16.8926]],\n",
       "        device='mps:0'),\n",
       " '7 - seven': tensor([[-1.9904e+01, -1.1920e+01, -1.1780e+01,  ..., -2.5233e-04,\n",
       "          -1.7166e+01, -9.2646e+00],\n",
       "         [-1.8285e+01, -1.9124e+01, -2.1457e+01,  ..., -1.1921e-06,\n",
       "          -2.0617e+01, -1.3694e+01],\n",
       "         [-2.2052e+01, -1.5295e+01, -1.4114e+01,  ..., -5.0186e-05,\n",
       "          -1.5431e+01, -9.9686e+00],\n",
       "         ...,\n",
       "         [-1.8571e+01, -1.4281e+01, -1.3965e+01,  ..., -6.3179e-05,\n",
       "          -1.7488e+01, -9.8501e+00],\n",
       "         [-2.4625e+01, -1.0499e+01, -1.5597e+01,  ..., -2.4328e-04,\n",
       "          -1.4918e+01, -9.1211e+00],\n",
       "         [-1.9830e+01, -1.6736e+01, -1.2534e+01,  ..., -2.1100e-05,\n",
       "          -2.2078e+01, -1.1268e+01]], device='mps:0'),\n",
       " '8 - eight': tensor([[-1.5029e+01, -1.8145e+01, -1.2952e+01, -1.0972e+01, -2.3718e+01,\n",
       "          -1.3520e+01, -2.1699e+01, -1.7591e+01, -2.2650e-05, -1.3394e+01],\n",
       "         [-1.5151e+01, -6.5575e+00, -2.1708e+00, -6.3046e+00, -9.8348e+00,\n",
       "          -1.1606e+01, -1.6175e+01, -2.4640e-01, -2.2928e+00, -1.1307e+01],\n",
       "         [-9.1076e+00, -1.4037e+01, -8.5584e+00, -1.2717e+01, -1.8262e+01,\n",
       "          -1.3025e+01, -1.1796e+01, -1.8624e+01, -3.1693e-04, -1.4478e+01],\n",
       "         [-2.5242e+01, -1.7527e+01, -1.7142e+01, -1.6523e+01, -2.8397e+01,\n",
       "          -1.8984e+01, -2.6937e+01, -2.1538e+01, -1.1921e-07, -2.2774e+01],\n",
       "         [-2.1326e+01, -1.9257e+01, -1.7519e+01, -1.3197e+01, -2.1303e+01,\n",
       "          -9.2806e+00, -1.4957e+01, -2.6541e+01, -9.5482e-05, -1.8419e+01],\n",
       "         [-2.3138e+01, -1.2431e+01, -1.3331e+01, -1.6444e+01, -1.1348e+01,\n",
       "          -1.6867e+01, -1.5144e+01, -2.3679e+01, -1.7881e-05, -2.2201e+01],\n",
       "         [-1.8085e+01, -1.6280e+01, -1.1517e+01, -1.2110e+01, -1.4644e+01,\n",
       "          -1.2895e+01, -1.9960e+01, -1.4349e+01, -2.3722e-05, -1.2309e+01],\n",
       "         [-1.6403e+01, -1.3027e+01, -1.6629e+01, -1.2500e+01, -2.3850e+01,\n",
       "          -1.0657e+01, -1.7472e+01, -1.8896e+01, -2.9683e-05, -1.8154e+01],\n",
       "         [-2.3592e+01, -2.3832e+01, -2.1907e+01, -1.8344e+01, -2.5519e+01,\n",
       "          -1.5479e+01, -2.5768e+01, -2.5130e+01, -2.3842e-07, -1.8845e+01],\n",
       "         [-2.0773e+01, -9.7254e+00, -1.1627e+01, -6.4591e+00, -1.0842e+01,\n",
       "          -9.3942e+00, -1.5862e+01, -8.5171e+00, -1.9486e-03, -1.1630e+01],\n",
       "         [-2.4100e+01, -1.8182e+01, -2.2930e+01, -1.8573e+01, -2.4414e+01,\n",
       "          -1.5011e+01, -2.4876e+01, -2.0344e+01, -3.5763e-07, -1.8121e+01],\n",
       "         [-1.4899e+01, -1.9343e+01, -1.3434e+01, -1.7628e+01, -2.3410e+01,\n",
       "          -1.6708e+01, -2.4843e+01, -1.6549e+01, -2.3842e-06, -1.4718e+01],\n",
       "         [-2.0468e+01, -1.8097e+01, -2.1181e+01, -1.7613e+01, -2.0505e+01,\n",
       "          -1.0651e+01, -1.5610e+01, -2.7911e+01, -2.3842e-05, -1.7616e+01],\n",
       "         [-1.9374e+01, -1.5830e+01, -1.6933e+01, -1.0765e+01, -1.4337e+01,\n",
       "          -8.7921e+00, -1.4272e+01, -2.0803e+01, -1.7546e-04, -1.3834e+01],\n",
       "         [-8.8915e+00, -1.3395e+01, -1.1788e+01, -6.5292e+00, -1.6423e+01,\n",
       "          -6.9122e+00, -1.3812e+01, -1.5538e+01, -2.7951e-03, -8.5817e+00],\n",
       "         [-1.8123e+01, -2.0446e+01, -1.8572e+01, -1.6987e+01, -2.3068e+01,\n",
       "          -1.7065e+01, -2.3167e+01, -1.8426e+01, -7.1526e-07, -1.4221e+01],\n",
       "         [-1.7878e+01, -1.1778e+01, -1.2950e+01, -1.6494e+01, -2.1807e+01,\n",
       "          -1.0597e+01, -1.7340e+01, -1.9007e+01, -3.5166e-05, -2.0375e+01],\n",
       "         [-2.3464e+01, -2.2149e+01, -1.5475e+01, -1.9162e+01, -2.2697e+01,\n",
       "          -1.8870e+01, -2.3036e+01, -2.7883e+01, -2.3842e-07, -2.3005e+01],\n",
       "         [-2.0068e+01, -2.4708e+01, -1.4786e+01, -1.9213e+01, -1.8266e+01,\n",
       "          -1.5053e+01, -1.7240e+01, -2.4520e+01, -7.1526e-07, -1.7272e+01],\n",
       "         [-1.2752e+01, -8.4013e+00, -9.6832e+00, -3.5729e+00, -1.7137e+01,\n",
       "          -5.5447e+00, -6.7663e+00, -1.3142e+01, -3.3996e-02, -1.6722e+01],\n",
       "         [-2.4117e+01, -2.1733e+01, -1.6295e+01, -2.1396e+01, -2.0558e+01,\n",
       "          -1.8981e+01, -2.3389e+01, -2.1978e+01, -1.1921e-07, -2.1075e+01],\n",
       "         [-2.7414e+01, -2.2359e+01, -9.3353e+00, -1.1024e+01, -2.7322e+01,\n",
       "          -2.2148e+01, -3.0494e+01, -1.6582e+01, -1.0454e-04, -2.1778e+01],\n",
       "         [-1.8374e+01, -1.4473e+01, -8.7062e+00, -9.0524e+00, -2.6020e+01,\n",
       "          -1.7817e+01, -2.2898e+01, -1.7789e+01, -2.8320e-04, -1.8593e+01],\n",
       "         [-1.9656e+01, -1.7797e+01, -1.8901e+01, -1.6540e+01, -2.2935e+01,\n",
       "          -1.3415e+01, -2.1779e+01, -1.8268e+01, -1.6689e-06, -1.6808e+01],\n",
       "         [-1.6545e+01, -1.9193e+01, -1.9175e+01, -9.8330e+00, -2.1406e+01,\n",
       "          -3.6349e+00, -8.9535e+00, -2.5561e+01, -2.6930e-02, -1.5038e+01],\n",
       "         [-1.7755e+01, -1.0655e+01, -6.5235e+00, -6.9207e+00, -1.7207e+01,\n",
       "          -1.4063e+01, -1.9206e+01, -1.3101e+01, -2.4867e-03, -1.3395e+01],\n",
       "         [-1.9222e+01, -1.8398e+01, -1.7500e+01, -1.1805e+01, -2.1961e+01,\n",
       "          -1.0639e+01, -1.9588e+01, -1.7637e+01, -3.2186e-05, -1.4104e+01],\n",
       "         [-1.2533e+01, -1.4881e+01, -1.3325e+01, -1.1752e+01, -1.2763e+01,\n",
       "          -3.7195e+00, -7.2799e+00, -1.8346e+01, -2.6534e-02, -6.6984e+00],\n",
       "         [-1.8695e+01, -1.5102e+01, -1.7065e+01, -1.4467e+01, -1.9982e+01,\n",
       "          -1.0472e+01, -1.5360e+01, -1.9372e+01, -2.9325e-05, -1.7730e+01],\n",
       "         [-1.4953e+01, -2.1716e+01, -1.0388e+01, -1.7084e+01, -2.3407e+01,\n",
       "          -1.5140e+01, -1.6248e+01, -2.3758e+01, -3.1590e-05, -2.0309e+01],\n",
       "         [-1.3680e+01, -1.4027e+01, -1.0069e+01, -8.5801e+00, -1.0012e+01,\n",
       "          -5.9781e+00, -1.4296e+01, -1.0643e+01, -2.9758e-03, -8.9022e+00],\n",
       "         [-2.6170e+01, -2.2849e+01, -2.1658e+01, -1.6633e+01, -2.9305e+01,\n",
       "          -1.6502e+01, -2.6595e+01, -2.5974e+01, -1.1921e-07, -2.0707e+01],\n",
       "         [-1.7408e+01, -1.5468e+01, -1.3281e+01, -6.1644e+00, -1.2213e+01,\n",
       "          -7.2397e+00, -1.2576e+01, -2.0510e+01, -2.8407e-03, -1.2061e+01],\n",
       "         [-2.0669e+01, -1.9161e+01, -2.0300e+01, -1.7199e+01, -2.9658e+01,\n",
       "          -1.4223e+01, -2.1045e+01, -2.4622e+01, -7.1526e-07, -2.2286e+01],\n",
       "         [-1.8357e+01, -2.0198e+01, -1.5155e+01, -1.4177e+01, -2.0807e+01,\n",
       "          -1.3509e+01, -2.0567e+01, -2.2063e+01, -2.7418e-06, -1.4761e+01],\n",
       "         [-1.8114e+01, -2.3405e+01, -1.5041e+01, -1.4772e+01, -2.5400e+01,\n",
       "          -1.5649e+01, -2.5369e+01, -1.9265e+01, -1.1921e-06, -1.4644e+01],\n",
       "         [-2.1233e+01, -2.1821e+01, -1.8948e+01, -1.9486e+01, -2.7119e+01,\n",
       "          -1.7404e+01, -2.5488e+01, -2.4418e+01,  0.0000e+00, -2.0563e+01],\n",
       "         [-2.1861e+01, -1.4886e+01, -1.2518e+01, -7.4609e+00, -2.6511e+01,\n",
       "          -1.6141e+01, -2.9003e+01, -1.7254e+01, -5.8002e-04, -1.4481e+01],\n",
       "         [-2.0957e+01, -2.8794e+01, -1.4154e+01, -1.9918e+01, -2.5087e+01,\n",
       "          -1.7594e+01, -1.9210e+01, -3.1913e+01, -7.1526e-07, -2.2076e+01],\n",
       "         [-1.7914e+01, -1.2542e+01, -1.6752e+01, -1.2754e+01, -1.9843e+01,\n",
       "          -1.0970e+01, -1.7340e+01, -1.3110e+01, -2.6106e-05, -1.5168e+01],\n",
       "         [-1.4351e+01, -1.4431e+01, -1.1265e+01, -8.5915e+00, -8.7177e+00,\n",
       "          -7.7710e+00, -1.2599e+01, -1.4783e+01, -1.1054e-03, -8.0597e+00],\n",
       "         [-1.5201e+01, -1.7440e+01, -3.5692e+00, -1.1983e+01, -2.0261e+01,\n",
       "          -1.9216e+01, -2.2087e+01, -1.2539e+01, -2.8594e-02, -1.5789e+01],\n",
       "         [-1.1816e+01, -1.7234e+01, -1.3806e+01, -1.1999e+01, -1.9653e+01,\n",
       "          -1.1420e+01, -1.2783e+01, -2.1841e+01, -2.8610e-05, -1.5267e+01],\n",
       "         [-1.8844e+01, -7.7972e+00, -1.5771e+01, -1.4091e+01, -1.1999e+01,\n",
       "          -1.2590e+01, -9.3993e+00, -2.2274e+01, -5.0425e-04, -2.2024e+01],\n",
       "         [-1.2136e+01, -1.6658e+01, -5.8670e+00, -1.2589e+01, -1.9464e+01,\n",
       "          -1.3165e+01, -1.8681e+01, -1.3861e+01, -2.8504e-03, -1.2650e+01],\n",
       "         [-2.5211e+01, -2.3310e+01, -2.2786e+01, -1.6659e+01, -2.5958e+01,\n",
       "          -1.2871e+01, -2.2240e+01, -2.4428e+01, -2.6226e-06, -1.9905e+01],\n",
       "         [-1.6310e+01, -1.5431e+01, -1.7763e+01, -1.9842e+01, -2.6105e+01,\n",
       "          -1.1855e+01, -2.2123e+01, -2.0146e+01, -7.3909e-06, -1.7490e+01],\n",
       "         [-1.3260e+01, -1.0499e+01, -8.1387e+00, -4.0338e+00, -1.2442e+01,\n",
       "          -7.1084e+00, -1.4442e+01, -8.0439e+00, -2.0039e-02, -7.3136e+00],\n",
       "         [-1.2260e+01, -1.0811e+01, -5.9688e+00, -8.1407e-01, -1.5052e+01,\n",
       "          -8.7540e+00, -1.0076e+01, -1.2317e+01, -5.9031e-01, -1.2068e+01],\n",
       "         [-1.2508e+01, -1.8733e+01, -1.1190e+01, -9.4922e+00, -1.6976e+01,\n",
       "          -1.1106e+01, -1.7482e+01, -1.5607e+01, -1.6771e-04, -9.7285e+00],\n",
       "         [-2.0272e+01, -2.0940e+01, -1.0150e+01, -1.0732e+01, -2.3568e+01,\n",
       "          -1.2153e+01, -2.2940e+01, -1.5250e+01, -6.6517e-05, -1.6267e+01],\n",
       "         [-1.4402e+01, -1.8019e+01, -1.1268e+01, -1.0164e+01, -1.1178e+01,\n",
       "          -7.7138e+00, -1.3614e+01, -1.3335e+01, -1.0079e-03, -7.6170e+00],\n",
       "         [-2.4090e+01, -1.8963e+01, -1.9509e+01, -1.3806e+01, -2.3971e+01,\n",
       "          -1.3792e+01, -2.0478e+01, -2.7831e+01, -2.0266e-06, -2.0722e+01],\n",
       "         [-2.7033e+01, -2.1756e+01, -1.7308e+01, -1.2917e+01, -2.7739e+01,\n",
       "          -1.9319e+01, -3.1220e+01, -2.2796e+01, -2.5034e-06, -1.8079e+01],\n",
       "         [-1.4563e+01, -1.2121e+01, -1.6430e+01, -1.2579e+01, -1.3603e+01,\n",
       "          -3.8855e+00, -8.3582e+00, -2.0223e+01, -2.1014e-02, -1.1333e+01],\n",
       "         [-1.4653e+01, -1.5381e+01, -9.9558e+00, -1.5174e+01, -1.0925e+01,\n",
       "          -1.2835e+01, -1.4342e+01, -1.7642e+01, -7.2357e-05, -1.2846e+01],\n",
       "         [-1.9334e+01, -1.9154e+01, -1.0648e+01, -1.2074e+01, -2.3478e+01,\n",
       "          -1.8215e+01, -2.2931e+01, -2.1962e+01, -2.9444e-05, -1.8901e+01],\n",
       "         [-1.8900e+01, -2.2504e+01, -1.7395e+01, -1.1252e+01, -2.0364e+01,\n",
       "          -8.8847e+00, -1.3167e+01, -2.4629e+01, -1.5353e-04, -1.5480e+01],\n",
       "         [-2.2065e+01, -1.9200e+01, -2.0935e+01, -1.5612e+01, -3.0161e+01,\n",
       "          -1.3411e+01, -2.5511e+01, -2.4067e+01, -1.6689e-06, -1.7330e+01],\n",
       "         [-1.6575e+01, -1.3984e+01, -9.6285e+00, -1.0562e+01, -2.0458e+01,\n",
       "          -1.6779e+01, -2.3539e+01, -1.4783e+01, -9.5363e-05, -1.2969e+01],\n",
       "         [-1.2724e+01, -1.5654e+01, -1.7639e+01, -1.4727e+01, -1.8524e+01,\n",
       "          -6.8965e+00, -1.3623e+01, -1.7799e+01, -1.0168e-03, -1.5052e+01],\n",
       "         [-1.2503e+01, -1.4716e+01, -1.1334e+01, -9.0622e+00, -6.8329e+00,\n",
       "          -4.9240e+00, -1.9898e+01, -6.7728e+00, -7.1001e-01, -6.9568e-01],\n",
       "         [-1.2906e+01, -1.1095e+01, -1.2559e+01, -7.2684e+00, -1.4370e+01,\n",
       "          -8.0170e+00, -1.1303e+01, -1.7459e+01, -1.0725e-03, -1.1438e+01],\n",
       "         [-1.2721e+01, -2.0620e+01, -1.2576e+01, -1.8643e+01, -2.1627e+01,\n",
       "          -1.3402e+01, -1.3130e+01, -2.4913e+01, -1.0014e-05, -1.9157e+01],\n",
       "         [-2.1362e+01, -1.5782e+01, -1.5667e+01, -1.4639e+01, -1.1808e+01,\n",
       "          -1.2729e+01, -1.7718e+01, -1.7138e+01, -1.2398e-05, -1.3585e+01],\n",
       "         [-2.0718e+01, -1.7072e+01, -1.5112e+01, -1.4773e+01, -2.8836e+01,\n",
       "          -1.8888e+01, -2.4756e+01, -1.8962e+01, -7.1526e-07, -2.1938e+01],\n",
       "         [-1.7896e+01, -1.7563e+01, -1.6471e+01, -1.7229e+01, -2.3498e+01,\n",
       "          -1.5358e+01, -2.1079e+01, -2.1289e+01, -3.5763e-07, -1.8703e+01],\n",
       "         [-2.6046e+01, -2.4849e+01, -1.8853e+01, -1.3407e+01, -2.2789e+01,\n",
       "          -1.3829e+01, -2.4692e+01, -2.4378e+01, -2.6226e-06, -1.6049e+01],\n",
       "         [-1.4418e+01, -1.7052e+01, -1.6940e+01, -1.4337e+01, -1.9730e+01,\n",
       "          -8.3651e+00, -1.1812e+01, -2.0216e+01, -2.4304e-04, -1.3435e+01],\n",
       "         [-7.6765e+00, -1.5615e+01, -9.7378e+00, -1.0220e+01, -1.4304e+01,\n",
       "          -1.1009e+01, -9.9008e+00, -1.6476e+01, -6.3733e-04, -1.1448e+01],\n",
       "         [-2.0026e+01, -2.0952e+01, -2.1456e+01, -1.7809e+01, -2.6532e+01,\n",
       "          -1.5589e+01, -2.3320e+01, -2.3600e+01, -2.3842e-07, -1.7958e+01],\n",
       "         [-1.5648e+01, -1.7307e+01, -1.9387e+01, -1.6168e+01, -2.2424e+01,\n",
       "          -6.6833e+00, -1.0461e+01, -2.4911e+01, -1.2814e-03, -1.6299e+01],\n",
       "         [-1.7505e+01, -1.7742e+01, -1.8264e+01, -1.2627e+01, -2.1306e+01,\n",
       "          -1.2294e+01, -1.7450e+01, -2.3291e+01, -7.9870e-06, -1.6089e+01],\n",
       "         [-2.0895e+01, -1.9318e+01, -1.9577e+01, -1.5260e+01, -1.7210e+01,\n",
       "          -1.0867e+01, -1.4275e+01, -2.3082e+01, -1.9908e-05, -1.7080e+01],\n",
       "         [-9.8805e+00, -1.3353e+01, -7.9196e+00, -1.3297e+01, -1.8294e+01,\n",
       "          -1.1966e+01, -1.5182e+01, -1.4909e+01, -4.2596e-04, -1.3851e+01],\n",
       "         [-2.5019e+01, -2.5649e+01, -2.1868e+01, -1.6193e+01, -2.7881e+01,\n",
       "          -1.4123e+01, -2.3330e+01, -3.0831e+01, -8.3446e-07, -2.0725e+01],\n",
       "         [-2.4798e+01, -1.9580e+01, -1.9071e+01, -1.8217e+01, -2.6954e+01,\n",
       "          -1.8351e+01, -2.7857e+01, -1.8700e+01,  0.0000e+00, -1.9529e+01],\n",
       "         [-2.0484e+01, -2.0741e+01, -2.0913e+01, -2.0143e+01, -1.8494e+01,\n",
       "          -9.0088e+00, -1.5213e+01, -2.4832e+01, -1.2254e-04, -2.2845e+01]],\n",
       "        device='mps:0'),\n",
       " '9 - nine': tensor([[-7.5601e+00, -2.3082e+01, -1.5297e+01,  ..., -1.0911e+01,\n",
       "          -7.4184e+00, -1.9731e-03],\n",
       "         [-2.1238e+01, -2.7391e+01, -1.9415e+01,  ..., -1.0520e+01,\n",
       "          -1.5165e+01, -4.3859e-04],\n",
       "         [-2.0181e+01, -2.1346e+01, -2.1136e+01,  ..., -1.2794e+01,\n",
       "          -1.2472e+01, -3.2901e-05],\n",
       "         ...,\n",
       "         [-1.1460e+01, -1.6986e+01, -1.4151e+01,  ..., -1.5423e+01,\n",
       "          -3.5414e+00, -3.4743e-02],\n",
       "         [-1.8513e+01, -2.6359e+01, -2.1550e+01,  ..., -1.3868e+01,\n",
       "          -1.1589e+01, -1.0561e-04],\n",
       "         [-2.4024e+01, -2.6360e+01, -2.8439e+01,  ..., -1.1981e+01,\n",
       "          -1.5355e+01, -3.8027e-05]], device='mps:0')}"
      ]
     },
     "execution_count": 103,
     "metadata": {},
     "output_type": "execute_result"
    }
   ],
   "source": []
  },
  {
   "cell_type": "code",
   "execution_count": null,
   "metadata": {},
   "outputs": [
    {
     "data": {
      "text/plain": [
       "tensor([9.9428e-01, 9.1451e-11, 5.7241e-08, 1.5029e-09, 1.3490e-10, 1.6004e-07,\n",
       "        1.3524e-06, 7.6858e-12, 9.1404e-07, 1.3805e-07], device='mps:0')"
      ]
     },
     "execution_count": 78,
     "metadata": {},
     "output_type": "execute_result"
    }
   ],
   "source": [
    "import torch\n",
    "\n",
    "class_name = '0 - zero'\n",
    "output = get_logits(class_name, ideal, loaders = train_loaders, device = device)\n",
    "torch.exp(output.mean(dim=0))"
   ]
  },
  {
   "cell_type": "code",
   "execution_count": null,
   "metadata": {},
   "outputs": [
    {
     "data": {
      "text/plain": [
       "torch.Size([128, 9])"
      ]
     },
     "execution_count": 80,
     "metadata": {},
     "output_type": "execute_result"
    }
   ],
   "source": [
    "naive_method(output, class_num).size()"
   ]
  },
  {
   "cell_type": "code",
   "execution_count": null,
   "metadata": {},
   "outputs": [
    {
     "data": {
      "text/plain": [
       "12"
      ]
     },
     "execution_count": 59,
     "metadata": {},
     "output_type": "execute_result"
    }
   ],
   "source": [
    "\n",
    "num_workers"
   ]
  },
  {
   "cell_type": "code",
   "execution_count": null,
   "metadata": {},
   "outputs": [
    {
     "name": "stdout",
     "output_type": "stream",
     "text": [
      "Nombre de CPU logiques (threads) disponibles : 12\n"
     ]
    }
   ],
   "source": []
  }
 ],
 "metadata": {
  "kernelspec": {
   "display_name": "base",
   "language": "python",
   "name": "python3"
  },
  "language_info": {
   "codemirror_mode": {
    "name": "ipython",
    "version": 3
   },
   "file_extension": ".py",
   "mimetype": "text/x-python",
   "name": "python",
   "nbconvert_exporter": "python",
   "pygments_lexer": "ipython3",
   "version": "3.12.2"
  }
 },
 "nbformat": 4,
 "nbformat_minor": 2
}
