{
 "cells": [
  {
   "cell_type": "markdown",
   "metadata": {},
   "source": [
    "# Loading dependencies and model"
   ]
  },
  {
   "cell_type": "code",
   "execution_count": 1,
   "metadata": {},
   "outputs": [],
   "source": [
    "import os\n",
    "import torch\n",
    "from torchvision import datasets, transforms\n",
    "from utils import loaders_by_classes, filter_loaders, balance\n",
    "from classNet import ConvNet, submodel # for torch load\n",
    "import matplotlib.pyplot as plt"
   ]
  },
  {
   "cell_type": "code",
   "execution_count": 2,
   "metadata": {},
   "outputs": [
    {
     "data": {
      "text/plain": [
       "ConvNet(\n",
       "  (conv1): Conv2d(1, 32, kernel_size=(3, 3), stride=(1, 1), padding=(1, 1))\n",
       "  (conv2): Conv2d(32, 64, kernel_size=(3, 3), stride=(1, 1), padding=(1, 1))\n",
       "  (conv2_drop): Dropout2d(p=0.25, inplace=False)\n",
       "  (fc1): Linear(in_features=3136, out_features=128, bias=True)\n",
       "  (fc2): Linear(in_features=128, out_features=10, bias=True)\n",
       ")"
      ]
     },
     "execution_count": 2,
     "metadata": {},
     "output_type": "execute_result"
    }
   ],
   "source": [
    "_model = torch.load('./models/all_class.pth', weights_only=False)\n",
    "_model"
   ]
  },
  {
   "cell_type": "code",
   "execution_count": 3,
   "metadata": {},
   "outputs": [],
   "source": [
    "transform = transforms.Compose([\n",
    "    transforms.ToTensor(),  # Convert images to PyTorch tensors\n",
    "    transforms.Normalize((0,), (1,))  # Normalize images\n",
    "])\n",
    "\n",
    "test_set = datasets.MNIST(root='./data', train=False, download=True, transform=transform)\n",
    "\n",
    "batch_size = 64\n",
    "num_workers = os.cpu_count()\n",
    "test_loaders = loaders_by_classes(test_set, batch_size=batch_size, shuffle=True, num_workers=num_workers)"
   ]
  },
  {
   "cell_type": "code",
   "execution_count": 4,
   "metadata": {},
   "outputs": [
    {
     "data": {
      "text/plain": [
       "device(type='mps')"
      ]
     },
     "execution_count": 4,
     "metadata": {},
     "output_type": "execute_result"
    }
   ],
   "source": [
    "if torch.backends.mps.is_available():\n",
    "    device = torch.device(\"mps\")\n",
    "elif torch.cuda.is_available():\n",
    "    device = torch.device(\"cuda\")\n",
    "else:\n",
    "    device = torch.device(\"cpu\")\n",
    "\n",
    "device"
   ]
  },
  {
   "cell_type": "markdown",
   "metadata": {},
   "source": [
    "# Choose class to Test"
   ]
  },
  {
   "cell_type": "code",
   "execution_count": 5,
   "metadata": {},
   "outputs": [],
   "source": [
    "class_name = '7 - seven'\n",
    "class_loader = test_loaders[class_name]\n"
   ]
  },
  {
   "cell_type": "code",
   "execution_count": null,
   "metadata": {},
   "outputs": [],
   "source": [
    "bal = balance(test_loaders)\n",
    "n_items_class = bal[class_name]\n",
    "n_tot = 0\n",
    "for key, val in bal.items():\n",
    "    if key != class_name:\n",
    "        n_tot += val\n",
    "proportion = n_items_class / n_tot\n",
    "balanced_batch_size = (1 - proportion) * batch_size / proportion"
   ]
  },
  {
   "cell_type": "code",
   "execution_count": null,
   "metadata": {},
   "outputs": [],
   "source": [
    "filtered_loader = filter_loaders(test_loaders, class_name, balanced_batch_size, shuffle=True, num_workers=num_workers)"
   ]
  },
  {
   "cell_type": "markdown",
   "metadata": {},
   "source": [
    "# Submodel"
   ]
  },
  {
   "cell_type": "code",
   "execution_count": 8,
   "metadata": {},
   "outputs": [
    {
     "data": {
      "text/plain": [
       "ConvNet(\n",
       "  (conv1): Conv2d(1, 32, kernel_size=(3, 3), stride=(1, 1), padding=(1, 1))\n",
       "  (conv2): Conv2d(32, 64, kernel_size=(3, 3), stride=(1, 1), padding=(1, 1))\n",
       "  (conv2_drop): Dropout2d(p=0.25, inplace=False)\n",
       "  (fc1): Linear(in_features=3136, out_features=128, bias=True)\n",
       "  (fc2): Linear(in_features=128, out_features=9, bias=True)\n",
       ")"
      ]
     },
     "execution_count": 8,
     "metadata": {},
     "output_type": "execute_result"
    }
   ],
   "source": [
    "model = submodel(_model, 7)\n",
    "model.to(device)\n"
   ]
  },
  {
   "cell_type": "markdown",
   "metadata": {},
   "source": [
    "# Gradients pour classic Loss "
   ]
  },
  {
   "cell_type": "code",
   "execution_count": 9,
   "metadata": {},
   "outputs": [
    {
     "data": {
      "text/plain": [
       "<matplotlib.image.AxesImage at 0x3383ebf50>"
      ]
     },
     "execution_count": 9,
     "metadata": {},
     "output_type": "execute_result"
    },
    {
     "data": {
      "image/png": "[encoded data removed]",
      "text/plain": [
       "<Figure size 640x480 with 1 Axes>"
      ]
     },
     "metadata": {},
     "output_type": "display_data"
    }
   ],
   "source": [
    "input = next(iter(filtered_loader))\n",
    "plt.imshow(input[0][0].squeeze(), cmap='gray')"
   ]
  },
  {
   "cell_type": "code",
   "execution_count": 10,
   "metadata": {},
   "outputs": [],
   "source": [
    "def get_param_grad_1(model, input, back_lay_num = 1):\n",
    "    input_tensor, label_tensor = input\n",
    "    input_tensor = input_tensor.to(device)\n",
    "    label_tensor = label_tensor.to(device)\n",
    "\n",
    "    # Assurez-vous que l'entrée a bien requires_grad activé\n",
    "    input_tensor.requires_grad_(True)\n",
    "\n",
    "    # Passer en avant jusqu'au dernier layer paramétrique\n",
    "    model.zero_grad()\n",
    "    output = model(input_tensor)\n",
    "\n",
    "    # Calcul de la perte et rétropropagation\n",
    "    criterion = torch.nn.CrossEntropyLoss()\n",
    "    loss = criterion(output, label_tensor)\n",
    "    loss.backward()\n",
    "\n",
    "    # Récupérer le gradient des poids et biais du layer paramétrique\n",
    "    layer = list(model.children())[- back_lay_num]  # Dernier layer du modèle\n",
    "\n",
    "    # Liste pour stocker les gradients de chaque paramètre\n",
    "    grad_params = []\n",
    "\n",
    "    for param in layer.parameters():\n",
    "        # Aplatir les gradients des paramètres (poids et biais)\n",
    "        grad_params.append(param.grad.flatten())  # Aplatir les gradients des poids et biais\n",
    "\n",
    "    return grad_params"
   ]
  },
  {
   "cell_type": "code",
   "execution_count": 11,
   "metadata": {},
   "outputs": [],
   "source": [
    "grad_1 = get_param_grad_1(model, input)"
   ]
  },
  {
   "cell_type": "code",
   "execution_count": 12,
   "metadata": {},
   "outputs": [
    {
     "data": {
      "text/plain": [
       "[tensor([ 3.1297e-05,  4.5581e-05,  1.3455e-04,  ..., -1.0026e+00,\n",
       "          3.2846e-06,  0.0000e+00], device='mps:0'),\n",
       " tensor([ 0.0001,  0.0106, -0.0063,  0.0086,  0.0158, -0.0077, -0.0005,  0.0976,\n",
       "         -0.1182], device='mps:0')]"
      ]
     },
     "execution_count": 12,
     "metadata": {},
     "output_type": "execute_result"
    }
   ],
   "source": [
    "grad_1"
   ]
  },
  {
   "cell_type": "markdown",
   "metadata": {},
   "source": [
    "# Gradient pour Target Loss"
   ]
  },
  {
   "cell_type": "code",
   "execution_count": 13,
   "metadata": {},
   "outputs": [
    {
     "data": {
      "text/plain": [
       "<matplotlib.image.AxesImage at 0x3383ebfb0>"
      ]
     },
     "execution_count": 13,
     "metadata": {},
     "output_type": "execute_result"
    },
    {
     "data": {
      "image/png": "[encoded data removed]",
      "text/plain": [
       "<Figure size 640x480 with 1 Axes>"
      ]
     },
     "metadata": {},
     "output_type": "display_data"
    }
   ],
   "source": [
    "input = next(iter(class_loader))\n",
    "# plot un example d'image input\n",
    "plt.imshow(input[0][0].squeeze(), cmap='gray')"
   ]
  },
  {
   "cell_type": "code",
   "execution_count": 46,
   "metadata": {},
   "outputs": [
    {
     "data": {
      "text/plain": [
       "ConvNet(\n",
       "  (conv1): Conv2d(1, 32, kernel_size=(3, 3), stride=(1, 1), padding=(1, 1))\n",
       "  (conv2): Conv2d(32, 64, kernel_size=(3, 3), stride=(1, 1), padding=(1, 1))\n",
       "  (conv2_drop): Dropout2d(p=0.25, inplace=False)\n",
       "  (fc1): Linear(in_features=3136, out_features=128, bias=True)\n",
       "  (fc2): Linear(in_features=128, out_features=10, bias=True)\n",
       ")"
      ]
     },
     "execution_count": 46,
     "metadata": {},
     "output_type": "execute_result"
    }
   ],
   "source": [
    "_model"
   ]
  },
  {
   "cell_type": "code",
   "execution_count": 56,
   "metadata": {},
   "outputs": [
    {
     "data": {
      "text/plain": [
       "tensor([[4.2597e-03, 2.9180e-01, 5.2444e-04, 2.3075e-02, 2.0054e-01, 2.7490e-02,\n",
       "         7.5889e-04],\n",
       "        [8.2640e-09, 4.3622e-02, 1.1558e-01, 8.1650e-01, 2.9861e-05, 7.0842e-08,\n",
       "         5.0550e-13],\n",
       "        [2.5138e-07, 4.7007e-02, 1.9535e-02, 5.3996e-03, 2.8063e-06, 2.3294e-06,\n",
       "         3.8001e-13],\n",
       "        [4.3968e-05, 4.1172e-06, 9.8676e-01, 1.2892e-02, 1.7187e-09, 2.4299e-09,\n",
       "         2.8671e-12],\n",
       "        [9.2030e-08, 3.0545e-02, 8.7790e-01, 8.6705e-02, 4.5163e-05, 1.1730e-05,\n",
       "         1.3516e-09],\n",
       "        [1.1487e-08, 6.6002e-03, 1.7978e-02, 4.0413e-03, 6.5621e-04, 1.7902e-08,\n",
       "         9.8922e-13],\n",
       "        [2.2967e-05, 5.4231e-03, 9.8295e-01, 1.4081e-03, 6.2594e-07, 1.9822e-09,\n",
       "         6.9822e-11],\n",
       "        [1.2732e-04, 1.0058e-03, 1.9968e-05, 9.9577e-04, 9.0202e-04, 4.7851e-03,\n",
       "         7.9604e-09],\n",
       "        [3.4042e-09, 2.5014e-02, 1.5310e-02, 9.5008e-01, 3.4701e-08, 4.5710e-10,\n",
       "         3.7142e-14],\n",
       "        [2.2387e-08, 8.8648e-02, 7.9922e-03, 9.0307e-01, 6.0609e-05, 3.5267e-05,\n",
       "         1.0429e-09],\n",
       "        [2.9057e-08, 8.9974e-01, 9.2668e-03, 8.8627e-02, 6.7826e-05, 5.9913e-08,\n",
       "         1.9344e-09],\n",
       "        [3.5123e-05, 2.2027e-03, 4.5203e-01, 5.4363e-01, 1.0868e-09, 1.3309e-08,\n",
       "         1.5678e-11],\n",
       "        [8.3630e-07, 1.0866e-03, 1.2838e-02, 1.0113e-04, 6.0341e-02, 7.3337e-08,\n",
       "         1.1576e-11],\n",
       "        [5.7628e-10, 8.6649e-04, 3.2909e-03, 8.2723e-01, 1.3992e-02, 1.7354e-07,\n",
       "         1.2965e-13],\n",
       "        [6.4942e-02, 1.1103e-01, 2.5910e-01, 7.3636e-03, 2.9529e-03, 2.9427e-05,\n",
       "         4.3536e-05],\n",
       "        [6.4959e-06, 2.1270e-01, 4.5190e-03, 5.5929e-02, 4.9007e-04, 1.4553e-07,\n",
       "         4.4217e-10],\n",
       "        [5.6844e-04, 3.9426e-06, 9.0318e-01, 9.0833e-02, 1.8878e-08, 6.5233e-07,\n",
       "         2.5509e-11],\n",
       "        [2.1176e-09, 2.4223e-01, 8.3715e-02, 4.9154e-02, 5.1177e-03, 1.5859e-06,\n",
       "         2.2351e-11],\n",
       "        [2.8951e-06, 2.9870e-01, 4.5665e-03, 5.7718e-01, 6.2190e-04, 2.7252e-03,\n",
       "         2.5074e-06],\n",
       "        [1.6442e-05, 8.7205e-01, 4.8362e-02, 2.7697e-02, 2.1687e-04, 5.0776e-05,\n",
       "         9.4097e-09],\n",
       "        [1.1294e-01, 2.2132e-03, 1.1115e-01, 8.8173e-03, 3.3946e-03, 7.2655e-04,\n",
       "         7.5266e-08],\n",
       "        [3.9226e-05, 6.0022e-04, 1.6150e-03, 2.3375e-03, 2.6856e-06, 2.2419e-07,\n",
       "         3.7049e-10],\n",
       "        [1.4851e-08, 1.4499e-03, 9.9169e-01, 6.8357e-03, 2.0994e-09, 1.6247e-09,\n",
       "         9.2192e-11],\n",
       "        [4.8364e-07, 1.2180e-01, 1.5087e-02, 7.2066e-01, 3.8182e-03, 1.0622e-04,\n",
       "         3.1379e-08],\n",
       "        [6.0556e-05, 9.1025e-04, 6.6289e-01, 3.2940e-01, 8.6470e-08, 7.6138e-07,\n",
       "         1.4352e-11],\n",
       "        [4.8961e-09, 3.3821e-04, 1.5835e-02, 4.8564e-04, 9.5110e-01, 9.5846e-07,\n",
       "         7.8587e-09],\n",
       "        [7.3235e-03, 6.0414e-02, 1.2322e-03, 5.0823e-03, 2.6072e-03, 2.2068e-02,\n",
       "         5.7245e-06],\n",
       "        [6.3472e-08, 9.0250e-01, 8.8233e-02, 4.0880e-03, 3.2016e-03, 1.7226e-04,\n",
       "         2.8094e-06],\n",
       "        [1.5389e-02, 3.6484e-02, 5.5687e-02, 6.7089e-03, 6.4710e-03, 2.3475e-03,\n",
       "         1.0839e-05],\n",
       "        [1.6589e-02, 1.3653e-02, 7.2289e-01, 1.3247e-01, 1.0332e-06, 1.5027e-03,\n",
       "         3.6960e-06],\n",
       "        [5.9604e-01, 1.9450e-01, 1.9701e-04, 1.9854e-02, 6.7219e-04, 1.1590e-03,\n",
       "         1.5836e-03],\n",
       "        [2.2517e-09, 1.0335e-01, 1.1291e-03, 9.6180e-06, 8.7606e-01, 4.5219e-05,\n",
       "         2.0504e-07],\n",
       "        [1.3070e-04, 1.0753e-03, 6.7950e-05, 2.0749e-05, 1.2012e-02, 1.1247e-03,\n",
       "         3.7831e-06],\n",
       "        [3.1068e-04, 4.8792e-04, 5.4378e-03, 4.7525e-03, 5.8329e-04, 1.8531e-03,\n",
       "         1.8684e-07],\n",
       "        [1.2197e-05, 1.2877e-05, 1.8417e-06, 3.8037e-05, 9.5042e-02, 6.1751e-06,\n",
       "         3.7178e-09],\n",
       "        [1.4183e-11, 5.8546e-03, 1.1916e-05, 9.6601e-03, 6.6142e-01, 6.7323e-09,\n",
       "         7.8552e-11],\n",
       "        [6.5170e-03, 6.4296e-06, 7.6505e-01, 7.2498e-02, 1.4632e-04, 8.2126e-03,\n",
       "         2.7885e-08],\n",
       "        [1.0423e-07, 7.7485e-04, 2.7235e-01, 7.1480e-01, 2.7608e-06, 2.2798e-05,\n",
       "         2.0658e-11],\n",
       "        [1.1319e-03, 6.3518e-02, 3.0363e-02, 8.6409e-01, 4.7808e-04, 2.9353e-04,\n",
       "         7.3268e-05],\n",
       "        [2.2642e-06, 3.0036e-02, 8.4180e-03, 5.1968e-02, 1.3633e-03, 3.7866e-05,\n",
       "         3.6957e-09],\n",
       "        [1.8473e-03, 8.0686e-02, 1.7506e-01, 7.4203e-01, 5.2955e-08, 5.8777e-05,\n",
       "         4.4512e-09],\n",
       "        [8.7476e-07, 2.7236e-03, 5.7074e-04, 8.9476e-03, 1.0400e-02, 1.7059e-04,\n",
       "         1.2500e-08],\n",
       "        [2.6830e-08, 2.9054e-02, 8.1166e-02, 7.8968e-01, 3.7573e-05, 1.8152e-09,\n",
       "         6.8245e-12],\n",
       "        [3.1690e-06, 5.8718e-02, 4.2337e-01, 4.3681e-01, 2.9082e-05, 5.7260e-03,\n",
       "         1.6602e-09],\n",
       "        [2.0411e-04, 6.9048e-01, 7.3467e-02, 2.2796e-03, 1.3205e-01, 7.6240e-02,\n",
       "         5.3338e-05],\n",
       "        [9.4936e-07, 2.5966e-03, 6.3802e-05, 2.4967e-03, 4.1371e-06, 5.4484e-07,\n",
       "         2.1864e-11],\n",
       "        [6.1096e-08, 2.8355e-02, 1.1373e-01, 8.5478e-01, 1.6339e-05, 4.9064e-06,\n",
       "         7.1304e-10],\n",
       "        [4.9765e-06, 8.1678e-03, 3.7769e-01, 3.6379e-01, 4.6639e-04, 3.9103e-05,\n",
       "         9.4815e-11],\n",
       "        [1.2596e-10, 5.6540e-01, 9.1926e-03, 4.2540e-01, 5.7218e-11, 3.2897e-08,\n",
       "         5.5428e-14],\n",
       "        [1.4973e-05, 1.8344e-01, 8.7599e-05, 4.2675e-03, 1.6425e-02, 1.0134e-03,\n",
       "         2.0536e-06],\n",
       "        [2.7632e-06, 1.4177e-01, 4.1022e-02, 8.1436e-01, 1.8237e-06, 5.8558e-05,\n",
       "         2.5906e-09],\n",
       "        [5.0882e-08, 5.4030e-01, 1.8850e-01, 2.6212e-01, 4.6066e-04, 2.7778e-10,\n",
       "         1.5506e-10],\n",
       "        [6.1729e-08, 2.4939e-01, 5.3224e-05, 1.0987e-04, 4.1188e-01, 8.8297e-02,\n",
       "         1.9020e-07],\n",
       "        [3.1941e-09, 3.2403e-05, 2.0521e-05, 1.3441e-05, 5.1720e-01, 1.5485e-06,\n",
       "         2.3965e-11],\n",
       "        [2.5344e-04, 6.2785e-04, 9.6467e-01, 2.7605e-02, 1.6937e-07, 6.3732e-07,\n",
       "         9.4588e-09],\n",
       "        [9.7070e-08, 3.4307e-03, 3.4807e-02, 9.1742e-01, 3.9805e-05, 2.0884e-10,\n",
       "         2.0610e-12],\n",
       "        [9.8217e-06, 3.0134e-01, 1.5612e-03, 3.6088e-01, 2.0467e-02, 1.2859e-04,\n",
       "         3.6022e-08],\n",
       "        [2.2270e-07, 8.3613e-01, 1.5641e-02, 8.6816e-04, 1.5884e-02, 3.3891e-06,\n",
       "         7.7571e-09],\n",
       "        [4.5863e-05, 1.1834e-04, 4.5029e-02, 8.2391e-01, 3.4222e-10, 1.3035e-06,\n",
       "         7.6825e-15],\n",
       "        [1.5761e-06, 5.0562e-03, 2.8800e-03, 1.6441e-02, 4.7345e-01, 3.2928e-02,\n",
       "         1.9608e-07],\n",
       "        [1.3842e-04, 2.0968e-01, 3.3394e-01, 4.4911e-01, 3.2134e-05, 1.0025e-05,\n",
       "         4.1202e-07],\n",
       "        [1.6259e-06, 7.2798e-01, 1.4666e-03, 6.3856e-03, 1.0347e-02, 1.1005e-06,\n",
       "         7.0769e-08],\n",
       "        [2.2607e-07, 5.5028e-04, 1.9733e-01, 7.9903e-01, 3.4048e-09, 1.8697e-07,\n",
       "         1.5520e-13],\n",
       "        [1.2490e-04, 8.5902e-04, 9.2714e-03, 1.1425e-01, 2.9986e-02, 5.4093e-04,\n",
       "         1.0463e-07]], device='mps:0', grad_fn=<ExpBackward0>)"
      ]
     },
     "execution_count": 56,
     "metadata": {},
     "output_type": "execute_result"
    }
   ],
   "source": [
    "torch.exp(model(input[0].to(device))[:,:7])"
   ]
  },
  {
   "cell_type": "code",
   "execution_count": 71,
   "metadata": {},
   "outputs": [],
   "source": [
    "base_output = _model(input[0].to(device))\n",
    "trun_output = model(input[0].to(device))\n",
    "\n",
    "subbase_output = torch.cat([base_output[:,:7], base_output[:,7+1:]], dim=1)\n",
    "\n",
    "go_exp_base = torch.exp(subbase_output)\n",
    "go_exp_trun = torch.exp(trun_output)"
   ]
  },
  {
   "cell_type": "code",
   "execution_count": 77,
   "metadata": {},
   "outputs": [
    {
     "data": {
      "text/plain": [
       "[<matplotlib.lines.Line2D at 0x34a2acda0>]"
      ]
     },
     "execution_count": 77,
     "metadata": {},
     "output_type": "execute_result"
    },
    {
     "data": {
      "image/png": "[encoded data removed]",
      "text/plain": [
       "<Figure size 640x480 with 1 Axes>"
      ]
     },
     "metadata": {},
     "output_type": "display_data"
    }
   ],
   "source": [
    "plt.plot(go_exp_trun.detach().cpu().numpy()[0])"
   ]
  },
  {
   "cell_type": "code",
   "execution_count": null,
   "metadata": {},
   "outputs": [
    {
     "data": {
      "text/plain": [
       "[<matplotlib.lines.Line2D at 0x34a8c0800>]"
      ]
     },
     "execution_count": 48,
     "metadata": {},
     "output_type": "execute_result"
    },
    {
     "data": {
      "image/png": "[encoded data removed]",
      "text/plain": [
       "<Figure size 640x480 with 1 Axes>"
      ]
     },
     "metadata": {},
     "output_type": "display_data"
    }
   ],
   "source": [
    "output_logits = torch.exp(_model(input[0].to(device))[:, :7], dim=1)\n",
    "plt.plot(output_logits.detach().cpu().numpy()[0])"
   ]
  },
  {
   "cell_type": "code",
   "execution_count": 150,
   "metadata": {},
   "outputs": [],
   "source": [
    "def get_param_grad_2(model, input, back_lay_num = 1):\n",
    "    input_tensor, label_tensor = input\n",
    "    input_tensor = input_tensor.to(device)\n",
    "    label_tensor = label_tensor.to(device)\n",
    "\n",
    "    # Assurez-vous que l'entrée a bien requires_grad activé\n",
    "    input_tensor.requires_grad_(True)\n",
    "\n",
    "    # Cible : couche à surveiller\n",
    "    layers = list(model.children())\n",
    "    layer = layers[-back_lay_num]\n",
    "\n",
    "    # Variable pour stocker les activations\n",
    "    activations = None\n",
    "\n",
    "    # Hook pour capturer les activations\n",
    "    def hook_fn(module, input, output):\n",
    "        nonlocal activations\n",
    "        activations = output\n",
    "\n",
    "    # Enregistrement du hook\n",
    "    layer.register_forward_hook(hook_fn)\n",
    "    \n",
    "    # Passer en avant jusqu'au dernier layer paramétrique\n",
    "    model.zero_grad()\n",
    "    output = model(input_tensor)\n",
    "\n",
    "    # activation correspond à la sortie de la couche AVANT log_softmax \n",
    "    _activations = activations.detach()\n",
    "    print(activations)\n",
    "    print(torch.mean(_activations, dim=0, keepdim=True))\n",
    "    target = _activations - torch.mean(_activations, dim=0, keepdim=True)\n",
    "    # target = - torch.ones(9).to(device)\n",
    "\n",
    "    print(target.requires_grad)\n",
    "    # Calcul de la perte et rétropropagation\n",
    "    loss = torch.nn.functional.mse_loss(activations, target)\n",
    "    loss.backward()\n",
    "\n",
    "    # Liste pour stocker les gradients de chaque paramètre\n",
    "    grad_params = []\n",
    "\n",
    "    for param in layer.parameters():\n",
    "        # Aplatir les gradients des paramètres (poids et biais)\n",
    "        grad_params.append(param.grad.flatten())  # Aplatir les gradients des poids et biais\n",
    "\n",
    "    return grad_params"
   ]
  },
  {
   "cell_type": "code",
   "execution_count": 149,
   "metadata": {},
   "outputs": [
    {
     "name": "stdout",
     "output_type": "stream",
     "text": [
      "tensor([[ -4.5533,   1.6713,  -6.3393,  -3.7737,   1.1944,  -2.0883,  -5.9071,\n",
      "          -6.6814,   1.9590],\n",
      "        [ -9.6524,  -4.1537,   1.4024,   0.9584,  -5.3069,  -9.6900, -19.1455,\n",
      "          -3.1929,  -1.1751],\n",
      "        [ -9.1936,  -2.4367,  -1.2555,  -0.1916,  -8.4482,  -6.5464, -19.3147,\n",
      "          -2.5727,   2.8894],\n",
      "        [ -5.4379,  -3.9553,   5.7606,   2.4984, -11.9779, -11.3161, -21.8194,\n",
      "          -6.6440,  -1.0480],\n",
      "        [-12.9192,   1.7978,   0.9373,   2.6922,  -7.3518,  -9.2857, -19.8641,\n",
      "          -5.8674,  -0.6181],\n",
      "        [-13.4957,  -3.4620,  -4.1966,   0.7654,  -0.8965, -12.7713, -20.6965,\n",
      "         -10.0567,   4.1380],\n",
      "        [-10.8875,   1.6282,   2.2260,   2.9760,  -9.5663, -12.5690, -22.1206,\n",
      "          -5.8285,  -1.8824],\n",
      "        [ -9.0897,  -1.0387,  -7.7430,  -3.2481,  -2.6396,  -2.9173, -14.1101,\n",
      "          -4.9273,   2.3592],\n",
      "        [ -9.3960,  -1.2017,   2.3871,   3.9594,  -9.8436, -12.7597, -22.9854,\n",
      "          -6.5009,  -0.5882],\n",
      "        [-10.6547,   0.6474,   0.7608,   1.8708, -10.8252,  -7.9370, -19.6278,\n",
      "          -2.4833,  -2.4539],\n",
      "        [-12.4857,   3.5090,   1.0048,   3.2666,  -5.8834, -10.7061, -15.5696,\n",
      "          -5.5705,  -1.6916],\n",
      "        [ -6.5830,   1.9757,   4.3817,   1.7658, -10.0184, -10.2136, -16.4848,\n",
      "          -3.1955,  -0.4712],\n",
      "        [ -9.0799,  -4.4928,  -0.2848,  -0.8711,  -3.8208,  -9.5596, -19.5926,\n",
      "          -8.8657,   3.4460],\n",
      "        [-12.6389,  -2.2849,  -1.7399,   2.9709,  -4.0059, -10.1158, -21.3214,\n",
      "          -7.3498,   1.4249],\n",
      "        [ -3.8289,  -0.5444,  -2.1720,  -3.4350,  -1.7996,  -9.6649, -11.4153,\n",
      "          -6.3830,   2.5227],\n",
      "        [-10.2730,  -1.2778,   0.9145,   2.7938, -11.0875, -10.1257, -23.0718,\n",
      "          -4.8539,   0.7402],\n",
      "        [ -0.7925,  -3.6438,   3.7250,   3.9752,  -9.9920,  -9.7758, -18.7734,\n",
      "          -5.3514,   1.6647],\n",
      "        [-12.8222,   0.2909,  -0.8035,   3.2946,  -6.5188, -10.2597, -20.8857,\n",
      "          -7.2559,   1.2214],\n",
      "        [-12.6339,   2.5193,  -0.8726,   3.8147,  -8.1781,  -9.1098, -17.4867,\n",
      "          -5.6758,  -0.1280],\n",
      "        [ -9.3336,  -1.1811,  -3.7317,  -1.4337,  -3.9002,  -6.1862, -16.3357,\n",
      "          -6.7649,   1.6519],\n",
      "        [ -4.8807,  -3.0775,  -2.8203,  -4.5741,  -4.8056,  -7.1951, -14.9823,\n",
      "          -6.2005,   3.4451],\n",
      "        [ -2.7721,  -4.1890,  -1.4159,  -1.5048,  -5.3944, -10.6535, -16.4423,\n",
      "          -7.6128,   4.1538],\n",
      "        [-10.3719,   2.9549,   9.6460,   4.9242, -10.3789, -10.1493, -15.1464,\n",
      "          -1.1856,  -8.6092],\n",
      "        [-10.4252,   1.0566,  -3.5090,   1.3564,  -5.4960,  -6.3961, -14.3629,\n",
      "          -4.5712,   1.6737],\n",
      "        [ -7.4112,  -0.8255,   3.8156,   2.6179, -10.5015, -10.9056, -21.6533,\n",
      "          -5.6071,  -0.0877],\n",
      "        [-10.3166,  -2.8032,  -0.5713,   0.6892,   2.3738, -10.1082, -10.7340,\n",
      "          -4.5566,  -1.6225],\n",
      "        [ -1.6711,  -5.3802,  -8.2811,  -4.7908,  -0.2234,  -5.3709, -12.2319,\n",
      "         -10.3895,   4.8461],\n",
      "        [-14.8414,  -0.3429,  -0.6002,  -1.6327,   1.0307,  -4.1256,  -8.7280,\n",
      "           1.1063,  -3.2437],\n",
      "        [ -4.1530,   0.1989,  -2.3180,  -3.1019,  -4.1498,  -6.2685, -10.1704,\n",
      "          -5.2384,   2.6247],\n",
      "        [ -4.9978,  -0.4402,   2.2626,  -0.1345,  -9.5980,  -6.7129, -14.9329,\n",
      "          -0.1508,  -1.0455],\n",
      "        [  0.0439,  -3.8540,  -3.0417,  -3.2408,  -3.4809,  -4.4397,  -8.1726,\n",
      "          -3.2459,   0.5606],\n",
      "        [-15.9680,   4.1908,  -2.8943,  -4.2229,   3.4355,  -5.1930,  -9.9710,\n",
      "           1.4059,  -3.2686],\n",
      "        [ -5.5303,  -3.5922,  -6.2833,  -3.4550,  -1.8341,  -5.1564, -12.6315,\n",
      "          -6.6249,   4.8401],\n",
      "        [ -7.5056,  -1.8072,  -3.1636,  -2.7804,  -4.0890,  -4.9426, -14.2695,\n",
      "          -4.0031,   2.2181],\n",
      "        [ -4.9966,  -3.7212,  -7.6182,  -5.2462,  -0.7073,  -5.4521, -12.0641,\n",
      "          -6.9322,   3.4039],\n",
      "        [-16.8378,   0.1695,  -3.9062,   2.0811,  -0.5063, -13.3465, -20.0763,\n",
      "          -9.3795,   1.3838],\n",
      "        [ -1.6089,  -5.9898,   4.2373,   1.3697,  -5.9497,  -3.7499, -13.9220,\n",
      "          -2.1968,   2.3575],\n",
      "        [-11.9525,  -2.2384,   1.6308,   1.8090,  -7.0554,  -9.8625, -20.0930,\n",
      "          -2.9045,  -1.6015],\n",
      "        [ -5.9141,   3.0303,   0.2462,   2.3229,  -8.1126,  -7.2788, -11.2863,\n",
      "          -3.2722,  -1.0405],\n",
      "        [-11.1170,  -0.4869,   0.5981,   1.8434,  -6.9204,  -8.7852, -18.1960,\n",
      "          -4.0160,   0.1545],\n",
      "        [ -9.4760,   2.6356,   1.6492,   2.5449, -13.6674, -10.9550, -20.5416,\n",
      "          -3.2036,  -1.8781],\n",
      "        [ -8.7094,  -5.0200,  -4.4829,  -0.5776,  -0.7666,  -4.1956, -15.8746,\n",
      "          -8.1577,   5.4973],\n",
      "        [ -6.7735,  -3.4355,   1.2064,   2.2558,  -7.8154, -13.3961, -21.0527,\n",
      "          -7.8833,   2.8599],\n",
      "        [ -9.3867,  -1.5558,   1.9877,   3.9898,  -9.4211, -10.1545, -22.6782,\n",
      "          -6.1748,   0.8269],\n",
      "        [ -8.3750,   0.5715,  -3.9745,  -5.7217,  -0.1913,  -1.8754, -10.4559,\n",
      "          -4.6982,  -1.7051],\n",
      "        [ -5.6156,  -2.7694,  -1.4115,  -1.3726,  -7.3874,  -7.9475, -17.0644,\n",
      "          -6.3949,   2.9133],\n",
      "        [-13.9678,  -0.8074,   1.9330,   2.9703,  -2.9870,  -7.5542, -16.7518,\n",
      "          -0.7911,  -1.6075],\n",
      "        [-11.5214,  -1.0006,  -1.1302,   1.8035,  -5.0660,  -6.5524, -18.8072,\n",
      "          -4.3435,   1.3902],\n",
      "        [-13.5356,   6.5704,  -0.9772,   3.6172, -11.4693,  -8.2386, -16.6133,\n",
      "          -3.8346,  -6.0252],\n",
      "        [-11.0855,   0.2602,  -4.6289,  -1.4330,  -2.2327,  -5.5353, -14.4456,\n",
      "          -3.8048,   2.5711],\n",
      "        [ -9.4344,  -2.4906,  -0.3074,   2.6697,  -8.7199,  -7.9105, -20.7141,\n",
      "          -4.1938,   1.7109],\n",
      "        [-11.4417,   1.4147,   1.7600,   1.8453,  -7.1938, -15.0367, -21.7617,\n",
      "          -9.0475,  -0.9971],\n",
      "        [ -9.0217,   1.3151,  -6.3854,  -3.7470,   0.5898,  -2.8061, -10.2379,\n",
      "          -6.5102,  -0.5911],\n",
      "        [-13.7902,  -4.6794,  -4.7174,  -1.9299,   1.8008,  -9.8230, -18.5206,\n",
      "          -8.0846,   3.6525],\n",
      "        [ -9.5157,  -2.6876,   2.1303,   0.9816,  -5.7293,  -8.1890, -18.0325,\n",
      "          -1.2455,   0.4661],\n",
      "        [-10.0144,  -4.8550,   1.8376,   2.8933,  -8.2352, -18.4787, -26.9021,\n",
      "         -10.8546,   2.4409],\n",
      "        [-12.5716,   0.1308,  -2.3703,   3.0673,  -5.1566,  -6.5648, -17.4778,\n",
      "          -1.9466,   0.1100],\n",
      "        [-12.0965,   1.0037,  -0.5838,   0.7496,  -6.5881,  -7.6137, -18.0599,\n",
      "          -2.3285,  -0.1938],\n",
      "        [ -9.1875,  -1.0170,   0.4734,   3.5323, -11.4126, -10.1207, -23.1692,\n",
      "          -5.4499,   1.6862],\n",
      "        [-10.7794,  -2.6376,  -2.9678,  -1.8330,   2.7376,  -5.2561, -14.3357,\n",
      "          -5.3431,   5.4706],\n",
      "        [ -6.9795,  -0.5663,   3.5108,   1.0566,  -6.5315,  -9.1205, -15.6954,\n",
      "          -1.9154,  -1.1387],\n",
      "        [ -8.7768,   2.3339,  -4.8003,  -1.8831,  -2.7961,  -7.8884, -11.0725,\n",
      "          -6.7292,   2.5945],\n",
      "        [ -8.3425,  -2.6307,   1.4617,   1.7677, -10.7900,  -8.7273, -20.6855,\n",
      "          -4.9077,   0.4787],\n",
      "        [-14.1526,  -0.7557,  -1.2021,   0.8789,  -2.8821, -10.2186, -18.8028,\n",
      "          -4.9276,   0.7770]], device='mps:0', grad_fn=<LinearBackward0>)\n",
      "False\n"
     ]
    }
   ],
   "source": [
    "model.eval()\n",
    "grad_2 = get_param_grad_2(model, input)"
   ]
  },
  {
   "cell_type": "markdown",
   "metadata": {},
   "source": [
    "# Calcul Masking"
   ]
  },
  {
   "cell_type": "code",
   "execution_count": 132,
   "metadata": {},
   "outputs": [
    {
     "data": {
      "text/plain": [
       "[<matplotlib.lines.Line2D at 0x356328b00>]"
      ]
     },
     "execution_count": 132,
     "metadata": {},
     "output_type": "execute_result"
    },
    {
     "data": {
      "image/png": "[encoded data removed]",
      "text/plain": [
       "<Figure size 640x480 with 1 Axes>"
      ]
     },
     "metadata": {},
     "output_type": "display_data"
    }
   ],
   "source": [
    "plt.plot(grad_1[0].detach().cpu().numpy())"
   ]
  },
  {
   "cell_type": "code",
   "execution_count": 133,
   "metadata": {},
   "outputs": [
    {
     "data": {
      "text/plain": [
       "[<matplotlib.lines.Line2D at 0x356360ad0>]"
      ]
     },
     "execution_count": 133,
     "metadata": {},
     "output_type": "execute_result"
    },
    {
     "data": {
      "image/png": "[encoded data removed]",
      "text/plain": [
       "<Figure size 640x480 with 1 Axes>"
      ]
     },
     "metadata": {},
     "output_type": "display_data"
    }
   ],
   "source": [
    "plt.plot(grad_2[0].detach().cpu().numpy())"
   ]
  },
  {
   "cell_type": "code",
   "execution_count": 139,
   "metadata": {},
   "outputs": [
    {
     "data": {
      "text/plain": [
       "tensor(196, device='mps:0')"
      ]
     },
     "execution_count": 139,
     "metadata": {},
     "output_type": "execute_result"
    }
   ],
   "source": [
    "mask = [(grad_1[0] * grad_2[0])> 0, (grad_1[1] * grad_2[1]) > 0]\n",
    "torch.sum(mask[0]) + torch.sum(mask[1])"
   ]
  },
  {
   "cell_type": "code",
   "execution_count": 146,
   "metadata": {},
   "outputs": [
    {
     "data": {
      "text/plain": [
       "tensor([-0.0000e+00, -0.0000e+00, -0.0000e+00,  ..., 0.0000e+00, 2.2136e-08,\n",
       "        0.0000e+00], device='mps:0')"
      ]
     },
     "execution_count": 146,
     "metadata": {},
     "output_type": "execute_result"
    }
   ],
   "source": [
    "mask[0]*grad_2[0]*torch.abs(grad_1[0])"
   ]
  },
  {
   "cell_type": "code",
   "execution_count": 147,
   "metadata": {},
   "outputs": [
    {
     "data": {
      "text/plain": [
       "[<matplotlib.lines.Line2D at 0x358474ce0>]"
      ]
     },
     "execution_count": 147,
     "metadata": {},
     "output_type": "execute_result"
    },
    {
     "data": {
      "image/png": "[encoded data removed]",
      "text/plain": [
       "<Figure size 640x480 with 1 Axes>"
      ]
     },
     "metadata": {},
     "output_type": "display_data"
    }
   ],
   "source": [
    "new_grad = [grad_2[0] * torch.abs(grad_1[0]) * mask[0], grad_2[1] * torch.abs(grad_1[1]) * mask[1]]\n",
    "plt.plot(new_grad[0].detach().cpu().numpy())"
   ]
  },
  {
   "cell_type": "code",
   "execution_count": null,
   "metadata": {},
   "outputs": [
    {
     "data": {
      "text/plain": [
       "tensor([[-1.8501e+06, -1.9627e+05, -1.4078e+08,  ..., -2.8171e+06,\n",
       "         -2.3242e+05,  0.0000e+00],\n",
       "        [ 3.6963e+05,  1.0735e+05,  1.4034e+06,  ...,  9.3147e+05,\n",
       "         -5.2295e+04,  0.0000e+00],\n",
       "        [ 1.6505e+04,  9.4429e+04,  4.6717e+07,  ...,  1.8975e+06,\n",
       "         -2.1557e+05,  0.0000e+00],\n",
       "        ...,\n",
       "        [-4.6746e+06, -2.9919e+05, -3.0200e+08,  ..., -5.5355e+06,\n",
       "         -4.3789e+05,  0.0000e+00],\n",
       "        [-7.1208e+05, -9.4640e+04, -8.2323e+07,  ..., -1.1880e+06,\n",
       "         -3.5822e+05,  0.0000e+00],\n",
       "        [ 4.1831e+04, -5.7927e+04,  1.6109e+07,  ..., -1.4677e+06,\n",
       "          1.9153e+05,  0.0000e+00]], device='mps:0')"
      ]
     },
     "execution_count": 139,
     "metadata": {},
     "output_type": "execute_result"
    }
   ],
   "source": [
    "back_lay_num = 1\n",
    "layer = list(model.children())[- back_lay_num]\n",
    "params = layer.parameters()\n",
    "list_params = list(params)\n",
    "list_params[0].grad = 3000 * list_params[0].grad \n",
    "list_params[0].grad = "
   ]
  },
  {
   "cell_type": "code",
   "execution_count": null,
   "metadata": {},
   "outputs": [
    {
     "data": {
      "text/plain": [
       "(Parameter containing:\n",
       " tensor([[-0.1386,  0.1189, -0.1357,  ...,  0.0622,  0.0444, -0.0596],\n",
       "         [ 0.0602,  0.0746,  0.0614,  ...,  0.0468, -0.1018, -0.0262],\n",
       "         [-0.2365,  0.0751,  0.0738,  ...,  0.0325,  0.0142, -0.0390],\n",
       "         ...,\n",
       "         [-0.1448, -0.1523,  0.0451,  ..., -0.1763, -0.0253, -0.0100],\n",
       "         [ 0.0359, -0.0877, -0.0979,  ...,  0.1001, -0.1611,  0.0632],\n",
       "         [ 0.0805,  0.0698,  0.0568,  ..., -0.1275,  0.0459,  0.0399]],\n",
       "        device='mps:0', requires_grad=True),\n",
       " Parameter containing:\n",
       " tensor([ 0.0903,  0.0220, -0.0523,  0.0591,  0.0151, -0.0137,  0.0476, -0.0684,\n",
       "          0.0690, -0.0051], device='mps:0', requires_grad=True))"
      ]
     },
     "execution_count": 63,
     "metadata": {},
     "output_type": "execute_result"
    }
   ],
   "source": [
    "wgt, bias = list_params[0], list_params[1]\n",
    "wgt, bias"
   ]
  },
  {
   "cell_type": "code",
   "execution_count": null,
   "metadata": {},
   "outputs": [],
   "source": [
    "optimizer = torch.optim.Adam(model.parameters(), lr=0.001)"
   ]
  },
  {
   "cell_type": "code",
   "execution_count": null,
   "metadata": {},
   "outputs": [],
   "source": []
  },
  {
   "cell_type": "code",
   "execution_count": null,
   "metadata": {},
   "outputs": [],
   "source": []
  },
  {
   "cell_type": "code",
   "execution_count": null,
   "metadata": {},
   "outputs": [],
   "source": []
  }
 ],
 "metadata": {
  "kernelspec": {
   "display_name": "base",
   "language": "python",
   "name": "python3"
  },
  "language_info": {
   "codemirror_mode": {
    "name": "ipython",
    "version": 3
   },
   "file_extension": ".py",
   "mimetype": "text/x-python",
   "name": "python",
   "nbconvert_exporter": "python",
   "pygments_lexer": "ipython3",
   "version": "3.12.2"
  }
 },
 "nbformat": 4,
 "nbformat_minor": 2
}
