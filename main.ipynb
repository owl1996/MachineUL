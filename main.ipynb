{
 "cells": [
  {
   "cell_type": "markdown",
   "metadata": {},
   "source": [
    "# Loading dependencies and model"
   ]
  },
  {
   "cell_type": "code",
   "execution_count": 305,
   "metadata": {},
   "outputs": [],
   "source": [
    "import os\n",
    "import torch\n",
    "from torchvision import datasets, transforms\n",
    "from utils import loaders_by_classes, filter_loaders, balance\n",
    "from classNet import ConvNet, submodel # for torch load\n",
    "import matplotlib.pyplot as plt"
   ]
  },
  {
   "cell_type": "code",
   "execution_count": 306,
   "metadata": {},
   "outputs": [
    {
     "data": {
      "text/plain": [
       "ConvNet(\n",
       "  (conv1): Conv2d(1, 32, kernel_size=(3, 3), stride=(1, 1), padding=(1, 1))\n",
       "  (conv2): Conv2d(32, 64, kernel_size=(3, 3), stride=(1, 1), padding=(1, 1))\n",
       "  (conv2_drop): Dropout2d(p=0.25, inplace=False)\n",
       "  (fc1): Linear(in_features=3136, out_features=128, bias=True)\n",
       "  (fc2): Linear(in_features=128, out_features=10, bias=True)\n",
       ")"
      ]
     },
     "execution_count": 306,
     "metadata": {},
     "output_type": "execute_result"
    }
   ],
   "source": [
    "_model = torch.load('./models/all_class.pth', weights_only=False)\n",
    "_model"
   ]
  },
  {
   "cell_type": "code",
   "execution_count": null,
   "metadata": {},
   "outputs": [],
   "source": [
    "transform = transforms.Compose([\n",
    "    transforms.ToTensor(),  # Convert images to PyTorch tensors\n",
    "    transforms.Normalize((0,), (1,))  # Normalize images\n",
    "])\n",
    "\n",
    "test_set = datasets.MNIST(root='./data', train=False, download=True, transform=transform)\n",
    "\n",
    "batch_size = 64\n",
    "num_workers = os.cpu_count()\n",
    "test_loaders = loaders_by_classes(test_set, batch_size=batch_size, shuffle=True, num_workers=num_workers)"
   ]
  },
  {
   "cell_type": "code",
   "execution_count": 308,
   "metadata": {},
   "outputs": [
    {
     "data": {
      "text/plain": [
       "device(type='mps')"
      ]
     },
     "execution_count": 308,
     "metadata": {},
     "output_type": "execute_result"
    }
   ],
   "source": [
    "if torch.backends.mps.is_available():\n",
    "    device = torch.device(\"mps\")\n",
    "elif torch.cuda.is_available():\n",
    "    device = torch.device(\"cuda\")\n",
    "else:\n",
    "    device = torch.device(\"cpu\")\n",
    "\n",
    "device"
   ]
  },
  {
   "cell_type": "markdown",
   "metadata": {},
   "source": [
    "# Choose class to Test"
   ]
  },
  {
   "cell_type": "code",
   "execution_count": 367,
   "metadata": {},
   "outputs": [],
   "source": [
    "class_num = 7\n",
    "class_name = '7 - seven'\n",
    "class_loader = test_loaders[class_name]\n"
   ]
  },
  {
   "cell_type": "code",
   "execution_count": 310,
   "metadata": {},
   "outputs": [],
   "source": [
    "bal = balance(test_loaders)\n",
    "n_items_class = bal[class_name]\n",
    "n_tot = 0\n",
    "for key, val in bal.items():\n",
    "    if key != class_name:\n",
    "        n_tot += val\n",
    "proportion = n_items_class / n_tot\n",
    "balanced_batch_size = (1 - proportion) * batch_size / proportion"
   ]
  },
  {
   "cell_type": "code",
   "execution_count": 311,
   "metadata": {},
   "outputs": [],
   "source": [
    "filtered_loader = filter_loaders(test_loaders, class_name, balanced_batch_size, shuffle=True, num_workers=num_workers)"
   ]
  },
  {
   "cell_type": "markdown",
   "metadata": {},
   "source": [
    "# Submodel"
   ]
  },
  {
   "cell_type": "code",
   "execution_count": null,
   "metadata": {},
   "outputs": [
    {
     "data": {
      "text/plain": [
       "ConvNet(\n",
       "  (conv1): Conv2d(1, 32, kernel_size=(3, 3), stride=(1, 1), padding=(1, 1))\n",
       "  (conv2): Conv2d(32, 64, kernel_size=(3, 3), stride=(1, 1), padding=(1, 1))\n",
       "  (conv2_drop): Dropout2d(p=0.25, inplace=False)\n",
       "  (fc1): Linear(in_features=3136, out_features=128, bias=True)\n",
       "  (fc2): Linear(in_features=128, out_features=9, bias=True)\n",
       ")"
      ]
     },
     "execution_count": 312,
     "metadata": {},
     "output_type": "execute_result"
    }
   ],
   "source": [
    "model = submodel(_model, class_num)\n",
    "model.to(device)"
   ]
  },
  {
   "cell_type": "markdown",
   "metadata": {},
   "source": [
    "# Get Activations Residues"
   ]
  },
  {
   "cell_type": "code",
   "execution_count": null,
   "metadata": {},
   "outputs": [],
   "source": [
    "def get_activations(model, input_tensor, layer_num, verbose=True):\n",
    "    \"\"\"\n",
    "    Get the internal representation of input tensor at after the layer 'layer_num'\n",
    "    \"\"\"\n",
    "\n",
    "    if layer_num == 0:\n",
    "        return model(input_tensor)\n",
    "    \n",
    "    layers = list(model.children())\n",
    "    layer = layers[layer_num]\n",
    "\n",
    "    if verbose:\n",
    "        print(f'Checking residues of the input after layer : {layer}')\n",
    "\n",
    "    # Variable pour stocker les activations\n",
    "    activations = None\n",
    "\n",
    "    # Hook pour capturer les activations\n",
    "    def hook_fn(module, input, output):\n",
    "        nonlocal activations\n",
    "        activations = output\n",
    "\n",
    "    handle = layer.register_forward_hook(hook_fn)\n",
    "    output = model(input_tensor)\n",
    "    handle.remove()\n",
    "\n",
    "    return activations"
   ]
  },
  {
   "cell_type": "code",
   "execution_count": 368,
   "metadata": {},
   "outputs": [],
   "source": [
    "class Special_Loss():\n",
    "    def __init__(self):\n",
    "        self.criterion = torch.nn.CrossEntropyLoss()\n",
    "        self.values = None\n",
    "        self.target = None\n",
    "    \n",
    "    def __call__(self):\n",
    "        return self.criterion(self.values, self.target)"
   ]
  },
  {
   "cell_type": "code",
   "execution_count": null,
   "metadata": {},
   "outputs": [],
   "source": []
  },
  {
   "cell_type": "code",
   "execution_count": null,
   "metadata": {},
   "outputs": [],
   "source": [
    "def get_grad(model, input, layer_num, special_loss):\n",
    "    "
   ]
  },
  {
   "cell_type": "markdown",
   "metadata": {},
   "source": [
    "# Gradients pour classic Loss "
   ]
  },
  {
   "cell_type": "code",
   "execution_count": 351,
   "metadata": {},
   "outputs": [
    {
     "name": "stdout",
     "output_type": "stream",
     "text": [
      "tensor(4)\n"
     ]
    },
    {
     "data": {
      "image/png": "[encoded data removed]",
      "text/plain": [
       "<Figure size 640x480 with 1 Axes>"
      ]
     },
     "metadata": {},
     "output_type": "display_data"
    }
   ],
   "source": [
    "input = next(iter(filtered_loader))\n",
    "plt.imshow(input[0][0].squeeze(), cmap='gray')\n",
    "print(input[1][0])"
   ]
  },
  {
   "cell_type": "code",
   "execution_count": 352,
   "metadata": {},
   "outputs": [],
   "source": [
    "def get_param_grad_1(model, input, back_lay_num = 1):\n",
    "    input_tensor, label_tensor = input\n",
    "    input_tensor = input_tensor.to(device)\n",
    "    label_tensor = label_tensor.to(device)\n",
    "\n",
    "    # Assurez-vous que l'entrée a bien requires_grad activé\n",
    "    input_tensor.requires_grad_(True)\n",
    "\n",
    "    # Passer en avant jusqu'au dernier layer paramétrique\n",
    "    model.zero_grad()\n",
    "    output = model(input_tensor)\n",
    "\n",
    "    # Calcul de la perte et rétropropagation\n",
    "    criterion = torch.nn.CrossEntropyLoss()\n",
    "    loss = criterion(output, label_tensor)\n",
    "    loss.backward()\n",
    "\n",
    "    # Récupérer le gradient des poids et biais du layer paramétrique\n",
    "    layer = list(model.children())[- back_lay_num]  # Dernier layer du modèle\n",
    "\n",
    "    # Liste pour stocker les gradients de chaque paramètre\n",
    "    grad_params = []\n",
    "\n",
    "    for param in layer.parameters():\n",
    "        # Aplatir les gradients des paramètres (poids et biais)\n",
    "        grad_params.append(param.grad.flatten())  # Aplatir les gradients des poids et biais\n",
    "\n",
    "    return grad_params"
   ]
  },
  {
   "cell_type": "code",
   "execution_count": 370,
   "metadata": {},
   "outputs": [
    {
     "data": {
      "text/plain": [
       "<generator object Module.parameters at 0x3699fde00>"
      ]
     },
     "execution_count": 370,
     "metadata": {},
     "output_type": "execute_result"
    }
   ],
   "source": [
    "model.parameters()"
   ]
  },
  {
   "cell_type": "code",
   "execution_count": 353,
   "metadata": {},
   "outputs": [
    {
     "data": {
      "text/plain": [
       "tensor(12.9058, device='mps:0', grad_fn=<NllLossBackward0>)"
      ]
     },
     "execution_count": 353,
     "metadata": {},
     "output_type": "execute_result"
    }
   ],
   "source": [
    "input_tensor, label_tensor = input\n",
    "input_tensor = input_tensor.to(device)\n",
    "label_tensor = label_tensor.to(device)\n",
    "\n",
    "# Assurez-vous que l'entrée a bien requires_grad activé\n",
    "input_tensor.requires_grad_(True)\n",
    "\n",
    "# Passer en avant jusqu'au dernier layer paramétrique\n",
    "model.zero_grad()\n",
    "output = model(input_tensor)\n",
    "\n",
    "# Calcul de la perte et rétropropagation\n",
    "criterion = torch.nn.CrossEntropyLoss()\n",
    "loss = criterion(output, label_tensor - 1)\n",
    "loss"
   ]
  },
  {
   "cell_type": "code",
   "execution_count": 354,
   "metadata": {},
   "outputs": [
    {
     "data": {
      "text/plain": [
       "tensor([4, 8, 6, 8, 9, 5, 8, 9, 1, 6, 6, 9, 9, 5, 6, 2, 2, 6, 9, 5, 4, 4, 1, 3,\n",
       "        0, 4, 3, 0, 5, 5, 5, 0, 4, 3, 5, 3, 9, 0, 8, 3, 9, 2, 3, 6, 6, 9, 5, 1,\n",
       "        1, 5, 0, 5, 5, 0, 9, 6, 0, 4, 0, 3, 8, 4, 2, 9])"
      ]
     },
     "execution_count": 354,
     "metadata": {},
     "output_type": "execute_result"
    }
   ],
   "source": [
    "input[1]"
   ]
  },
  {
   "cell_type": "code",
   "execution_count": 355,
   "metadata": {},
   "outputs": [],
   "source": [
    "grad_1 = get_param_grad_1(model, input)"
   ]
  },
  {
   "cell_type": "code",
   "execution_count": 356,
   "metadata": {},
   "outputs": [
    {
     "data": {
      "text/plain": [
       "[tensor([ 1.3633e-04,  6.9456e-04,  1.1545e-04,  ..., -7.0408e-01,\n",
       "          7.4758e-05,  0.0000e+00], device='mps:0'),\n",
       " tensor([ 4.0399e-04,  2.5027e-03, -2.5625e-03,  7.0209e-04,  4.5496e-06,\n",
       "          1.6469e-03, -3.0988e-03,  7.8508e-02, -7.8107e-02], device='mps:0')]"
      ]
     },
     "execution_count": 356,
     "metadata": {},
     "output_type": "execute_result"
    }
   ],
   "source": [
    "grad_1"
   ]
  },
  {
   "cell_type": "markdown",
   "metadata": {},
   "source": [
    "# Gradient pour Target Loss"
   ]
  },
  {
   "cell_type": "code",
   "execution_count": 350,
   "metadata": {},
   "outputs": [
    {
     "name": "stdout",
     "output_type": "stream",
     "text": [
      "tensor(7)\n"
     ]
    },
    {
     "data": {
      "image/png": "[encoded data removed]",
      "text/plain": [
       "<Figure size 640x480 with 1 Axes>"
      ]
     },
     "metadata": {},
     "output_type": "display_data"
    }
   ],
   "source": [
    "input = next(iter(class_loader))\n",
    "# plot un example d'image input\n",
    "plt.imshow(input[0][0].squeeze(), cmap='gray')\n",
    "print(input[1][0])"
   ]
  },
  {
   "cell_type": "code",
   "execution_count": 321,
   "metadata": {},
   "outputs": [
    {
     "data": {
      "text/plain": [
       "ConvNet(\n",
       "  (conv1): Conv2d(1, 32, kernel_size=(3, 3), stride=(1, 1), padding=(1, 1))\n",
       "  (conv2): Conv2d(32, 64, kernel_size=(3, 3), stride=(1, 1), padding=(1, 1))\n",
       "  (conv2_drop): Dropout2d(p=0.25, inplace=False)\n",
       "  (fc1): Linear(in_features=3136, out_features=128, bias=True)\n",
       "  (fc2): Linear(in_features=128, out_features=10, bias=True)\n",
       ")"
      ]
     },
     "execution_count": 321,
     "metadata": {},
     "output_type": "execute_result"
    }
   ],
   "source": [
    "_model"
   ]
  },
  {
   "cell_type": "code",
   "execution_count": 322,
   "metadata": {},
   "outputs": [
    {
     "data": {
      "text/plain": [
       "tensor([[1.7220e-04, 2.7673e-06, 2.5021e-01, 4.4256e-01, 4.2502e-05, 1.0672e-07,\n",
       "         1.1480e-10],\n",
       "        [9.7688e-08, 1.4775e-01, 9.1244e-04, 2.9768e-02, 7.0895e-04, 4.7622e-07,\n",
       "         5.9380e-11],\n",
       "        [1.1069e-07, 1.1872e-03, 6.3919e-04, 4.5771e-04, 2.9711e-04, 9.5426e-10,\n",
       "         5.8935e-12],\n",
       "        [3.1139e-08, 9.6543e-01, 6.5031e-03, 1.4358e-03, 4.2161e-03, 4.2981e-08,\n",
       "         1.0652e-10],\n",
       "        [1.8275e-05, 6.5613e-01, 3.0632e-02, 3.1141e-01, 1.0360e-06, 1.4288e-06,\n",
       "         5.9626e-10],\n",
       "        [6.8795e-11, 1.0833e-02, 9.1176e-02, 8.8077e-01, 1.3557e-02, 6.4685e-07,\n",
       "         1.5730e-10],\n",
       "        [1.3713e-08, 5.2464e-02, 3.6141e-01, 1.2693e-02, 4.5610e-03, 4.2800e-09,\n",
       "         4.4250e-12],\n",
       "        [9.5057e-05, 3.0581e-05, 3.4534e-04, 7.1609e-06, 3.8460e-10, 4.9535e-04,\n",
       "         6.6138e-08],\n",
       "        [7.7700e-05, 2.6831e-03, 1.8838e-05, 1.3546e-03, 4.6315e-03, 3.3174e-04,\n",
       "         1.0484e-07],\n",
       "        [1.3681e-05, 7.6765e-04, 2.2286e-04, 7.5453e-01, 6.5308e-04, 2.2040e-04,\n",
       "         1.6469e-08],\n",
       "        [1.3220e-02, 1.2247e-01, 3.2942e-01, 5.5092e-04, 1.7240e-01, 1.9608e-02,\n",
       "         9.2116e-05],\n",
       "        [1.3082e-03, 1.7748e-03, 1.1160e-01, 8.4650e-01, 2.5382e-06, 1.1947e-05,\n",
       "         2.0183e-09],\n",
       "        [9.5162e-04, 3.5241e-04, 2.6047e-02, 2.1341e-04, 5.4604e-04, 2.4700e-06,\n",
       "         7.1082e-09],\n",
       "        [2.6296e-05, 3.1223e-03, 8.1201e-03, 8.7337e-01, 6.9861e-05, 2.6719e-05,\n",
       "         6.2109e-09],\n",
       "        [3.3228e-07, 1.3574e-05, 1.0741e-04, 1.2852e-02, 1.0806e-04, 5.9829e-09,\n",
       "         8.0695e-12],\n",
       "        [7.6848e-10, 6.1624e-05, 2.4648e-02, 9.7527e-01, 2.6644e-08, 8.1093e-11,\n",
       "         3.2384e-13],\n",
       "        [1.7602e-05, 9.2290e-01, 7.0223e-03, 6.6998e-02, 8.8419e-06, 2.3705e-07,\n",
       "         1.0088e-07],\n",
       "        [2.6131e-08, 3.8321e-06, 5.7411e-01, 4.2588e-01, 9.6357e-07, 2.4969e-11,\n",
       "         5.7566e-12],\n",
       "        [2.1968e-04, 2.5876e-02, 1.7327e-01, 7.9168e-01, 6.0435e-04, 2.9654e-04,\n",
       "         2.2942e-08],\n",
       "        [2.4521e-03, 1.7045e-05, 8.2366e-01, 5.4114e-02, 4.4641e-05, 1.5292e-06,\n",
       "         2.6741e-10],\n",
       "        [5.3602e-08, 6.6466e-01, 1.2708e-01, 1.5250e-01, 7.1120e-04, 4.2771e-06,\n",
       "         1.9488e-07],\n",
       "        [1.3635e-09, 3.3377e-05, 2.9921e-05, 9.1225e-06, 4.4879e-04, 1.9900e-07,\n",
       "         1.3176e-13],\n",
       "        [1.2654e-08, 1.6469e-01, 8.1802e-01, 1.7046e-02, 5.1268e-08, 1.1624e-07,\n",
       "         3.4267e-12],\n",
       "        [5.2763e-08, 7.7654e-04, 1.1802e-02, 4.9526e-02, 1.9426e-02, 7.0823e-08,\n",
       "         2.9819e-12],\n",
       "        [4.8703e-02, 1.2186e-01, 7.9561e-02, 5.0387e-02, 2.5907e-04, 4.8794e-05,\n",
       "         1.6271e-06],\n",
       "        [1.0373e-05, 1.6337e-02, 2.1678e-06, 2.9836e-03, 1.7009e-03, 2.1945e-04,\n",
       "         7.7343e-08],\n",
       "        [1.3173e-08, 2.1053e-04, 3.7419e-03, 7.8667e-01, 2.2514e-03, 1.3891e-09,\n",
       "         7.1679e-12],\n",
       "        [7.9884e-10, 5.0431e-05, 1.6749e-03, 9.9814e-01, 5.2325e-11, 2.3710e-11,\n",
       "         3.7782e-17],\n",
       "        [8.9612e-06, 1.0263e-03, 6.7374e-03, 4.8149e-03, 8.9926e-04, 7.4865e-05,\n",
       "         1.1608e-08],\n",
       "        [1.2986e-07, 9.5270e-01, 1.5337e-03, 8.4858e-03, 2.9524e-02, 1.3591e-05,\n",
       "         5.6703e-07],\n",
       "        [6.1008e-05, 9.9006e-03, 6.9911e-01, 2.1022e-01, 2.6548e-05, 2.9333e-08,\n",
       "         7.8410e-10],\n",
       "        [5.8136e-09, 2.9751e-01, 1.0860e-04, 3.3285e-01, 1.5743e-04, 8.2249e-04,\n",
       "         1.3047e-09],\n",
       "        [2.9734e-04, 4.7782e-04, 9.7344e-01, 2.3713e-02, 1.4081e-05, 6.0520e-04,\n",
       "         3.9203e-08],\n",
       "        [3.3613e-09, 4.8935e-01, 4.7198e-01, 2.7462e-03, 1.1351e-02, 3.0558e-07,\n",
       "         3.5771e-10],\n",
       "        [8.7192e-06, 1.6863e-01, 3.8967e-01, 1.3205e-02, 4.5571e-05, 9.7345e-06,\n",
       "         4.2878e-09],\n",
       "        [2.0135e-03, 2.4548e-06, 4.8146e-02, 4.9412e-02, 3.5474e-07, 1.4846e-02,\n",
       "         4.1551e-10],\n",
       "        [1.5657e-09, 3.7479e-04, 9.9433e-01, 4.4507e-03, 7.3233e-07, 3.6734e-07,\n",
       "         8.4352e-10],\n",
       "        [1.3863e-05, 2.7809e-03, 7.4688e-07, 6.5597e-06, 3.5520e-05, 4.1363e-06,\n",
       "         1.3379e-08],\n",
       "        [2.8694e-06, 3.9123e-01, 1.1116e-02, 3.5039e-01, 6.6901e-03, 1.9874e-06,\n",
       "         4.5485e-08],\n",
       "        [8.7604e-05, 1.0264e-01, 4.3354e-02, 7.9007e-04, 5.7048e-05, 1.8552e-05,\n",
       "         7.7849e-10],\n",
       "        [1.1785e-12, 3.2004e-05, 8.8655e-01, 1.1342e-01, 1.0870e-06, 8.7447e-13,\n",
       "         2.8045e-14],\n",
       "        [1.0689e-07, 6.7484e-02, 8.5611e-05, 9.3211e-01, 1.7186e-06, 3.2996e-07,\n",
       "         7.0906e-09],\n",
       "        [3.8049e-06, 9.6496e-02, 9.5369e-02, 6.6051e-01, 5.7775e-05, 2.1356e-05,\n",
       "         5.4602e-10],\n",
       "        [8.1077e-06, 6.3815e-01, 3.4411e-01, 1.5532e-02, 2.4693e-06, 1.3713e-07,\n",
       "         1.1241e-09],\n",
       "        [5.4130e-05, 3.0975e-02, 8.2865e-03, 6.5008e-02, 6.4037e-03, 4.8441e-06,\n",
       "         7.1466e-07],\n",
       "        [6.0848e-08, 3.5369e-01, 3.4986e-04, 5.1635e-03, 1.1045e-01, 4.2215e-04,\n",
       "         3.6218e-10],\n",
       "        [1.0686e-07, 1.3027e-04, 1.4381e-03, 6.9256e-04, 5.8753e-05, 3.3155e-07,\n",
       "         4.9829e-12],\n",
       "        [5.9636e-06, 3.5817e-04, 3.3741e-04, 5.1496e-04, 6.1881e-02, 4.9101e-05,\n",
       "         6.0240e-09],\n",
       "        [2.6812e-02, 9.9778e-03, 2.0239e-04, 8.2698e-03, 3.0246e-03, 6.9056e-05,\n",
       "         7.1876e-05],\n",
       "        [5.0117e-10, 1.8156e-03, 2.0123e-01, 7.9184e-01, 1.8407e-04, 9.8702e-07,\n",
       "         5.1026e-10],\n",
       "        [1.0757e-06, 3.2638e-05, 8.2770e-05, 3.1186e-03, 4.3675e-04, 4.1973e-08,\n",
       "         6.0575e-11],\n",
       "        [5.8025e-04, 7.6380e-03, 4.6218e-03, 6.7375e-02, 1.0419e-02, 1.4078e-01,\n",
       "         2.0547e-05],\n",
       "        [9.7093e-06, 1.1086e-02, 8.9209e-01, 9.6765e-02, 2.0494e-08, 1.0240e-05,\n",
       "         2.3048e-09],\n",
       "        [8.7454e-04, 6.0878e-04, 9.7390e-01, 1.9779e-02, 7.7525e-06, 1.0918e-09,\n",
       "         1.4837e-11],\n",
       "        [1.8711e-10, 9.4499e-07, 5.2711e-08, 2.2479e-03, 3.1253e-02, 4.3615e-08,\n",
       "         7.1922e-13],\n",
       "        [1.0990e-03, 6.2563e-07, 1.0555e-06, 1.4839e-05, 1.5444e-04, 1.0745e-06,\n",
       "         2.2154e-09],\n",
       "        [8.9925e-09, 1.2329e-06, 3.2745e-08, 2.2942e-06, 9.8626e-01, 3.1292e-07,\n",
       "         3.3560e-09],\n",
       "        [2.8357e-09, 5.7932e-01, 3.1152e-01, 1.0629e-01, 1.9598e-05, 5.2727e-07,\n",
       "         1.9856e-09],\n",
       "        [6.5714e-08, 7.9327e-01, 3.0832e-02, 1.3000e-01, 5.0418e-04, 2.3168e-05,\n",
       "         2.1562e-09],\n",
       "        [1.5413e-07, 2.5990e-04, 1.3224e-01, 8.4420e-01, 2.5978e-07, 8.0827e-09,\n",
       "         6.7359e-15],\n",
       "        [1.7102e-04, 3.6575e-03, 2.5163e-02, 1.6102e-02, 2.4396e-05, 4.5303e-03,\n",
       "         3.9292e-08],\n",
       "        [2.8605e-10, 4.4512e-03, 2.7256e-01, 7.0321e-01, 1.6781e-04, 2.0016e-06,\n",
       "         4.4629e-14],\n",
       "        [2.1582e-07, 1.1700e-03, 4.2239e-04, 2.6699e-02, 1.4346e-05, 4.4808e-04,\n",
       "         3.2054e-12],\n",
       "        [3.3046e-04, 5.6836e-02, 7.3421e-01, 2.0185e-01, 8.4565e-09, 1.1022e-07,\n",
       "         2.9433e-08]], device='mps:0', grad_fn=<ExpBackward0>)"
      ]
     },
     "execution_count": 322,
     "metadata": {},
     "output_type": "execute_result"
    }
   ],
   "source": [
    "torch.exp(model(input[0].to(device))[:,:7])"
   ]
  },
  {
   "cell_type": "code",
   "execution_count": 323,
   "metadata": {},
   "outputs": [],
   "source": [
    "base_output = _model(input[0].to(device))\n",
    "trun_output = model(input[0].to(device))\n",
    "\n",
    "subbase_output = torch.cat([base_output[:,:7], base_output[:,7+1:]], dim=1)\n",
    "\n",
    "go_exp_base = torch.exp(subbase_output)\n",
    "go_exp_trun = torch.exp(trun_output)"
   ]
  },
  {
   "cell_type": "code",
   "execution_count": 324,
   "metadata": {},
   "outputs": [
    {
     "data": {
      "text/plain": [
       "[<matplotlib.lines.Line2D at 0x361ef6000>]"
      ]
     },
     "execution_count": 324,
     "metadata": {},
     "output_type": "execute_result"
    },
    {
     "data": {
      "image/png": "[encoded data removed]",
      "text/plain": [
       "<Figure size 640x480 with 1 Axes>"
      ]
     },
     "metadata": {},
     "output_type": "display_data"
    }
   ],
   "source": [
    "plt.plot(go_exp_trun.detach().cpu().numpy()[0])"
   ]
  },
  {
   "cell_type": "code",
   "execution_count": 325,
   "metadata": {},
   "outputs": [
    {
     "data": {
      "text/plain": [
       "[<matplotlib.lines.Line2D at 0x366e70620>]"
      ]
     },
     "execution_count": 325,
     "metadata": {},
     "output_type": "execute_result"
    },
    {
     "data": {
      "image/png": "[encoded data removed]",
      "text/plain": [
       "<Figure size 640x480 with 1 Axes>"
      ]
     },
     "metadata": {},
     "output_type": "display_data"
    }
   ],
   "source": [
    "output_logits = torch.exp(_model(input[0].to(device))[:, :7])\n",
    "plt.plot(output_logits.detach().cpu().numpy()[0])"
   ]
  },
  {
   "cell_type": "code",
   "execution_count": 326,
   "metadata": {},
   "outputs": [],
   "source": [
    "def get_param_grad_2(model, input, back_lay_num = 1):\n",
    "    input_tensor, label_tensor = input\n",
    "    input_tensor = input_tensor.to(device)\n",
    "    label_tensor = label_tensor.to(device)\n",
    "\n",
    "    # Assurez-vous que l'entrée a bien requires_grad activé\n",
    "    input_tensor.requires_grad_(True)\n",
    "\n",
    "    # Cible : couche à surveiller\n",
    "    layers = list(model.children())\n",
    "    layer = layers[-back_lay_num]\n",
    "\n",
    "    # Variable pour stocker les activations\n",
    "    activations = None\n",
    "\n",
    "    # Hook pour capturer les activations\n",
    "    def hook_fn(module, input, output):\n",
    "        nonlocal activations\n",
    "        activations = output\n",
    "\n",
    "    # Enregistrement du hook\n",
    "    layer.register_forward_hook(hook_fn)\n",
    "    \n",
    "    # Passer en avant jusqu'au dernier layer paramétrique\n",
    "    model.zero_grad()\n",
    "    output = model(input_tensor)\n",
    "\n",
    "    # activation correspond à la sortie de la couche AVANT log_softmax \n",
    "    _activations = activations.detach()\n",
    "    # print(activations)\n",
    "    # print(torch.mean(_activations, dim=0, keepdim=True))\n",
    "    a0 = torch.mean(_activations, dim=0)\n",
    "    ma0 = torch.mean(_activations)\n",
    "    va0 = torch.var(_activations)\n",
    "    print(ma0, va0)\n",
    "    target = _activations - (1 - torch.nn.functional.softmax(_activations, dim=0)) * a0\n",
    "    # target = - torch.ones(9).to(device)\n",
    "    print(torch.mean(target), torch.var(target))\n",
    "\n",
    "    # Calcul de la perte et rétropropagation\n",
    "    loss = torch.nn.functional.mse_loss(activations, target)\n",
    "    loss.backward()\n",
    "\n",
    "    # Liste pour stocker les gradients de chaque paramètre\n",
    "    grad_params = []\n",
    "\n",
    "    for param in layer.parameters():\n",
    "        # Aplatir les gradients des paramètres (poids et biais)\n",
    "        grad_params.append(param.grad.flatten())  # Aplatir les gradients des poids et biais\n",
    "\n",
    "    return grad_params"
   ]
  },
  {
   "cell_type": "code",
   "execution_count": 349,
   "metadata": {},
   "outputs": [
    {
     "name": "stdout",
     "output_type": "stream",
     "text": [
      "tensor(-5.0368, device='mps:0') tensor(42.3698, device='mps:0')\n",
      "tensor(-0.0787, device='mps:0') tensor(10.8319, device='mps:0')\n"
     ]
    }
   ],
   "source": [
    "model.eval()\n",
    "grad_2 = get_param_grad_2(model, input)"
   ]
  },
  {
   "cell_type": "code",
   "execution_count": null,
   "metadata": {},
   "outputs": [],
   "source": [
    "def get_param_grad_2(model, input, layer_num = -1):\n",
    "    layers = list(model.children())\n",
    "    layer = layers[-layer_num]\n",
    "\n",
    "    activations = get_activations(model, input, layer_num, requires_grad=True)\n",
    "    \n",
    "    _activations = activations.detach()\n",
    "    # print(activations)\n",
    "    # print(torch.mean(_activations, dim=0, keepdim=True))\n",
    "    a0 = torch.mean(_activations, dim=0)\n",
    "    ma0 = torch.mean(_activations)\n",
    "    va0 = torch.var(_activations)\n",
    "    print(ma0, va0)\n",
    "    target = _activations - (1 - torch.nn.functional.softmax(_activations, dim=0)) * a0\n",
    "    # target = - torch.ones(9).to(device)\n",
    "    print(torch.mean(target), torch.var(target))\n",
    "\n",
    "    # Calcul de la perte et rétropropagation\n",
    "    loss = torch.nn.functional.mse_loss(activations, target)\n",
    "    loss.backward()\n",
    "\n",
    "    # Liste pour stocker les gradients de chaque paramètre\n",
    "    grad_params = []\n",
    "\n",
    "    for param in layer.parameters():\n",
    "        # Aplatir les gradients des paramètres (poids et biais)\n",
    "        grad_params.append(param.grad.flatten())  # Aplatir les gradients des poids et biais\n",
    "\n",
    "    return grad_params"
   ]
  },
  {
   "cell_type": "code",
   "execution_count": 348,
   "metadata": {},
   "outputs": [
    {
     "name": "stdout",
     "output_type": "stream",
     "text": [
      "tensor(-5.0368, device='mps:0') tensor(42.3698, device='mps:0')\n",
      "tensor(-0.0787, device='mps:0') tensor(10.8319, device='mps:0')\n"
     ]
    }
   ],
   "source": [
    "model.eval()\n",
    "grad_2 = get_param_grad_2(model, input)"
   ]
  },
  {
   "cell_type": "code",
   "execution_count": 328,
   "metadata": {},
   "outputs": [
    {
     "name": "stdout",
     "output_type": "stream",
     "text": [
      "tensor(-0.8377, device='mps:0') tensor(32.5010, device='mps:0')\n",
      "tensor(-0.0131, device='mps:0') tensor(8.6286, device='mps:0')\n"
     ]
    },
    {
     "name": "stderr",
     "output_type": "stream",
     "text": [
      "/var/folders/17/d5wm_d6x5zv68h4w18r3246h4xmqkj/T/ipykernel_5869/2570209511.py:1: FutureWarning: You are using `torch.load` with `weights_only=False` (the current default value), which uses the default pickle module implicitly. It is possible to construct malicious pickle data which will execute arbitrary code during unpickling (See https://github.com/pytorch/pytorch/blob/main/SECURITY.md#untrusted-models for more details). In a future release, the default value for `weights_only` will be flipped to `True`. This limits the functions that could be executed during unpickling. Arbitrary objects will no longer be allowed to be loaded via this mode unless they are explicitly allowlisted by the user via `torch.serialization.add_safe_globals`. We recommend you start setting `weights_only=True` for any use case where you don't have full control of the loaded file. Please open an issue on GitHub for any issues related to this experimental feature.\n",
      "  no_seven = submodel(torch.load('models/no_7 - seven.pth'), 7).to(device)\n"
     ]
    }
   ],
   "source": [
    "no_seven = submodel(torch.load('models/no_7 - seven.pth'), 7).to(device)\n",
    "no_seven.eval()\n",
    "gn = get_param_grad_2(no_seven, input)"
   ]
  },
  {
   "cell_type": "code",
   "execution_count": 329,
   "metadata": {},
   "outputs": [
    {
     "data": {
      "text/plain": [
       "torch.Size([1152])"
      ]
     },
     "execution_count": 329,
     "metadata": {},
     "output_type": "execute_result"
    }
   ],
   "source": [
    "grad_2[0].size()"
   ]
  },
  {
   "cell_type": "code",
   "execution_count": 330,
   "metadata": {},
   "outputs": [
    {
     "data": {
      "text/plain": [
       "tensor([-0.3474,  0.0000, 17.1188,  ...,  0.0449,  0.0000,  3.2639],\n",
       "       device='mps:0')"
      ]
     },
     "execution_count": 330,
     "metadata": {},
     "output_type": "execute_result"
    }
   ],
   "source": [
    "gn[0]- grad_2[0]"
   ]
  },
  {
   "cell_type": "code",
   "execution_count": 366,
   "metadata": {},
   "outputs": [
    {
     "data": {
      "text/plain": [
       "ConvNet(\n",
       "  (conv1): Conv2d(1, 32, kernel_size=(3, 3), stride=(1, 1), padding=(1, 1))\n",
       "  (conv2): Conv2d(32, 64, kernel_size=(3, 3), stride=(1, 1), padding=(1, 1))\n",
       "  (conv2_drop): Dropout2d(p=0.25, inplace=False)\n",
       "  (fc1): Linear(in_features=3136, out_features=128, bias=True)\n",
       "  (fc2): Linear(in_features=128, out_features=9, bias=True)\n",
       ")"
      ]
     },
     "execution_count": 366,
     "metadata": {},
     "output_type": "execute_result"
    }
   ],
   "source": [
    "model"
   ]
  },
  {
   "cell_type": "code",
   "execution_count": 365,
   "metadata": {},
   "outputs": [
    {
     "name": "stdout",
     "output_type": "stream",
     "text": [
      "Checking residues of the input after layer : Dropout2d(p=0.25, inplace=False)\n"
     ]
    },
    {
     "data": {
      "text/plain": [
       "torch.Size([64, 64, 14, 14])"
      ]
     },
     "execution_count": 365,
     "metadata": {},
     "output_type": "execute_result"
    }
   ],
   "source": [
    "get_activations(model, input[0].to(device), -3).size()"
   ]
  },
  {
   "cell_type": "markdown",
   "metadata": {},
   "source": [
    "# Calcul Masking"
   ]
  },
  {
   "cell_type": "code",
   "execution_count": 331,
   "metadata": {},
   "outputs": [
    {
     "data": {
      "text/plain": [
       "[<matplotlib.lines.Line2D at 0x3698749e0>]"
      ]
     },
     "execution_count": 331,
     "metadata": {},
     "output_type": "execute_result"
    },
    {
     "data": {
      "image/png": "[encoded data removed]",
      "text/plain": [
       "<Figure size 640x480 with 1 Axes>"
      ]
     },
     "metadata": {},
     "output_type": "display_data"
    }
   ],
   "source": [
    "plt.plot(grad_1[0].detach().cpu().numpy())"
   ]
  },
  {
   "cell_type": "code",
   "execution_count": 332,
   "metadata": {},
   "outputs": [
    {
     "data": {
      "text/plain": [
       "[<matplotlib.lines.Line2D at 0x366e2e090>]"
      ]
     },
     "execution_count": 332,
     "metadata": {},
     "output_type": "execute_result"
    },
    {
     "data": {
      "image/png": "[encoded data removed]",
      "text/plain": [
       "<Figure size 640x480 with 1 Axes>"
      ]
     },
     "metadata": {},
     "output_type": "display_data"
    }
   ],
   "source": [
    "plt.plot(grad_2[0].detach().cpu().numpy())"
   ]
  },
  {
   "cell_type": "code",
   "execution_count": 333,
   "metadata": {},
   "outputs": [
    {
     "data": {
      "text/plain": [
       "tensor(197, device='mps:0')"
      ]
     },
     "execution_count": 333,
     "metadata": {},
     "output_type": "execute_result"
    }
   ],
   "source": [
    "mask = [(grad_1[0] * grad_2[0])> 0, (grad_1[1] * grad_2[1]) > 0]\n",
    "torch.sum(mask[0]) + torch.sum(mask[1])"
   ]
  },
  {
   "cell_type": "code",
   "execution_count": 334,
   "metadata": {},
   "outputs": [
    {
     "data": {
      "text/plain": [
       "tensor([-0., 0., -0.,  ..., 0., 0., 0.], device='mps:0')"
      ]
     },
     "execution_count": 334,
     "metadata": {},
     "output_type": "execute_result"
    }
   ],
   "source": [
    "mask[0]*grad_2[0]*torch.abs(grad_1[0])"
   ]
  },
  {
   "cell_type": "code",
   "execution_count": 335,
   "metadata": {},
   "outputs": [
    {
     "data": {
      "text/plain": [
       "[<matplotlib.lines.Line2D at 0x369948080>]"
      ]
     },
     "execution_count": 335,
     "metadata": {},
     "output_type": "execute_result"
    },
    {
     "data": {
      "image/png": "[encoded data removed]",
      "text/plain": [
       "<Figure size 640x480 with 1 Axes>"
      ]
     },
     "metadata": {},
     "output_type": "display_data"
    }
   ],
   "source": [
    "new_grad = [grad_2[0] * torch.abs(grad_1[0]) * mask[0], grad_2[1] * torch.abs(grad_1[1]) * mask[1]]\n",
    "plt.plot(new_grad[0].detach().cpu().numpy())"
   ]
  },
  {
   "cell_type": "code",
   "execution_count": 336,
   "metadata": {},
   "outputs": [
    {
     "ename": "SyntaxError",
     "evalue": "invalid syntax (2832114561.py, line 6)",
     "output_type": "error",
     "traceback": [
      "\u001b[0;36m  Cell \u001b[0;32mIn[336], line 6\u001b[0;36m\u001b[0m\n\u001b[0;31m    list_params[0].grad =\u001b[0m\n\u001b[0m                          ^\u001b[0m\n\u001b[0;31mSyntaxError\u001b[0m\u001b[0;31m:\u001b[0m invalid syntax\n"
     ]
    }
   ],
   "source": [
    "back_lay_num = 1\n",
    "layer = list(model.children())[- back_lay_num]\n",
    "params = layer.parameters()\n",
    "list_params = list(params)\n",
    "list_params[0].grad = 3000 * list_params[0].grad \n",
    "list_params[0].grad = "
   ]
  },
  {
   "cell_type": "code",
   "execution_count": null,
   "metadata": {},
   "outputs": [
    {
     "data": {
      "text/plain": [
       "(Parameter containing:\n",
       " tensor([[-0.1386,  0.1189, -0.1357,  ...,  0.0622,  0.0444, -0.0596],\n",
       "         [ 0.0602,  0.0746,  0.0614,  ...,  0.0468, -0.1018, -0.0262],\n",
       "         [-0.2365,  0.0751,  0.0738,  ...,  0.0325,  0.0142, -0.0390],\n",
       "         ...,\n",
       "         [-0.1448, -0.1523,  0.0451,  ..., -0.1763, -0.0253, -0.0100],\n",
       "         [ 0.0359, -0.0877, -0.0979,  ...,  0.1001, -0.1611,  0.0632],\n",
       "         [ 0.0805,  0.0698,  0.0568,  ..., -0.1275,  0.0459,  0.0399]],\n",
       "        device='mps:0', requires_grad=True),\n",
       " Parameter containing:\n",
       " tensor([ 0.0903,  0.0220, -0.0523,  0.0591,  0.0151, -0.0137,  0.0476, -0.0684,\n",
       "          0.0690, -0.0051], device='mps:0', requires_grad=True))"
      ]
     },
     "execution_count": 63,
     "metadata": {},
     "output_type": "execute_result"
    }
   ],
   "source": [
    "wgt, bias = list_params[0], list_params[1]\n",
    "wgt, bias"
   ]
  },
  {
   "cell_type": "code",
   "execution_count": null,
   "metadata": {},
   "outputs": [],
   "source": [
    "optimizer = torch.optim.Adam(model.parameters(), lr=0.001)"
   ]
  },
  {
   "cell_type": "code",
   "execution_count": null,
   "metadata": {},
   "outputs": [],
   "source": []
  },
  {
   "cell_type": "code",
   "execution_count": null,
   "metadata": {},
   "outputs": [],
   "source": []
  },
  {
   "cell_type": "code",
   "execution_count": null,
   "metadata": {},
   "outputs": [],
   "source": []
  }
 ],
 "metadata": {
  "kernelspec": {
   "display_name": "base",
   "language": "python",
   "name": "python3"
  },
  "language_info": {
   "codemirror_mode": {
    "name": "ipython",
    "version": 3
   },
   "file_extension": ".py",
   "mimetype": "text/x-python",
   "name": "python",
   "nbconvert_exporter": "python",
   "pygments_lexer": "ipython3",
   "version": "3.12.2"
  }
 },
 "nbformat": 4,
 "nbformat_minor": 2
}
