{
 "cells": [
  {
   "cell_type": "code",
   "execution_count": 1,
   "metadata": {},
   "outputs": [],
   "source": [
    "import os\n",
    "import torch\n",
    "from torchvision import datasets, transforms\n",
    "from utils import loaders_by_classes, filter_loaders\n",
    "from classNet import ConvNet # for torch load\n",
    "from target import fast_normalization_method"
   ]
  },
  {
   "cell_type": "code",
   "execution_count": 2,
   "metadata": {},
   "outputs": [
    {
     "data": {
      "text/plain": [
       "ConvNet(\n",
       "  (conv1): Conv2d(1, 32, kernel_size=(3, 3), stride=(1, 1), padding=(1, 1))\n",
       "  (conv2): Conv2d(32, 64, kernel_size=(3, 3), stride=(1, 1), padding=(1, 1))\n",
       "  (conv2_drop): Dropout2d(p=0.25, inplace=False)\n",
       "  (fc1): Linear(in_features=3136, out_features=128, bias=True)\n",
       "  (fc2): Linear(in_features=128, out_features=10, bias=True)\n",
       ")"
      ]
     },
     "execution_count": 2,
     "metadata": {},
     "output_type": "execute_result"
    }
   ],
   "source": [
    "model = torch.load('./models/all_class.pth', weights_only=False)\n",
    "model.eval()\n",
    "model"
   ]
  },
  {
   "cell_type": "code",
   "execution_count": 3,
   "metadata": {},
   "outputs": [],
   "source": [
    "transform = transforms.Compose([\n",
    "    transforms.ToTensor(),  # Convert images to PyTorch tensors\n",
    "    transforms.Normalize((0,), (1,))  # Normalize images\n",
    "])\n",
    "\n",
    "test_set = datasets.MNIST(root='./data', train=False, download=True, transform=transform)\n",
    "\n",
    "batch_size = 64\n",
    "num_workers = os.cpu_count()\n",
    "test_loaders = loaders_by_classes(test_set, batch_size=batch_size, shuffle=True, num_workers=num_workers)"
   ]
  },
  {
   "cell_type": "code",
   "execution_count": 4,
   "metadata": {},
   "outputs": [
    {
     "data": {
      "text/plain": [
       "device(type='mps')"
      ]
     },
     "execution_count": 4,
     "metadata": {},
     "output_type": "execute_result"
    }
   ],
   "source": [
    "if torch.backends.mps.is_available():\n",
    "    device = torch.device(\"mps\")\n",
    "elif torch.cuda.is_available():\n",
    "    device = torch.device(\"cuda\")\n",
    "else:\n",
    "    device = torch.device(\"cpu\")\n",
    "\n",
    "device"
   ]
  },
  {
   "cell_type": "markdown",
   "metadata": {},
   "source": [
    "# Choose class to Test"
   ]
  },
  {
   "cell_type": "code",
   "execution_count": 84,
   "metadata": {},
   "outputs": [],
   "source": [
    "class_name = '0 - zero'\n",
    "class_loader = test_loaders[class_name]"
   ]
  },
  {
   "cell_type": "code",
   "execution_count": null,
   "metadata": {},
   "outputs": [
    {
     "data": {
      "text/plain": [
       "{'0 - zero': <torch.utils.data.dataloader.DataLoader at 0x328b307d0>,\n",
       " '1 - one': <torch.utils.data.dataloader.DataLoader at 0x32893ce00>,\n",
       " '2 - two': <torch.utils.data.dataloader.DataLoader at 0x328b451f0>,\n",
       " '3 - three': <torch.utils.data.dataloader.DataLoader at 0x328b59b80>,\n",
       " '4 - four': <torch.utils.data.dataloader.DataLoader at 0x328b82f90>,\n",
       " '5 - five': <torch.utils.data.dataloader.DataLoader at 0x328ba0740>,\n",
       " '6 - six': <torch.utils.data.dataloader.DataLoader at 0x328ba0470>,\n",
       " '7 - seven': <torch.utils.data.dataloader.DataLoader at 0x328ba0230>,\n",
       " '8 - eight': <torch.utils.data.dataloader.DataLoader at 0x328ba08c0>,\n",
       " '9 - nine': <torch.utils.data.dataloader.DataLoader at 0x328ba0980>}"
      ]
     },
     "execution_count": 83,
     "metadata": {},
     "output_type": "execute_result"
    }
   ],
   "source": []
  },
  {
   "cell_type": "markdown",
   "metadata": {},
   "source": [
    "# Gradients pour classic Loss "
   ]
  },
  {
   "cell_type": "code",
   "execution_count": 85,
   "metadata": {},
   "outputs": [],
   "source": [
    "# Calcul des gradients pour Loss_1\n",
    "\n",
    "# On filtre pour sample tout sauf la classe choisie\n",
    "filtered_loader = filter_loaders(test_loaders, class_name, batch_size, shuffle=True, num_workers=num_workers)"
   ]
  },
  {
   "cell_type": "code",
   "execution_count": 86,
   "metadata": {},
   "outputs": [],
   "source": [
    "input, label = next(iter(filtered_loader))"
   ]
  },
  {
   "cell_type": "code",
   "execution_count": 87,
   "metadata": {},
   "outputs": [
    {
     "data": {
      "text/plain": [
       "<matplotlib.image.AxesImage at 0x33bc625a0>"
      ]
     },
     "execution_count": 87,
     "metadata": {},
     "output_type": "execute_result"
    },
    {
     "data": {
      "image/png": "[encoded data removed]",
      "text/plain": [
       "<Figure size 640x480 with 1 Axes>"
      ]
     },
     "metadata": {},
     "output_type": "display_data"
    }
   ],
   "source": [
    "# plot un example d'image input\n",
    "import matplotlib.pyplot as plt\n",
    "plt.imshow(input[0].squeeze(), cmap='gray')"
   ]
  },
  {
   "cell_type": "code",
   "execution_count": 88,
   "metadata": {},
   "outputs": [],
   "source": [
    "def get_pre_layer_grad(model, layer, input, target, criterion):\n",
    "    \"\"\"\n",
    "    Returns the gradient of the criterion with respect to the input of a specified layer.\n",
    "    \n",
    "    Args:\n",
    "        model (torch.nn.Module): The neural network model.\n",
    "        layer (torch.nn.Module): The layer at which to get the gradient (e.g., the last layer).\n",
    "        input (torch.Tensor): The input data for the model.\n",
    "        target (torch.Tensor): The true target for the input data.\n",
    "        criterion (callable): The loss function (e.g., torch.nn.CrossEntropyLoss).\n",
    "\n",
    "    Returns:\n",
    "        torch.Tensor: The gradient of the loss with respect to the input of the specified layer.\n",
    "    \"\"\"\n",
    "    layer_input_grad = None\n",
    "\n",
    "    # Hook to capture the gradient of the input at the specified layer\n",
    "    def backward_hook(module, grad_input, grad_output):\n",
    "        nonlocal layer_input_grad\n",
    "        layer_input_grad = grad_input[0]  # The gradient w.r.t. the input activations (128 dimensions)\n",
    "        \n",
    "    # Register the backward hook on the layer\n",
    "    hook = layer.register_full_backward_hook(backward_hook)\n",
    "\n",
    "    # Perform a forward pass and calculate the loss\n",
    "    output = model(input)\n",
    "    loss = criterion(output, target)\n",
    "\n",
    "    # Perform a backward pass to calculate gradients\n",
    "    model.zero_grad()\n",
    "    loss.backward()\n",
    "\n",
    "    # Remove the hook\n",
    "    hook.remove()\n",
    "\n",
    "    if layer_input_grad is None:\n",
    "        raise RuntimeError(\"Layer input gradient is None; ensure the layer has `requires_grad=True`.\")\n",
    "\n",
    "    # Return the gradient of the layer's input (batch x layer dimensions)\n",
    "    return layer_input_grad.detach()"
   ]
  },
  {
   "cell_type": "code",
   "execution_count": 89,
   "metadata": {},
   "outputs": [
    {
     "data": {
      "text/plain": [
       "torch.Size([64, 128])"
      ]
     },
     "execution_count": 89,
     "metadata": {},
     "output_type": "execute_result"
    }
   ],
   "source": [
    "input, label = input.to(device), label.to(device)\n",
    "_, last_layer = list(model.named_children())[-1]\n",
    "grad_1 = get_pre_layer_grad(model, last_layer, input, label, torch.nn.CrossEntropyLoss())\n",
    "grad_1.size()"
   ]
  },
  {
   "cell_type": "markdown",
   "metadata": {},
   "source": [
    "# Gradient pour Target Loss"
   ]
  },
  {
   "cell_type": "code",
   "execution_count": 113,
   "metadata": {},
   "outputs": [
    {
     "data": {
      "image/png": "[encoded data removed]",
      "text/plain": [
       "<Figure size 640x480 with 1 Axes>"
      ]
     },
     "metadata": {},
     "output_type": "display_data"
    }
   ],
   "source": [
    "input, _ = next(iter(class_loader))\n",
    "# plot un example d'image input\n",
    "import matplotlib.pyplot as plt\n",
    "plt.imshow(input[0].squeeze(), cmap='gray')\n",
    "input = input.to(device)"
   ]
  },
  {
   "cell_type": "code",
   "execution_count": 96,
   "metadata": {},
   "outputs": [
    {
     "name": "stdout",
     "output_type": "stream",
     "text": [
      "Gradient size: torch.Size([64, 128])\n"
     ]
    }
   ],
   "source": [
    "def get_output_target(output, class_num):\n",
    "    output_excluded = torch.cat([output[:, :class_num], output[:, class_num+1:]], dim=1)\n",
    "    _output_excluded = output_excluded.detach()\n",
    "    target = _output_excluded - torch.mean(_output_excluded, dim=1, keepdim=True)\n",
    "    return output_excluded, target\n",
    "\n",
    "def get_intermediate_grad(model, input_tensor):\n",
    "    \"\"\"\n",
    "    Capture le gradient par rapport aux activations d'entrée du dernier layer paramétrique.\n",
    "\n",
    "    Args:\n",
    "        model (torch.nn.Module): Le modèle de réseau de neurones.\n",
    "        input_tensor (torch.Tensor): Les données d'entrée pour le modèle.\n",
    "\n",
    "    Returns:\n",
    "        torch.Tensor: Gradient de la perte par rapport aux activations d'entrée du dernier layer paramétrique.\n",
    "    \"\"\"\n",
    "    # Trouver le dernier layer paramétrique\n",
    "    layers_with_params = [layer for layer in model.children() if hasattr(layer, 'weight') or hasattr(layer, 'bias')]\n",
    "    if not layers_with_params:\n",
    "        raise RuntimeError(\"Aucun layer paramétrique trouvé dans le modèle.\")\n",
    "\n",
    "    last_param_layer = layers_with_params[-1]\n",
    "    last_input = None\n",
    "\n",
    "    # Hook pour capturer les activations d'entrée du dernier layer paramétrique\n",
    "    def capture_input(module, inp, output):\n",
    "        nonlocal last_input\n",
    "        last_input = inp[0]\n",
    "        last_input.retain_grad()  # Assure que le gradient est retenu pour un tensor non-feuille\n",
    "\n",
    "    hook = last_param_layer.register_forward_hook(capture_input)\n",
    "\n",
    "    # Calcul de la sortie\n",
    "    output = model(input_tensor)\n",
    "    output_excluded, target = get_output_target(output, class_num=0)\n",
    "\n",
    "    # Calcul de la perte et rétropropagation\n",
    "    loss = torch.nn.functional.mse_loss(output_excluded, target)\n",
    "    model.zero_grad()\n",
    "    loss.backward()\n",
    "\n",
    "    # Retirer le hook\n",
    "    hook.remove()\n",
    "\n",
    "    # Vérification et récupération du gradient de l'entrée du dernier layer paramétrique\n",
    "    if last_input.grad is None:\n",
    "        raise RuntimeError(\"Le gradient n'a pas été calculé pour l'entrée du dernier layer.\")\n",
    "\n",
    "    return last_input.grad  # Retourne le gradient\n",
    "\n",
    "# Exécution exemple si 'model' et 'input_tensor' sont définis\n",
    "try:\n",
    "    grad_2 = get_intermediate_grad(model, input)\n",
    "    print(\"Gradient size:\", grad.size())\n",
    "except RuntimeError as e:\n",
    "    print(e)"
   ]
  },
  {
   "cell_type": "markdown",
   "metadata": {},
   "source": [
    "# Calcul Masking"
   ]
  },
  {
   "cell_type": "code",
   "execution_count": 105,
   "metadata": {},
   "outputs": [],
   "source": [
    "mg1 = torch.mean(grad_1, dim=0, keepdim=True)\n",
    "mg2 = torch.mean(grad_2, dim=0, keepdim=True)"
   ]
  },
  {
   "cell_type": "code",
   "execution_count": 106,
   "metadata": {},
   "outputs": [
    {
     "data": {
      "text/plain": [
       "[<matplotlib.lines.Line2D at 0x34195b050>]"
      ]
     },
     "execution_count": 106,
     "metadata": {},
     "output_type": "execute_result"
    },
    {
     "data": {
      "image/png": "[encoded data removed]",
      "text/plain": [
       "<Figure size 640x480 with 1 Axes>"
      ]
     },
     "metadata": {},
     "output_type": "display_data"
    }
   ],
   "source": [
    "plt.plot(mg1[0].detach().cpu().numpy())"
   ]
  },
  {
   "cell_type": "code",
   "execution_count": 107,
   "metadata": {},
   "outputs": [
    {
     "data": {
      "text/plain": [
       "[<matplotlib.lines.Line2D at 0x34b282420>]"
      ]
     },
     "execution_count": 107,
     "metadata": {},
     "output_type": "execute_result"
    },
    {
     "data": {
      "image/png": "[encoded data removed]",
      "text/plain": [
       "<Figure size 640x480 with 1 Axes>"
      ]
     },
     "metadata": {},
     "output_type": "display_data"
    }
   ],
   "source": [
    "plt.plot(mg2[0].detach().cpu().numpy())"
   ]
  },
  {
   "cell_type": "code",
   "execution_count": 108,
   "metadata": {},
   "outputs": [],
   "source": [
    "mask = mg1 * mg2 > 0"
   ]
  },
  {
   "cell_type": "code",
   "execution_count": 111,
   "metadata": {},
   "outputs": [
    {
     "data": {
      "text/plain": [
       "ConvNet(\n",
       "  (conv1): Conv2d(1, 32, kernel_size=(3, 3), stride=(1, 1), padding=(1, 1))\n",
       "  (conv2): Conv2d(32, 64, kernel_size=(3, 3), stride=(1, 1), padding=(1, 1))\n",
       "  (conv2_drop): Dropout2d(p=0.25, inplace=False)\n",
       "  (fc1): Linear(in_features=3136, out_features=128, bias=True)\n",
       "  (fc2): Linear(in_features=128, out_features=10, bias=True)\n",
       ")"
      ]
     },
     "execution_count": 111,
     "metadata": {},
     "output_type": "execute_result"
    }
   ],
   "source": [
    "model"
   ]
  },
  {
   "cell_type": "code",
   "execution_count": null,
   "metadata": {},
   "outputs": [],
   "source": []
  },
  {
   "cell_type": "code",
   "execution_count": 110,
   "metadata": {},
   "outputs": [
    {
     "data": {
      "text/plain": [
       "[Parameter containing:\n",
       " tensor([[[[-1.1821e-01,  2.3094e-01,  4.4265e-01],\n",
       "           [-2.3558e-01, -1.0026e-01,  3.4404e-01],\n",
       "           [-3.2443e-02,  2.1631e-01,  8.7450e-02]]],\n",
       " \n",
       " \n",
       "         [[[-1.9941e-01, -4.1640e-02,  4.3671e-01],\n",
       "           [ 3.9129e-01, -3.5305e-02, -2.3355e-01],\n",
       "           [-1.1652e-01, -1.2156e-01, -1.4418e-01]]],\n",
       " \n",
       " \n",
       "         [[[ 1.0977e-01,  1.5989e-01, -1.3099e-01],\n",
       "           [ 4.3489e-01, -2.4218e-01, -4.3694e-01],\n",
       "           [-2.1994e-01, -7.1986e-01,  3.4685e-01]]],\n",
       " \n",
       " \n",
       "         [[[-2.7038e-01, -1.3107e-01,  5.8529e-02],\n",
       "           [ 3.8142e-01,  1.1355e-02, -9.0815e-02],\n",
       "           [ 1.1384e-02,  3.3062e-01,  1.7527e-01]]],\n",
       " \n",
       " \n",
       "         [[[ 1.5485e-01, -3.2326e-01, -1.1294e-01],\n",
       "           [-2.4733e-01, -2.6055e-01, -1.2035e-01],\n",
       "           [-9.1667e-02, -8.0525e-02, -2.5608e-01]]],\n",
       " \n",
       " \n",
       "         [[[ 3.0610e-01, -4.4332e-03,  1.1065e-01],\n",
       "           [-1.3182e-01,  1.8354e-01,  1.1627e-02],\n",
       "           [ 1.4040e-01, -9.7281e-05,  3.6290e-02]]],\n",
       " \n",
       " \n",
       "         [[[-6.8893e-01, -5.3255e-01,  5.6356e-02],\n",
       "           [-4.6223e-01,  2.3374e-01,  6.8589e-01],\n",
       "           [ 5.5543e-02,  6.0775e-01,  1.1609e-01]]],\n",
       " \n",
       " \n",
       "         [[[ 1.5166e-01,  5.6951e-03,  3.7957e-01],\n",
       "           [ 8.1276e-02, -1.3752e-01,  3.0702e-01],\n",
       "           [ 3.1876e-01,  3.1985e-01, -9.0567e-02]]],\n",
       " \n",
       " \n",
       "         [[[-1.5450e-01,  3.3939e-01, -8.3066e-02],\n",
       "           [ 4.0196e-01,  4.2647e-01, -4.1578e-02],\n",
       "           [-1.4256e-01,  6.7591e-02,  2.1419e-02]]],\n",
       " \n",
       " \n",
       "         [[[-3.8972e-01, -6.6777e-03,  4.4248e-01],\n",
       "           [ 2.4578e-01,  3.8609e-01,  2.0180e-01],\n",
       "           [-5.9305e-02,  7.3937e-02, -2.7899e-01]]],\n",
       " \n",
       " \n",
       "         [[[-2.5091e-01,  3.2547e-01, -1.1410e-01],\n",
       "           [ 5.2794e-02, -1.6328e-02, -3.1980e-01],\n",
       "           [-1.7952e-02, -1.2238e-01, -2.5991e-01]]],\n",
       " \n",
       " \n",
       "         [[[ 6.8087e-02,  3.2558e-01, -9.4194e-02],\n",
       "           [-4.5727e-01, -2.8757e-01, -4.5292e-01],\n",
       "           [ 1.8685e-01, -2.1733e-01,  1.7819e-01]]],\n",
       " \n",
       " \n",
       "         [[[ 2.8721e-01,  2.2931e-01,  1.2247e-01],\n",
       "           [ 4.5503e-02,  3.6700e-01,  2.2600e-01],\n",
       "           [ 1.5253e-01, -1.6928e-03,  3.1093e-01]]],\n",
       " \n",
       " \n",
       "         [[[-1.2179e-01, -5.8322e-01, -4.1750e-01],\n",
       "           [ 1.1446e-01,  1.1612e-01, -2.4554e-02],\n",
       "           [ 3.7561e-01,  2.2140e-01,  4.2825e-01]]],\n",
       " \n",
       " \n",
       "         [[[-4.5554e-01, -4.8839e-01,  1.2069e-01],\n",
       "           [-6.1690e-02, -2.3972e-01, -3.3836e-01],\n",
       "           [ 5.2776e-01,  5.1422e-01,  3.2160e-01]]],\n",
       " \n",
       " \n",
       "         [[[-3.0664e-01,  2.0575e-01, -9.5207e-02],\n",
       "           [-3.1858e-01, -3.3621e-01, -3.3209e-01],\n",
       "           [-1.0231e-01, -2.7337e-01, -2.9274e-01]]],\n",
       " \n",
       " \n",
       "         [[[ 5.3979e-02,  5.2066e-01, -1.4493e-01],\n",
       "           [-4.1811e-01,  2.7093e-01,  4.8590e-01],\n",
       "           [-6.0262e-01,  8.8726e-02,  4.2634e-01]]],\n",
       " \n",
       " \n",
       "         [[[ 4.6686e-01,  2.6341e-01,  1.5349e-01],\n",
       "           [ 1.6038e-01, -1.0944e-01,  1.7532e-01],\n",
       "           [ 2.2952e-01, -2.4815e-01, -1.9259e-01]]],\n",
       " \n",
       " \n",
       "         [[[-2.0707e-01,  4.7665e-02,  3.5258e-01],\n",
       "           [ 4.2653e-01,  4.0592e-01, -6.1703e-02],\n",
       "           [ 2.5920e-01, -1.2163e-01, -2.2875e-01]]],\n",
       " \n",
       " \n",
       "         [[[ 1.8382e-01, -2.1436e-02,  2.6152e-01],\n",
       "           [ 3.7362e-01,  7.1419e-02,  2.6637e-01],\n",
       "           [-4.5833e-01, -3.5848e-01, -8.8928e-02]]],\n",
       " \n",
       " \n",
       "         [[[ 2.6095e-01,  1.7035e-01, -9.2074e-02],\n",
       "           [ 4.5114e-01, -6.0890e-02, -7.3921e-02],\n",
       "           [-2.2026e-01,  2.0928e-01, -5.8438e-01]]],\n",
       " \n",
       " \n",
       "         [[[-5.3371e-02,  3.2782e-01, -2.2175e-01],\n",
       "           [-5.0505e-01, -4.5727e-01, -3.9162e-01],\n",
       "           [ 1.2505e-01, -2.2869e-01,  1.4633e-01]]],\n",
       " \n",
       " \n",
       "         [[[ 1.8410e-01,  3.2129e-01,  3.8121e-01],\n",
       "           [ 4.9330e-01,  1.6605e-01, -1.8953e-01],\n",
       "           [-1.5146e-01, -2.1957e-01, -4.1155e-01]]],\n",
       " \n",
       " \n",
       "         [[[-7.9774e-03,  2.7029e-01,  4.3524e-01],\n",
       "           [ 1.7762e-01, -2.1377e-01, -8.4934e-03],\n",
       "           [-2.8178e-01, -2.7486e-01, -1.8014e-01]]],\n",
       " \n",
       " \n",
       "         [[[ 3.8627e-01,  1.6482e-01,  3.8901e-03],\n",
       "           [ 3.3168e-01,  1.4185e-01, -4.7271e-02],\n",
       "           [ 4.1271e-01,  3.5585e-01, -1.6856e-01]]],\n",
       " \n",
       " \n",
       "         [[[ 6.9579e-01,  1.3705e-01, -3.3645e-01],\n",
       "           [ 1.4959e-01, -4.6015e-01, -2.2106e-01],\n",
       "           [-2.3469e-01, -3.7241e-01,  5.5925e-03]]],\n",
       " \n",
       " \n",
       "         [[[ 3.0237e-01,  2.4081e-01,  2.6306e-01],\n",
       "           [-1.0383e-01, -3.1906e-02,  3.0935e-02],\n",
       "           [-2.3733e-01, -2.1658e-01,  2.9331e-01]]],\n",
       " \n",
       " \n",
       "         [[[ 2.0774e-01, -1.6705e-01, -3.7318e-01],\n",
       "           [ 4.5435e-01, -1.4844e-02, -6.2610e-01],\n",
       "           [ 2.8095e-01, -3.0650e-01, -3.5723e-01]]],\n",
       " \n",
       " \n",
       "         [[[-2.0225e-01,  1.6049e-01, -1.1884e-01],\n",
       "           [-3.1503e-02, -2.0246e-01,  8.7394e-02],\n",
       "           [ 5.1476e-02,  1.5543e-02, -3.0281e-01]]],\n",
       " \n",
       " \n",
       "         [[[-2.4430e-01,  2.9088e-01,  3.1688e-01],\n",
       "           [ 2.0125e-01,  2.6220e-01,  2.2376e-01],\n",
       "           [ 1.6849e-01,  3.2759e-01,  9.8474e-02]]],\n",
       " \n",
       " \n",
       "         [[[ 4.0246e-01,  2.1213e-01,  1.2564e-01],\n",
       "           [-1.4635e-01,  3.3983e-01,  2.0845e-01],\n",
       "           [-5.2804e-01, -2.7071e-01,  2.2649e-01]]],\n",
       " \n",
       " \n",
       "         [[[ 2.5323e-01,  4.8395e-01,  3.4343e-01],\n",
       "           [ 2.4709e-01,  7.1360e-02, -1.2178e-01],\n",
       "           [-5.3455e-01, -5.3583e-01, -2.0298e-01]]]], device='mps:0',\n",
       "        requires_grad=True),\n",
       " Parameter containing:\n",
       " tensor([ 0.0441,  0.0230,  0.1083,  0.0547, -0.1717, -0.0337, -0.0978, -0.0425,\n",
       "          0.0261, -0.0387, -0.3261,  0.2440,  0.1211,  0.0020,  0.0447,  0.4075,\n",
       "         -0.0078, -0.1488, -0.1755, -0.0853,  0.0473,  0.2412, -0.1614,  0.0287,\n",
       "         -0.0345,  0.0258,  0.1242,  0.3523, -0.2103, -0.1707, -0.1790, -0.0467],\n",
       "        device='mps:0', requires_grad=True),\n",
       " Parameter containing:\n",
       " tensor([[[[ 1.1131e-04,  3.7182e-02, -2.8702e-02],\n",
       "           [-1.6055e-03, -3.6280e-04, -1.5138e-01],\n",
       "           [-1.9813e-02,  5.6665e-02, -3.9597e-02]],\n",
       " \n",
       "          [[ 9.7963e-02,  1.4391e-01,  2.7365e-01],\n",
       "           [ 1.6611e-02, -7.0715e-03,  7.6069e-02],\n",
       "           [ 3.4044e-02,  1.9059e-01,  9.6689e-02]],\n",
       " \n",
       "          [[-5.7576e-02, -6.0983e-02, -4.7897e-02],\n",
       "           [-6.8544e-02, -1.4269e-01, -1.0919e-01],\n",
       "           [-3.4775e-02, -6.8198e-02, -1.7190e-01]],\n",
       " \n",
       "          ...,\n",
       " \n",
       "          [[-3.2610e-02,  8.3370e-03,  7.4646e-02],\n",
       "           [-1.6066e-02, -1.7942e-02, -9.4697e-02],\n",
       "           [-2.2739e-02,  8.5333e-02,  4.8352e-02]],\n",
       " \n",
       "          [[ 1.9903e-02,  4.1642e-02, -1.0867e-01],\n",
       "           [ 1.2582e-01,  1.3783e-01, -7.3571e-02],\n",
       "           [-6.7910e-03,  1.6560e-01,  8.5977e-02]],\n",
       " \n",
       "          [[ 5.1029e-02, -8.9863e-02,  1.5915e-01],\n",
       "           [ 8.0626e-02, -1.6951e-01, -2.0754e-01],\n",
       "           [ 7.3377e-02, -6.4361e-03, -1.0834e-02]]],\n",
       " \n",
       " \n",
       "         [[[-1.9330e-02,  3.3736e-02, -1.1475e-01],\n",
       "           [-2.8649e-02,  6.1292e-03, -1.1435e-01],\n",
       "           [-7.6946e-02, -7.5374e-03,  6.1556e-02]],\n",
       " \n",
       "          [[ 8.0192e-02,  9.3054e-02,  2.0223e-01],\n",
       "           [ 1.1532e-01,  1.3013e-01,  1.5251e-02],\n",
       "           [ 7.2469e-02,  2.8572e-01,  2.2406e-01]],\n",
       " \n",
       "          [[-1.7343e-02, -1.0286e-01,  8.2836e-02],\n",
       "           [ 1.5457e-03, -6.7870e-02, -1.0621e-01],\n",
       "           [-4.8426e-02, -1.1923e-01, -6.5084e-02]],\n",
       " \n",
       "          ...,\n",
       " \n",
       "          [[-2.6800e-02,  6.1949e-02, -5.9429e-02],\n",
       "           [-5.4396e-02, -5.8168e-02,  1.1945e-02],\n",
       "           [-1.0980e-01,  4.3327e-02,  2.1206e-02]],\n",
       " \n",
       "          [[-3.1145e-02,  7.1889e-02, -6.8257e-02],\n",
       "           [ 6.5723e-02,  1.9085e-01,  1.3303e-01],\n",
       "           [-3.9573e-02,  5.5133e-02,  2.1392e-01]],\n",
       " \n",
       "          [[-1.6468e-02, -6.7491e-02,  4.6217e-02],\n",
       "           [ 2.1616e-01,  1.3459e-02, -1.8518e-01],\n",
       "           [-1.6378e-03,  2.4579e-02,  1.7185e-02]]],\n",
       " \n",
       " \n",
       "         [[[ 6.5562e-02, -3.2689e-02,  4.1348e-02],\n",
       "           [ 5.8015e-02,  6.6050e-02,  1.5169e-03],\n",
       "           [-1.5527e-03,  4.5213e-02, -7.5560e-02]],\n",
       " \n",
       "          [[-9.3380e-02, -2.3068e-01, -1.0042e-02],\n",
       "           [-1.5614e-01, -1.2146e-01,  3.2110e-02],\n",
       "           [-9.9724e-02, -2.3288e-02,  1.2800e-01]],\n",
       " \n",
       "          [[-1.5936e-01, -1.6109e-01, -1.3882e-01],\n",
       "           [-1.0896e-01, -9.9980e-02, -1.3876e-01],\n",
       "           [-1.3456e-01, -2.1627e-01, -1.5953e-01]],\n",
       " \n",
       "          ...,\n",
       " \n",
       "          [[ 1.6144e-02,  1.0441e-01,  1.2059e-01],\n",
       "           [ 7.7865e-02,  7.2691e-02,  6.5410e-02],\n",
       "           [ 9.1991e-02,  4.8018e-02,  5.1373e-02]],\n",
       " \n",
       "          [[ 1.9851e-02, -2.6102e-02, -6.3088e-02],\n",
       "           [ 5.5029e-02, -1.3030e-01, -8.1405e-02],\n",
       "           [-6.4461e-02, -1.7194e-02, -9.7318e-03]],\n",
       " \n",
       "          [[-1.7621e-01, -2.4792e-01, -7.8786e-02],\n",
       "           [-1.3851e-01, -2.2215e-01, -9.9202e-02],\n",
       "           [-7.1396e-02, -1.2150e-01, -4.0171e-02]]],\n",
       " \n",
       " \n",
       "         ...,\n",
       " \n",
       " \n",
       "         [[[-3.0979e-02,  6.7365e-02,  2.7912e-02],\n",
       "           [ 3.8816e-02,  4.2274e-02, -7.1679e-02],\n",
       "           [-5.6136e-02, -2.7288e-02, -6.3253e-02]],\n",
       " \n",
       "          [[ 7.4475e-02,  1.9290e-02,  2.1891e-01],\n",
       "           [ 1.5271e-01,  2.6803e-01,  3.1223e-02],\n",
       "           [ 2.2841e-01, -4.7358e-02, -4.7809e-02]],\n",
       " \n",
       "          [[ 1.5978e-01,  5.4701e-02,  2.9239e-03],\n",
       "           [ 4.6367e-02,  1.6184e-01,  5.7790e-02],\n",
       "           [ 5.0320e-02,  3.5352e-02, -1.3046e-01]],\n",
       " \n",
       "          ...,\n",
       " \n",
       "          [[-1.0429e-01,  7.1619e-04, -1.6564e-03],\n",
       "           [ 4.8566e-02,  1.1901e-02, -5.6730e-02],\n",
       "           [-3.2651e-02, -1.7261e-01, -8.7037e-02]],\n",
       " \n",
       "          [[-7.0015e-02, -4.7098e-02, -3.0422e-02],\n",
       "           [-2.6354e-01, -1.4237e-01, -5.2038e-02],\n",
       "           [-4.3708e-02, -6.3668e-02,  2.0772e-02]],\n",
       " \n",
       "          [[ 1.9214e-02, -1.3182e-02,  4.5790e-02],\n",
       "           [ 1.0943e-01,  1.9736e-01,  1.8953e-02],\n",
       "           [ 2.8730e-01,  8.4782e-03, -8.4655e-02]]],\n",
       " \n",
       " \n",
       "         [[[ 1.4688e-01, -6.2448e-02,  2.4507e-02],\n",
       "           [ 9.1398e-02, -1.8093e-02, -3.4841e-02],\n",
       "           [ 4.7556e-02, -1.5222e-02, -3.8076e-02]],\n",
       " \n",
       "          [[-1.0816e-01, -8.9469e-02, -1.9568e-01],\n",
       "           [-7.5637e-02, -1.7576e-01, -2.4634e-02],\n",
       "           [-1.2834e-01, -5.8675e-02, -1.0076e-01]],\n",
       " \n",
       "          [[-2.9305e-02,  1.5289e-02, -1.1729e-01],\n",
       "           [ 5.5433e-02, -1.8576e-02,  1.7043e-03],\n",
       "           [ 6.3960e-03,  1.1142e-01,  9.6620e-02]],\n",
       " \n",
       "          ...,\n",
       " \n",
       "          [[ 1.5959e-01, -1.4881e-02, -6.1839e-02],\n",
       "           [ 1.2575e-01,  1.2983e-03, -1.0247e-02],\n",
       "           [ 4.4924e-02, -2.9040e-02,  5.3923e-03]],\n",
       " \n",
       "          [[-2.2217e-02, -4.7842e-02,  1.8915e-02],\n",
       "           [-1.7174e-01, -8.3802e-02, -7.8630e-02],\n",
       "           [-5.3016e-02, -8.5045e-02, -5.6876e-02]],\n",
       " \n",
       "          [[-2.1298e-01, -1.5860e-01, -1.1016e-01],\n",
       "           [-1.0604e-01, -1.4026e-01, -9.7051e-02],\n",
       "           [ 5.6020e-02, -5.8731e-02, -2.2419e-01]]],\n",
       " \n",
       " \n",
       "         [[[-1.1736e-01, -1.0030e-01,  3.7791e-02],\n",
       "           [ 1.7635e-02,  7.4480e-02,  2.0621e-02],\n",
       "           [ 3.8426e-02,  8.2629e-02, -2.7503e-02]],\n",
       " \n",
       "          [[-7.2018e-02, -3.1181e-01, -2.7911e-01],\n",
       "           [-2.4084e-01, -6.4701e-02,  1.8293e-01],\n",
       "           [-2.1338e-01, -1.8571e-02,  1.0484e-01]],\n",
       " \n",
       "          [[ 4.6752e-02,  1.4014e-01,  9.7359e-02],\n",
       "           [ 4.5780e-02,  7.0393e-02,  2.4704e-02],\n",
       "           [ 6.2378e-02, -2.8072e-02,  1.5893e-01]],\n",
       " \n",
       "          ...,\n",
       " \n",
       "          [[-1.0105e-01, -5.8876e-02, -1.2615e-02],\n",
       "           [-3.9675e-02,  5.4894e-02,  6.3625e-02],\n",
       "           [-1.7449e-02,  9.5207e-02,  3.6187e-02]],\n",
       " \n",
       "          [[-7.5086e-02, -1.8768e-01, -2.2666e-01],\n",
       "           [-6.4527e-02, -1.6199e-01, -8.2290e-02],\n",
       "           [-1.4235e-01, -8.5336e-02, -2.2548e-01]],\n",
       " \n",
       "          [[-4.7585e-03, -1.2702e-01, -2.9246e-01],\n",
       "           [-6.2674e-02, -2.0843e-01,  1.5526e-01],\n",
       "           [-1.9655e-01, -2.1862e-01,  1.1139e-02]]]], device='mps:0',\n",
       "        requires_grad=True),\n",
       " Parameter containing:\n",
       " tensor([-0.0806, -0.0521,  0.0058, -0.0104, -0.0027,  0.0132, -0.0311,  0.0123,\n",
       "         -0.0653,  0.0233, -0.0582, -0.0661,  0.0084,  0.0148, -0.0179,  0.0652,\n",
       "          0.0397, -0.0395,  0.0030, -0.0121, -0.0308,  0.0089, -0.0540, -0.1117,\n",
       "         -0.0128, -0.0096,  0.0163, -0.0060, -0.0037, -0.0857, -0.0232, -0.0344,\n",
       "         -0.0686, -0.0508, -0.0167, -0.0481, -0.0218, -0.0224, -0.0487, -0.0192,\n",
       "         -0.0500, -0.0211, -0.0291, -0.0065,  0.0025, -0.0185, -0.0785,  0.0112,\n",
       "         -0.0832,  0.0351,  0.0100,  0.0197,  0.0381, -0.0212, -0.0674,  0.0337,\n",
       "         -0.0304, -0.0179, -0.0204, -0.0336, -0.0383, -0.0223, -0.0029, -0.0418],\n",
       "        device='mps:0', requires_grad=True),\n",
       " Parameter containing:\n",
       " tensor([[ 0.0280, -0.0089,  0.0126,  ...,  0.0350,  0.0187,  0.0063],\n",
       "         [-0.0112, -0.0020,  0.0045,  ..., -0.0591, -0.0156,  0.0082],\n",
       "         [ 0.0105, -0.0123,  0.0249,  ...,  0.0364, -0.0066, -0.0114],\n",
       "         ...,\n",
       "         [-0.0012, -0.0044,  0.0306,  ..., -0.0154,  0.0247,  0.0042],\n",
       "         [ 0.0130,  0.0301, -0.0075,  ...,  0.0143,  0.0156, -0.0211],\n",
       "         [-0.0092,  0.0098,  0.0075,  ..., -0.0123,  0.0081,  0.0111]],\n",
       "        device='mps:0', requires_grad=True),\n",
       " Parameter containing:\n",
       " tensor([ 2.2198e-02,  1.5579e-03,  3.2021e-02,  1.3664e-03, -1.0852e-02,\n",
       "          1.1781e-02, -2.0340e-02, -1.3032e-03,  6.3198e-03, -1.6927e-02,\n",
       "         -1.0789e-02, -4.0808e-03, -1.7619e-02,  1.2450e-02,  1.2108e-02,\n",
       "          1.5650e-02,  1.0072e-02,  7.0714e-03, -1.7274e-02,  2.2996e-02,\n",
       "          1.1519e-02, -5.2730e-03, -1.1546e-02,  1.6438e-02, -1.6016e-03,\n",
       "          3.0644e-03, -1.2583e-02, -6.6029e-03,  1.3893e-02,  8.6509e-03,\n",
       "          9.8513e-04,  5.0500e-03,  4.7926e-02, -1.3429e-02, -1.1404e-02,\n",
       "         -5.7867e-02,  6.8939e-03, -2.3475e-02,  1.8692e-02,  3.5341e-02,\n",
       "         -2.2235e-02, -1.1967e-02,  1.0391e-02, -7.8718e-03, -6.8008e-03,\n",
       "          6.8529e-03,  3.7767e-03,  2.2228e-02,  3.6722e-02,  2.5775e-03,\n",
       "         -2.7165e-02,  3.1497e-02, -2.0644e-02,  2.8895e-02,  3.4023e-02,\n",
       "         -3.0276e-03,  5.5375e-03, -3.3944e-04,  3.8023e-02, -1.5346e-02,\n",
       "          9.1311e-03,  1.4636e-02, -1.5891e-02,  3.1260e-02,  3.7759e-03,\n",
       "          1.5468e-02, -3.0549e-03,  8.7117e-03, -1.6094e-02,  1.1368e-02,\n",
       "         -1.1524e-02, -1.5351e-02,  3.3381e-03,  1.9103e-02,  1.0577e-02,\n",
       "         -4.0121e-03, -1.8018e-02, -3.9893e-02,  2.7393e-02, -4.2278e-02,\n",
       "         -3.3697e-02,  2.7944e-02,  4.3930e-02,  3.3558e-03,  5.2867e-03,\n",
       "          1.4479e-02, -2.1363e-02,  6.2486e-03,  4.6182e-02,  9.8964e-03,\n",
       "          2.3705e-02, -4.1014e-02, -2.0998e-02,  1.6495e-02,  1.4509e-02,\n",
       "          1.4054e-02, -8.9686e-03, -1.2356e-02,  1.5934e-03,  1.8725e-02,\n",
       "         -1.7198e-02,  4.0268e-07, -2.5239e-04, -1.6636e-02, -4.3266e-03,\n",
       "          1.5748e-03,  3.8085e-02,  3.4250e-02,  3.4482e-03, -7.5728e-03,\n",
       "         -5.4275e-03, -1.3448e-02,  5.6814e-05, -5.2877e-02,  1.1755e-02,\n",
       "          6.1123e-03,  2.6984e-03,  5.5336e-03, -4.1427e-02, -1.1553e-02,\n",
       "          2.7633e-02, -6.9793e-03,  1.3337e-02,  2.2746e-03,  3.4969e-02,\n",
       "          2.5227e-02, -5.8142e-03, -1.8633e-03], device='mps:0',\n",
       "        requires_grad=True),\n",
       " Parameter containing:\n",
       " tensor([[-0.1386,  0.1189, -0.1357,  ...,  0.0622,  0.0444, -0.0596],\n",
       "         [ 0.0602,  0.0746,  0.0614,  ...,  0.0468, -0.1018, -0.0262],\n",
       "         [-0.2365,  0.0751,  0.0738,  ...,  0.0325,  0.0142, -0.0390],\n",
       "         ...,\n",
       "         [-0.1448, -0.1523,  0.0451,  ..., -0.1763, -0.0253, -0.0100],\n",
       "         [ 0.0359, -0.0877, -0.0979,  ...,  0.1001, -0.1611,  0.0632],\n",
       "         [ 0.0805,  0.0698,  0.0568,  ..., -0.1275,  0.0459,  0.0399]],\n",
       "        device='mps:0', requires_grad=True),\n",
       " Parameter containing:\n",
       " tensor([ 0.0903,  0.0220, -0.0523,  0.0591,  0.0151, -0.0137,  0.0476, -0.0684,\n",
       "          0.0690, -0.0051], device='mps:0', requires_grad=True)]"
      ]
     },
     "execution_count": 110,
     "metadata": {},
     "output_type": "execute_result"
    }
   ],
   "source": [
    "list(model.parameters())"
   ]
  },
  {
   "cell_type": "code",
   "execution_count": 115,
   "metadata": {},
   "outputs": [],
   "source": [
    "input_tensor = input"
   ]
  },
  {
   "cell_type": "code",
   "execution_count": 121,
   "metadata": {},
   "outputs": [
    {
     "name": "stdout",
     "output_type": "stream",
     "text": [
      "1290 1290\n",
      "Gradient size: torch.Size([1290])\n"
     ]
    }
   ],
   "source": [
    "import torch\n",
    "\n",
    "def get_param_grad(model, input_tensor):\n",
    "    \"\"\"\n",
    "    Capture le gradient de la perte par rapport aux paramètres (poids et biais) du dernier layer paramétrique.\n",
    "\n",
    "    Args:\n",
    "        model (torch.nn.Module): Le modèle de réseau de neurones.\n",
    "        input_tensor (torch.Tensor): Les données d'entrée pour le modèle.\n",
    "\n",
    "    Returns:\n",
    "        torch.Tensor: Gradient de la perte par rapport aux poids et biais du dernier layer paramétrique.\n",
    "    \"\"\"\n",
    "    # Assurez-vous que l'entrée a bien requires_grad activé\n",
    "    input_tensor.requires_grad_(True)\n",
    "\n",
    "    # Passer en avant jusqu'au dernier layer paramétrique\n",
    "    output = model(input_tensor)\n",
    "\n",
    "    # Création de la cible\n",
    "    output_excluded, target = get_output_target(output, class_num=0)\n",
    "\n",
    "    # Calcul de la perte et rétropropagation\n",
    "    loss = torch.nn.functional.mse_loss(output_excluded, target)\n",
    "    loss.backward()\n",
    "\n",
    "    # Récupérer le gradient des poids et biais du dernier layer paramétrique\n",
    "    last_layer = list(model.children())[-1]  # Dernier layer du modèle\n",
    "\n",
    "    # Liste pour stocker les gradients de chaque paramètre\n",
    "    grad_params = []\n",
    "\n",
    "    for param in last_layer.parameters():\n",
    "        # Aplatir les gradients des paramètres (poids et biais)\n",
    "        grad_params.append(param.grad.flatten())  # Aplatir les gradients des poids et biais\n",
    "\n",
    "    # Concaténer tous les gradients (poids et biais) pour obtenir une seule dimension\n",
    "    all_gradients = torch.cat(grad_params, dim=0)  # Contient tous les gradients\n",
    "\n",
    "    # Calcul du nombre total de paramètres dans le dernier layer paramétrique\n",
    "    total_params = sum(p.numel() for p in last_layer.parameters())  # Total des paramètres (poids + biais)\n",
    "\n",
    "    # Assurez-vous que la taille est correcte pour une sortie de taille (batch_size, total_params)\n",
    "    print(all_gradients.numel(), total_params)\n",
    "\n",
    "    if all_gradients.numel() != total_params:\n",
    "        raise RuntimeError(f\"Erreur de taille : taille de all_gradients ({all_gradients.numel()}) ne correspond pas à \"\n",
    "                             f\"total_params ({total_params})\")\n",
    "\n",
    "    # Retourner le gradient sous la forme (batch_size, total_params)\n",
    "    return all_gradients\n",
    "\n",
    "# Exécution exemple si 'model' et 'input_tensor' sont définis\n",
    "try:\n",
    "    grad = get_param_grad(model, input_tensor)\n",
    "    print(\"Gradient size:\", grad.size())  # Devrait donner (batch_size, nombre_de_paramètres)\n",
    "except RuntimeError as e:\n",
    "    print(e)\n"
   ]
  },
  {
   "cell_type": "code",
   "execution_count": 124,
   "metadata": {},
   "outputs": [
    {
     "data": {
      "text/plain": [
       "torch.Size([1290])"
      ]
     },
     "execution_count": 124,
     "metadata": {},
     "output_type": "execute_result"
    }
   ],
   "source": [
    "grad.size()"
   ]
  },
  {
   "cell_type": "code",
   "execution_count": null,
   "metadata": {},
   "outputs": [
    {
     "data": {
      "text/plain": [
       "tensor([[ True, False,  True,  True, False, False, False,  True,  True,  True,\n",
       "          True,  True,  True,  True, False, False,  True, False,  True,  True,\n",
       "          True, False,  True, False, False, False, False, False,  True,  True,\n",
       "         False,  True,  True, False, False,  True, False,  True, False,  True,\n",
       "          True, False,  True,  True, False,  True,  True,  True, False,  True,\n",
       "          True, False, False,  True, False, False, False,  True, False, False,\n",
       "          True, False, False,  True, False, False, False, False, False, False,\n",
       "         False, False, False,  True, False,  True,  True,  True,  True, False,\n",
       "          True,  True,  True,  True,  True,  True,  True, False,  True,  True,\n",
       "          True,  True, False, False,  True,  True,  True,  True,  True,  True,\n",
       "          True, False,  True,  True,  True,  True,  True, False,  True, False,\n",
       "          True, False,  True, False,  True,  True,  True, False,  True, False,\n",
       "          True,  True, False, False,  True, False,  True, False]],\n",
       "       device='mps:0')"
      ]
     },
     "execution_count": 104,
     "metadata": {},
     "output_type": "execute_result"
    }
   ],
   "source": [
    "mask\n",
    "optimizer = optim.Adam(model.parameters(), lr=0.001)"
   ]
  },
  {
   "cell_type": "code",
   "execution_count": null,
   "metadata": {},
   "outputs": [],
   "source": []
  },
  {
   "cell_type": "code",
   "execution_count": null,
   "metadata": {},
   "outputs": [],
   "source": []
  },
  {
   "cell_type": "code",
   "execution_count": null,
   "metadata": {},
   "outputs": [],
   "source": []
  },
  {
   "cell_type": "code",
   "execution_count": null,
   "metadata": {},
   "outputs": [],
   "source": []
  }
 ],
 "metadata": {
  "kernelspec": {
   "display_name": "base",
   "language": "python",
   "name": "python3"
  },
  "language_info": {
   "codemirror_mode": {
    "name": "ipython",
    "version": 3
   },
   "file_extension": ".py",
   "mimetype": "text/x-python",
   "name": "python",
   "nbconvert_exporter": "python",
   "pygments_lexer": "ipython3",
   "version": "3.12.2"
  }
 },
 "nbformat": 4,
 "nbformat_minor": 2
}
