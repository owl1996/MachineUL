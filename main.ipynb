{
 "cells": [
  {
   "cell_type": "markdown",
   "metadata": {},
   "source": [
    "# Loading dependencies and model"
   ]
  },
  {
   "cell_type": "code",
   "execution_count": 1,
   "metadata": {},
   "outputs": [],
   "source": [
    "import os\n",
    "import torch\n",
    "from torchvision import datasets, transforms\n",
    "from utils import loaders_by_classes, filter_loaders, balance\n",
    "from classNet import ConvNet, submodel # for torch load\n",
    "import matplotlib.pyplot as plt"
   ]
  },
  {
   "cell_type": "code",
   "execution_count": 2,
   "metadata": {},
   "outputs": [
    {
     "data": {
      "text/plain": [
       "ConvNet(\n",
       "  (conv1): Conv2d(1, 32, kernel_size=(3, 3), stride=(1, 1), padding=(1, 1))\n",
       "  (conv2): Conv2d(32, 64, kernel_size=(3, 3), stride=(1, 1), padding=(1, 1))\n",
       "  (conv2_drop): Dropout2d(p=0.25, inplace=False)\n",
       "  (fc1): Linear(in_features=3136, out_features=128, bias=True)\n",
       "  (fc2): Linear(in_features=128, out_features=10, bias=True)\n",
       ")"
      ]
     },
     "execution_count": 2,
     "metadata": {},
     "output_type": "execute_result"
    }
   ],
   "source": [
    "_model = torch.load('./models/all_class.pth', weights_only=False)\n",
    "_model"
   ]
  },
  {
   "cell_type": "code",
   "execution_count": 3,
   "metadata": {},
   "outputs": [],
   "source": [
    "transform = transforms.Compose([\n",
    "    transforms.ToTensor(),  # Convert images to PyTorch tensors\n",
    "    transforms.Normalize((0,), (1,))  # Normalize images\n",
    "])\n",
    "\n",
    "test_set = datasets.MNIST(root='./data', train=False, download=True, transform=transform)\n",
    "\n",
    "batch_size = 64\n",
    "num_workers = os.cpu_count()\n",
    "test_loaders = loaders_by_classes(test_set, batch_size=batch_size, shuffle=True, num_workers=num_workers)"
   ]
  },
  {
   "cell_type": "code",
   "execution_count": 4,
   "metadata": {},
   "outputs": [
    {
     "data": {
      "text/plain": [
       "device(type='mps')"
      ]
     },
     "execution_count": 4,
     "metadata": {},
     "output_type": "execute_result"
    }
   ],
   "source": [
    "if torch.backends.mps.is_available():\n",
    "    device = torch.device(\"mps\")\n",
    "elif torch.cuda.is_available():\n",
    "    device = torch.device(\"cuda\")\n",
    "else:\n",
    "    device = torch.device(\"cpu\")\n",
    "\n",
    "device"
   ]
  },
  {
   "cell_type": "markdown",
   "metadata": {},
   "source": [
    "# Choose class to Test"
   ]
  },
  {
   "cell_type": "code",
   "execution_count": 5,
   "metadata": {},
   "outputs": [],
   "source": [
    "class_name = '0 - zero'\n",
    "class_loader = test_loaders[class_name]\n"
   ]
  },
  {
   "cell_type": "code",
   "execution_count": 6,
   "metadata": {},
   "outputs": [],
   "source": [
    "bal = balance(test_loaders)\n",
    "n_items_class = bal[class_name]\n",
    "n_tot = 0\n",
    "for key, val in bal.items():\n",
    "    if key != class_name:\n",
    "        n_tot += val\n",
    "proportion = n_items_class / n_tot\n",
    "balanced_batch = (1 - proportion) * batch_size / proportion"
   ]
  },
  {
   "cell_type": "code",
   "execution_count": 7,
   "metadata": {},
   "outputs": [],
   "source": [
    "filtered_loader = filter_loaders(test_loaders, class_name, balanced_batch, shuffle=True, num_workers=num_workers)"
   ]
  },
  {
   "cell_type": "markdown",
   "metadata": {},
   "source": [
    "# Submodel"
   ]
  },
  {
   "cell_type": "code",
   "execution_count": 16,
   "metadata": {},
   "outputs": [
    {
     "data": {
      "text/plain": [
       "ConvNet(\n",
       "  (conv1): Conv2d(1, 32, kernel_size=(3, 3), stride=(1, 1), padding=(1, 1))\n",
       "  (conv2): Conv2d(32, 64, kernel_size=(3, 3), stride=(1, 1), padding=(1, 1))\n",
       "  (conv2_drop): Dropout2d(p=0.25, inplace=False)\n",
       "  (fc1): Linear(in_features=3136, out_features=128, bias=True)\n",
       "  (fc2): Linear(in_features=128, out_features=9, bias=True)\n",
       ")"
      ]
     },
     "execution_count": 16,
     "metadata": {},
     "output_type": "execute_result"
    }
   ],
   "source": [
    "model = submodel(_model, 0)\n",
    "model.to(device)\n"
   ]
  },
  {
   "cell_type": "markdown",
   "metadata": {},
   "source": [
    "# Gradients pour classic Loss "
   ]
  },
  {
   "cell_type": "code",
   "execution_count": 17,
   "metadata": {},
   "outputs": [
    {
     "data": {
      "text/plain": [
       "<matplotlib.image.AxesImage at 0x337a6b950>"
      ]
     },
     "execution_count": 17,
     "metadata": {},
     "output_type": "execute_result"
    },
    {
     "data": {
      "image/png": "[encoded data removed]",
      "text/plain": [
       "<Figure size 640x480 with 1 Axes>"
      ]
     },
     "metadata": {},
     "output_type": "display_data"
    }
   ],
   "source": [
    "input = next(iter(filtered_loader))\n",
    "plt.imshow(input[0][0].squeeze(), cmap='gray')"
   ]
  },
  {
   "cell_type": "code",
   "execution_count": 18,
   "metadata": {},
   "outputs": [],
   "source": [
    "def get_param_grad_1(model, input, back_lay_num = 1):\n",
    "    \"\"\"\n",
    "    Capture le gradient de la perte par rapport aux paramètres (poids et biais) du dernier layer paramétrique.\n",
    "\n",
    "    Args:\n",
    "        model (torch.nn.Module): Le modèle de réseau de neurones.\n",
    "        input_tensor (torch.Tensor): Les données d'entrée pour le modèle.\n",
    "\n",
    "    Returns:\n",
    "        torch.Tensor: Gradient de la perte par rapport aux poids et biais du dernier layer paramétrique.\n",
    "    \"\"\"\n",
    "\n",
    "    input_tensor, label_tensor = input\n",
    "    input_tensor = input_tensor.to(device)\n",
    "    label_tensor = label_tensor.to(device)\n",
    "\n",
    "    # Assurez-vous que l'entrée a bien requires_grad activé\n",
    "    input_tensor.requires_grad_(True)\n",
    "\n",
    "    # Passer en avant jusqu'au dernier layer paramétrique\n",
    "    model.zero_grad()\n",
    "    output = model(input_tensor)\n",
    "\n",
    "    # Calcul de la perte et rétropropagation\n",
    "    criterion = torch.nn.CrossEntropyLoss()\n",
    "    loss = criterion(output, label_tensor)\n",
    "    loss.backward()\n",
    "\n",
    "    # Récupérer le gradient des poids et biais du layer paramétrique\n",
    "    layer = list(model.children())[- back_lay_num]  # Dernier layer du modèle\n",
    "\n",
    "    # Liste pour stocker les gradients de chaque paramètre\n",
    "    grad_params = []\n",
    "\n",
    "    for param in layer.parameters():\n",
    "        # Aplatir les gradients des paramètres (poids et biais)\n",
    "        grad_params.append(param.grad.flatten())  # Aplatir les gradients des poids et biais\n",
    "\n",
    "    # Concaténer tous les gradients (poids et biais) pour obtenir une seule dimension\n",
    "    all_gradients = torch.cat(grad_params, dim=0)  # Contient tous les gradients\n",
    "\n",
    "    # Test\n",
    "    # Calcul du nombre total de paramètres dans le dernier layer paramétrique\n",
    "    total_params = sum(p.numel() for p in layer.parameters()) # Total des paramètres (poids + biais)\n",
    "\n",
    "    if all_gradients.numel() != total_params:\n",
    "        raise RuntimeError(f\"Erreur de taille : taille de all_gradients ({all_gradients.numel()}) ne correspond pas à \"\n",
    "                             f\"total_params ({total_params})\")\n",
    "\n",
    "    # Retourner le gradient sous la forme (batch_size, total_params)\n",
    "    return all_gradients"
   ]
  },
  {
   "cell_type": "code",
   "execution_count": 19,
   "metadata": {},
   "outputs": [
    {
     "name": "stdout",
     "output_type": "stream",
     "text": [
      "Gradient size: torch.Size([1161])\n",
      "tensor([ 0.2051,  0.0445,  0.1187,  ..., -0.0625, -0.0390, -0.0781],\n",
      "       device='mps:0')\n"
     ]
    }
   ],
   "source": [
    "try:\n",
    "    grad_1 = get_param_grad_1(model, input)\n",
    "    print(\"Gradient size:\", grad_1.size())  # Devrait donner (batch_size, nombre_de_paramètres)\n",
    "    print(grad_1)\n",
    "except RuntimeError as e:\n",
    "    print(e)"
   ]
  },
  {
   "cell_type": "markdown",
   "metadata": {},
   "source": [
    "# Gradient pour Target Loss"
   ]
  },
  {
   "cell_type": "code",
   "execution_count": 20,
   "metadata": {},
   "outputs": [
    {
     "data": {
      "text/plain": [
       "<matplotlib.image.AxesImage at 0x337ade810>"
      ]
     },
     "execution_count": 20,
     "metadata": {},
     "output_type": "execute_result"
    },
    {
     "data": {
      "image/png": "[encoded data removed]",
      "text/plain": [
       "<Figure size 640x480 with 1 Axes>"
      ]
     },
     "metadata": {},
     "output_type": "display_data"
    }
   ],
   "source": [
    "input = next(iter(class_loader))\n",
    "# plot un example d'image input\n",
    "plt.imshow(input[0][0].squeeze(), cmap='gray')"
   ]
  },
  {
   "cell_type": "code",
   "execution_count": 23,
   "metadata": {},
   "outputs": [],
   "source": [
    "def get_output_target(output, class_num):\n",
    "    output_excluded = torch.cat([output[:, :class_num], output[:, class_num+1:]], dim=1)\n",
    "    _output_excluded = output_excluded.detach()\n",
    "    target = _output_excluded - torch.mean(_output_excluded, dim=1, keepdim=True)\n",
    "    return output_excluded, target\n",
    "\n",
    "def get_param_grad_2(model, input, back_lay_num = 1):\n",
    "    \"\"\"\n",
    "    Capture le gradient de la perte par rapport aux paramètres (poids et biais) du dernier layer paramétrique.\n",
    "\n",
    "    Args:\n",
    "        model (torch.nn.Module): Le modèle de réseau de neurones.\n",
    "        input_tensor (torch.Tensor): Les données d'entrée pour le modèle.\n",
    "\n",
    "    Returns:\n",
    "        torch.Tensor: Gradient de la perte par rapport aux poids et biais du dernier layer paramétrique.\n",
    "    \"\"\"\n",
    "\n",
    "    input_tensor, label_tensor = input\n",
    "    input_tensor = input_tensor.to(device)\n",
    "    label_tensor = label_tensor.to(device)\n",
    "\n",
    "    # Assurez-vous que l'entrée a bien requires_grad activé\n",
    "    input_tensor.requires_grad_(True)\n",
    "\n",
    "    # Passer en avant jusqu'au dernier layer paramétrique\n",
    "    model.zero_grad()\n",
    "    output = model(input_tensor)\n",
    "\n",
    "    # Création de la cible\n",
    "    output_excluded, target = get_output_target(output, class_num = 0)\n",
    "\n",
    "    # Calcul de la perte et rétropropagation\n",
    "    loss = torch.nn.functional.mse_loss(output_excluded, target)\n",
    "    loss.backward()\n",
    "\n",
    "    # Récupérer le gradient des poids et biais du layer paramétrique\n",
    "    layer = list(model.children())[- back_lay_num]  # Dernier layer du modèle\n",
    "\n",
    "    # Liste pour stocker les gradients de chaque paramètre\n",
    "    grad_params = []\n",
    "\n",
    "    for param in layer.parameters():\n",
    "        # Aplatir les gradients des paramètres (poids et biais)\n",
    "        grad_params.append(param.grad.flatten())  # Aplatir les gradients des poids et biais\n",
    "\n",
    "    # Concaténer tous les gradients (poids et biais) pour obtenir une seule dimension\n",
    "    all_gradients = torch.cat(grad_params, dim=0)  # Contient tous les gradients\n",
    "\n",
    "    # Test\n",
    "    # Calcul du nombre total de paramètres dans le dernier layer paramétrique\n",
    "    total_params = sum(p.numel() for p in layer.parameters()) # Total des paramètres (poids + biais)\n",
    "\n",
    "    if all_gradients.numel() != total_params:\n",
    "        raise RuntimeError(f\"Erreur de taille : taille de all_gradients ({all_gradients.numel()}) ne correspond pas à \"\n",
    "                             f\"total_params ({total_params})\")\n",
    "\n",
    "    # Retourner le gradient sous la forme (batch_size, total_params)\n",
    "    return all_gradients"
   ]
  },
  {
   "cell_type": "code",
   "execution_count": 24,
   "metadata": {},
   "outputs": [
    {
     "name": "stdout",
     "output_type": "stream",
     "text": [
      "Gradient size: torch.Size([1161])\n",
      "tensor([ 0.0000,  0.0271,  0.0045,  ..., -0.3390, -0.9513, -0.1273],\n",
      "       device='mps:0')\n"
     ]
    }
   ],
   "source": [
    "try:\n",
    "    grad_2 = get_param_grad_2(model, input)\n",
    "    print(\"Gradient size:\", grad_2.size())  # Devrait donner (batch_size, nombre_de_paramètres)\n",
    "    print(grad_2)\n",
    "except RuntimeError as e:\n",
    "    print(e)"
   ]
  },
  {
   "cell_type": "markdown",
   "metadata": {},
   "source": [
    "# Calcul Masking"
   ]
  },
  {
   "cell_type": "code",
   "execution_count": 25,
   "metadata": {},
   "outputs": [
    {
     "data": {
      "text/plain": [
       "[<matplotlib.lines.Line2D at 0x337ade690>]"
      ]
     },
     "execution_count": 25,
     "metadata": {},
     "output_type": "execute_result"
    },
    {
     "data": {
      "image/png": "[encoded data removed]",
      "text/plain": [
       "<Figure size 640x480 with 1 Axes>"
      ]
     },
     "metadata": {},
     "output_type": "display_data"
    }
   ],
   "source": [
    "plt.plot(grad_1.detach().cpu().numpy())"
   ]
  },
  {
   "cell_type": "code",
   "execution_count": 26,
   "metadata": {},
   "outputs": [
    {
     "data": {
      "text/plain": [
       "[<matplotlib.lines.Line2D at 0x337d2d190>]"
      ]
     },
     "execution_count": 26,
     "metadata": {},
     "output_type": "execute_result"
    },
    {
     "data": {
      "image/png": "[encoded data removed]",
      "text/plain": [
       "<Figure size 640x480 with 1 Axes>"
      ]
     },
     "metadata": {},
     "output_type": "display_data"
    }
   ],
   "source": [
    "plt.plot(grad_2.detach().cpu().numpy())"
   ]
  },
  {
   "cell_type": "code",
   "execution_count": 27,
   "metadata": {},
   "outputs": [
    {
     "data": {
      "text/plain": [
       "tensor(347, device='mps:0')"
      ]
     },
     "execution_count": 27,
     "metadata": {},
     "output_type": "execute_result"
    }
   ],
   "source": [
    "mask = grad_1 * grad_2 > 0\n",
    "torch.sum(mask)"
   ]
  },
  {
   "cell_type": "code",
   "execution_count": null,
   "metadata": {},
   "outputs": [
    {
     "ename": "RuntimeError",
     "evalue": "The size of tensor a (1290) must match the size of tensor b (1161) at non-singleton dimension 0",
     "output_type": "error",
     "traceback": [
      "\u001b[0;31m---------------------------------------------------------------------------\u001b[0m",
      "\u001b[0;31mRuntimeError\u001b[0m                              Traceback (most recent call last)",
      "Cell \u001b[0;32mIn[17], line 1\u001b[0m\n\u001b[0;32m----> 1\u001b[0m mask \u001b[38;5;241m=\u001b[39m \u001b[43mgrad_1\u001b[49m\u001b[43m \u001b[49m\u001b[38;5;241;43m*\u001b[39;49m\u001b[43m \u001b[49m\u001b[43mgrad_2\u001b[49m \u001b[38;5;241m>\u001b[39m \u001b[38;5;241m0\u001b[39m\n\u001b[1;32m      2\u001b[0m back_lay_num \u001b[38;5;241m=\u001b[39m \u001b[38;5;241m1\u001b[39m\n\u001b[1;32m      3\u001b[0m layer \u001b[38;5;241m=\u001b[39m \u001b[38;5;28mlist\u001b[39m(model\u001b[38;5;241m.\u001b[39mchildren())[\u001b[38;5;241m-\u001b[39m back_lay_num]\n",
      "\u001b[0;31mRuntimeError\u001b[0m: The size of tensor a (1290) must match the size of tensor b (1161) at non-singleton dimension 0"
     ]
    }
   ],
   "source": [
    "\n",
    "back_lay_num = 1\n",
    "layer = list(model.children())[- back_lay_num]\n",
    "params = layer.parameters()\n",
    "list_params = list(params)\n",
    "list_params"
   ]
  },
  {
   "cell_type": "code",
   "execution_count": null,
   "metadata": {},
   "outputs": [
    {
     "data": {
      "text/plain": [
       "[]"
      ]
     },
     "execution_count": 62,
     "metadata": {},
     "output_type": "execute_result"
    }
   ],
   "source": [
    "filtered_params = [p for p, m in zip(params, mask) if m]\n",
    "filtered_params"
   ]
  },
  {
   "cell_type": "code",
   "execution_count": null,
   "metadata": {},
   "outputs": [
    {
     "data": {
      "text/plain": [
       "(Parameter containing:\n",
       " tensor([[-0.1386,  0.1189, -0.1357,  ...,  0.0622,  0.0444, -0.0596],\n",
       "         [ 0.0602,  0.0746,  0.0614,  ...,  0.0468, -0.1018, -0.0262],\n",
       "         [-0.2365,  0.0751,  0.0738,  ...,  0.0325,  0.0142, -0.0390],\n",
       "         ...,\n",
       "         [-0.1448, -0.1523,  0.0451,  ..., -0.1763, -0.0253, -0.0100],\n",
       "         [ 0.0359, -0.0877, -0.0979,  ...,  0.1001, -0.1611,  0.0632],\n",
       "         [ 0.0805,  0.0698,  0.0568,  ..., -0.1275,  0.0459,  0.0399]],\n",
       "        device='mps:0', requires_grad=True),\n",
       " Parameter containing:\n",
       " tensor([ 0.0903,  0.0220, -0.0523,  0.0591,  0.0151, -0.0137,  0.0476, -0.0684,\n",
       "          0.0690, -0.0051], device='mps:0', requires_grad=True))"
      ]
     },
     "execution_count": 63,
     "metadata": {},
     "output_type": "execute_result"
    }
   ],
   "source": [
    "wgt, bias = list_params[0], list_params[1]\n",
    "wgt, bias"
   ]
  },
  {
   "cell_type": "code",
   "execution_count": null,
   "metadata": {},
   "outputs": [],
   "source": [
    "optimizer = torch.optim.Adam()"
   ]
  }
 ],
 "metadata": {
  "kernelspec": {
   "display_name": "base",
   "language": "python",
   "name": "python3"
  },
  "language_info": {
   "codemirror_mode": {
    "name": "ipython",
    "version": 3
   },
   "file_extension": ".py",
   "mimetype": "text/x-python",
   "name": "python",
   "nbconvert_exporter": "python",
   "pygments_lexer": "ipython3",
   "version": "3.12.2"
  }
 },
 "nbformat": 4,
 "nbformat_minor": 2
}
