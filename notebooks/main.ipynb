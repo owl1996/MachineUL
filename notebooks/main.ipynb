{
 "cells": [
  {
   "cell_type": "code",
   "execution_count": 2,
   "metadata": {},
   "outputs": [
    {
     "data": {
      "text/plain": [
       "(device(type='mps'), 12)"
      ]
     },
     "execution_count": 2,
     "metadata": {},
     "output_type": "execute_result"
    }
   ],
   "source": [
    "import sys\n",
    "import os\n",
    "project_path = os.path.abspath('..')  # Chemin vers le dossier parent\n",
    "sys.path.append(project_path)\n",
    "from utils import loaders_by_classes, filter_loaders, balance, balanced_batch_size, submodel, get_activations\n",
    "from classNets import ConvNet, SondeNet\n",
    "\n",
    "import torch\n",
    "from torchvision import datasets, transforms\n",
    "import numpy as np\n",
    "import matplotlib.pyplot as plt\n",
    "\n",
    "if torch.backends.mps.is_available():\n",
    "    device = torch.device(\"mps\")\n",
    "elif torch.cuda.is_available():\n",
    "    device = torch.device(\"cuda\")\n",
    "else:\n",
    "    device = torch.device(\"cpu\")\n",
    "\n",
    "num_workers = os.cpu_count()\n",
    "\n",
    "device, num_workers"
   ]
  },
  {
   "cell_type": "code",
   "execution_count": null,
   "metadata": {},
   "outputs": [],
   "source": []
  },
  {
   "cell_type": "code",
   "execution_count": null,
   "metadata": {},
   "outputs": [],
   "source": [
    "model_all_class = torch.load('./models/all_class.pth', weights_only=False)"
   ]
  },
  {
   "cell_type": "markdown",
   "metadata": {},
   "source": [
    "# Choose class to unlearn"
   ]
  },
  {
   "cell_type": "code",
   "execution_count": null,
   "metadata": {},
   "outputs": [
    {
     "data": {
      "text/plain": [
       "ConvNet(\n",
       "  (conv1): Conv2d(1, 32, kernel_size=(3, 3), stride=(1, 1), padding=(1, 1))\n",
       "  (conv2): Conv2d(32, 64, kernel_size=(3, 3), stride=(1, 1), padding=(1, 1))\n",
       "  (conv2_drop): Dropout2d(p=0.25, inplace=False)\n",
       "  (fc1): Linear(in_features=3136, out_features=128, bias=True)\n",
       "  (fc2): Linear(in_features=128, out_features=9, bias=True)\n",
       ")"
      ]
     },
     "execution_count": 3,
     "metadata": {},
     "output_type": "execute_result"
    }
   ],
   "source": [
    "class_num = 7\n",
    "class_name = '7 - seven'\n",
    "model = submodel(model_all_class, class_num)\n",
    "model.to(device)\n",
    "model.eval()"
   ]
  },
  {
   "cell_type": "markdown",
   "metadata": {},
   "source": [
    "# Load Datasets"
   ]
  },
  {
   "cell_type": "code",
   "execution_count": null,
   "metadata": {},
   "outputs": [],
   "source": [
    "transform = transforms.Compose([\n",
    "    transforms.ToTensor(),  # Convert images to PyTorch tensors\n",
    "    transforms.Normalize((0,), (1,))  # Normalize images\n",
    "])\n",
    "\n",
    "train_set = datasets.MNIST(root='./data', train=True, download=True, transform=transform)\n",
    "test_set = datasets.MNIST(root='./data', train=False, download=True, transform=transform)"
   ]
  },
  {
   "cell_type": "code",
   "execution_count": null,
   "metadata": {},
   "outputs": [],
   "source": [
    "batch_size = 64\n",
    "train_loaders = loaders_by_classes(train_set, batch_size=batch_size, shuffle=True, num_workers=num_workers)\n",
    "test_loaders = loaders_by_classes(train_set, batch_size=batch_size, shuffle=True, num_workers=num_workers)"
   ]
  },
  {
   "cell_type": "code",
   "execution_count": null,
   "metadata": {},
   "outputs": [
    {
     "data": {
      "text/plain": [
       "{'0 - zero': <torch.utils.data.dataloader.DataLoader at 0x30e176db0>,\n",
       " '1 - one': <torch.utils.data.dataloader.DataLoader at 0x30e098710>,\n",
       " '2 - two': <torch.utils.data.dataloader.DataLoader at 0x30e197a40>,\n",
       " '3 - three': <torch.utils.data.dataloader.DataLoader at 0x30e283e90>,\n",
       " '4 - four': <torch.utils.data.dataloader.DataLoader at 0x30e283ef0>,\n",
       " '5 - five': <torch.utils.data.dataloader.DataLoader at 0x30e24a000>,\n",
       " '6 - six': <torch.utils.data.dataloader.DataLoader at 0x30e2a0a40>,\n",
       " '7 - seven': <torch.utils.data.dataloader.DataLoader at 0x30e2a11f0>,\n",
       " '8 - eight': <torch.utils.data.dataloader.DataLoader at 0x30e2a1070>,\n",
       " '9 - nine': <torch.utils.data.dataloader.DataLoader at 0x30e2a1220>}"
      ]
     },
     "execution_count": 6,
     "metadata": {},
     "output_type": "execute_result"
    }
   ],
   "source": [
    "loaders = train_loaders\n",
    "loaders"
   ]
  },
  {
   "cell_type": "code",
   "execution_count": null,
   "metadata": {},
   "outputs": [
    {
     "data": {
      "text/plain": [
       "484"
      ]
     },
     "execution_count": 7,
     "metadata": {},
     "output_type": "execute_result"
    }
   ],
   "source": [
    "blcd_batch_size = int(batch_size * balanced_batch_size(loaders, class_name))\n",
    "blcd_batch_size"
   ]
  },
  {
   "cell_type": "code",
   "execution_count": null,
   "metadata": {},
   "outputs": [],
   "source": [
    "forget_loader = loaders[class_name]\n",
    "retain_loader = filter_loaders(loaders, class_name, blcd_batch_size, shuffle=True, num_workers=num_workers)"
   ]
  },
  {
   "cell_type": "code",
   "execution_count": null,
   "metadata": {},
   "outputs": [
    {
     "data": {
      "text/plain": [
       "tensor(0.0225, device='mps:0', grad_fn=<NllLossBackward0>)"
      ]
     },
     "execution_count": 9,
     "metadata": {},
     "output_type": "execute_result"
    }
   ],
   "source": [
    "retain_input = next(iter(retain_loader))\n",
    "r_input_tensor, r_label_tensor = retain_input[0].to(device), retain_input[1].to(device)\n",
    "forget_input = next(iter(forget_loader))\n",
    "f_input_tensor, f_label_tensor = forget_input[0].to(device), forget_input[1].to(device)\n",
    "criterion = torch.nn.CrossEntropyLoss()\n",
    "\n",
    "r_label_tensor = r_label_tensor - 1 * (r_label_tensor > class_num)\n",
    "loss = criterion(model(r_input_tensor), r_label_tensor)\n",
    "loss"
   ]
  },
  {
   "cell_type": "code",
   "execution_count": null,
   "metadata": {},
   "outputs": [],
   "source": [
    "def get_softmax(model, n_batch = 10):\n",
    "    \"\"\"\n",
    "    Get rpz of forget wrt to retain\n",
    "    Just at the init\n",
    "    \"\"\"\n",
    "    softmax = 0\n",
    "    for i_batch in range(n_batch):\n",
    "        input_tensor = next(iter(forget_loader))\n",
    "        softmax += torch.exp(model(input_tensor[0].to(device)))\n",
    "    softmax = softmax / n_batch\n",
    "    return softmax.mean(dim=0)\n",
    "\n",
    "def convex_target(softmax, activations, labels):\n",
    "    \"\"\"\n",
    "    softmax : from forget rpz wrt to retain\n",
    "    activations : residues of retain\n",
    "    \"\"\"\n",
    "    target = 0\n",
    "    activations_dict = {}\n",
    "    for idx, _label in enumerate(labels):\n",
    "        label = int(_label.item())\n",
    "        if label not in activations_dict.keys():\n",
    "            activations_dict[label] = {}\n",
    "            activations_dict[label]['activation'] = activations[idx, :].clone()\n",
    "            activations_dict[label]['count'] = 1\n",
    "        else:\n",
    "            activations_dict[label]['activation'] += activations[idx, :]\n",
    "            activations_dict[label]['count'] += 1\n",
    "\n",
    "    for key, dval in activations_dict.items():\n",
    "        ikey = key - 1 * (key > class_num)\n",
    "        target += softmax[ikey] * dval['activation'] / dval['count']\n",
    "    \n",
    "    return target\n",
    "\n",
    "def masked_grads(forget_grads, retain_grads, Masks):\n",
    "    masks = []\n",
    "    m_grads = []\n",
    "    for idx_param, f_grad in enumerate(forget_grads):\n",
    "        r_grad = retain_grads[idx_param]\n",
    "        mask = f_grad * r_grad > 0\n",
    "        if len(Masks) <= idx_param:\n",
    "            masks.append(mask)\n",
    "        else:\n",
    "            masks.append(mask * Masks[idx_param])\n",
    "        # /!\\/!\\/!\\\n",
    "        # Formule du gradient pour la descente\n",
    "        m_grad = masks[idx_param] * f_grad * torch.abs(r_grad)\n",
    "        # /!\\/!\\/!\\\n",
    "        m_grads.append(m_grad)\n",
    "    return m_grads, masks\n",
    "\n",
    "def update_param(model, forget_grads, retain_grads, Masks = []):\n",
    "    m_grads, masks = masked_grads(forget_grads, retain_grads, Masks)\n",
    "    max_perc_param = 0.\n",
    "    for idx_param, param in enumerate(model.parameters()):\n",
    "        param.grad = m_grads[idx_param]\n",
    "        perc_param = 100 * torch.sum(param.grad > 0)/torch.tensor(param.size()).prod()\n",
    "        if perc_param > max_perc_param:\n",
    "            max_perc_param = perc_param\n",
    "    return max_perc_param, masks\n",
    "\n",
    "def get_grads(model, softmax, forget_input, retain_input, device=device, verbose=False):\n",
    "    r_input_tensor, r_label_tensor = retain_input[0].to(device), retain_input[1].to(device)\n",
    "    # Attention !\n",
    "    # On a retiré une classe\n",
    "    r_label_tensor = r_label_tensor - 1 * (r_label_tensor > class_num)\n",
    "    # ^^^ /!\\ ^^^\n",
    "    f_input_tensor, _ = forget_input[0].to(device), forget_input[1].to(device)\n",
    "\n",
    "    # get r_grads\n",
    "    model.zero_grad()\n",
    "    r_input_tensor.requires_grad = True\n",
    "    retain_dict = get_activations(model, r_input_tensor, -1, verbose=verbose)\n",
    "\n",
    "    criterion = torch.nn.CrossEntropyLoss()\n",
    "    loss = criterion(retain_dict['output'], r_label_tensor)\n",
    "    loss.backward()\n",
    "\n",
    "    r_grads = []\n",
    "    for param in model.parameters():\n",
    "        r_grads.append(param.grad)\n",
    "\n",
    "    # get f_grads\n",
    "    model.zero_grad()\n",
    "    f_input_tensor.requires_grad = True\n",
    "    forget_dict = get_activations(model, f_input_tensor, -1, verbose=verbose)\n",
    "\n",
    "    r_activations = retain_dict['activations'].detach()\n",
    "    target = convex_target(softmax, r_activations, r_label_tensor)\n",
    "\n",
    "    criterion = torch.nn.MSELoss()\n",
    "    loss = criterion(torch.mean(forget_dict['activations'], dim=0), target)\n",
    "    loss.backward()\n",
    "\n",
    "    f_grads = []\n",
    "    for param in model.parameters():\n",
    "        f_grads.append(param.grad)\n",
    "    \n",
    "    return f_grads, r_grads\n",
    "\n",
    "def unlearn_step(model, softmax, forget_input, retain_input, optimizer, device=device, Masks=[]):\n",
    "    optimizer.zero_grad()\n",
    "    f_grads, r_grads = get_grads(model, softmax, forget_input, retain_input, verbose=False)\n",
    "    max_perc_param, masks = update_param(model, f_grads, r_grads, Masks=Masks)\n",
    "    optimizer.step()\n",
    "    return max_perc_param, masks\n",
    "\n",
    "def untrain(model, softmax, device, forget_loader, retain_loader, optimizer, epochs=1, tau=0.):\n",
    "    for epoch in range(epochs):\n",
    "        masks=[]\n",
    "        forget_iter_loader = iter(forget_loader)\n",
    "        for batch_idx, retain_input in enumerate(retain_loader):\n",
    "            try:\n",
    "                forget_input = next(forget_iter_loader)\n",
    "            except:\n",
    "                break\n",
    "            max_perc_param, masks = unlearn_step(model, softmax, forget_input, retain_input, optimizer, device=device, Masks=masks)\n",
    "            if max_perc_param == 0.:\n",
    "                break\n",
    "            if batch_idx % 10 == 0:\n",
    "                print(max_perc_param)\n",
    "                print(f'{batch_idx} / {len(retain_loader)}')\n",
    "            if batch_idx == None:\n",
    "                break\n",
    "        print(max_perc_param)"
   ]
  },
  {
   "cell_type": "code",
   "execution_count": null,
   "metadata": {},
   "outputs": [
    {
     "data": {
      "image/png": "[encoded data removed]",
      "text/plain": [
       "<Figure size 640x480 with 1 Axes>"
      ]
     },
     "metadata": {},
     "output_type": "display_data"
    }
   ],
   "source": [
    "\n",
    "softmax = get_softmax(model).detach()\n",
    "plt.title(f'Representation of class {class_name}')\n",
    "tx = np.arange(10)\n",
    "tx = np.concatenate([tx[:class_num],tx[1+class_num:]])\n",
    "# Création du graphique\n",
    "plt.title(f'Representation of class {class_name}', fontsize=14)\n",
    "ty = softmax.cpu().numpy()\n",
    "plt.plot(tx, ty, marker='o', label='Classes')\n",
    "\n",
    "# Annotation des points\n",
    "for i, (x, y) in enumerate(zip(tx, ty)):\n",
    "    plt.text(x, y + 0.01, f'{y:.2f}', ha='center', fontsize=10)\n",
    "\n",
    "# Ajout des axes et personnalisation\n",
    "plt.xlabel(\"Classes\", fontsize=12)\n",
    "plt.ylabel(\"Softmax Value\", fontsize=12)\n",
    "plt.grid(alpha=0.3)\n",
    "plt.xticks(tx)\n",
    "plt.tight_layout()\n",
    "plt.show()"
   ]
  },
  {
   "cell_type": "code",
   "execution_count": null,
   "metadata": {},
   "outputs": [
    {
     "name": "stdout",
     "output_type": "stream",
     "text": [
      "tensor(43.7500, device='mps:0')\n",
      "0 / 112\n",
      "tensor(0.1790, device='mps:0')\n",
      "10 / 112\n",
      "0.0\n",
      "tensor(19.6506, device='mps:0')\n",
      "0 / 112\n",
      "tensor(0.0868, device='mps:0')\n",
      "10 / 112\n",
      "0.0\n",
      "tensor(45.3125, device='mps:0')\n",
      "0 / 112\n",
      "tensor(0.1736, device='mps:0')\n",
      "10 / 112\n",
      "tensor(0.0002, device='mps:0')\n",
      "20 / 112\n",
      "0.0\n",
      "tensor(38.1944, device='mps:0')\n",
      "0 / 112\n",
      "tensor(0.0326, device='mps:0')\n",
      "10 / 112\n",
      "0.0\n",
      "tensor(32.5304, device='mps:0')\n",
      "0 / 112\n",
      "tensor(0.3906, device='mps:0')\n",
      "10 / 112\n",
      "0.0\n",
      "tensor(35.9375, device='mps:0')\n",
      "0 / 112\n",
      "tensor(0.2116, device='mps:0')\n",
      "10 / 112\n",
      "tensor(0.0005, device='mps:0')\n",
      "20 / 112\n",
      "0.0\n",
      "tensor(34.1309, device='mps:0')\n",
      "0 / 112\n",
      "tensor(0.1519, device='mps:0')\n",
      "10 / 112\n",
      "tensor(0.0760, device='mps:0')\n",
      "20 / 112\n",
      "0.0\n",
      "tensor(35.9375, device='mps:0')\n",
      "0 / 112\n",
      "tensor(0.3472, device='mps:0')\n",
      "10 / 112\n",
      "tensor(0.0054, device='mps:0')\n",
      "20 / 112\n",
      "0.0\n",
      "tensor(26.6819, device='mps:0')\n",
      "0 / 112\n",
      "tensor(0.4991, device='mps:0')\n",
      "10 / 112\n",
      "tensor(0.0434, device='mps:0')\n",
      "20 / 112\n",
      "0.0\n",
      "tensor(26.5625, device='mps:0')\n",
      "0 / 112\n",
      "tensor(0.4937, device='mps:0')\n",
      "10 / 112\n",
      "0.0\n"
     ]
    }
   ],
   "source": [
    "optimizer = torch.optim.Adam(model.parameters(), lr=0.0001)\n",
    "untrain(model, softmax, device, forget_loader, retain_loader, optimizer, epochs = 10)"
   ]
  },
  {
   "cell_type": "code",
   "execution_count": null,
   "metadata": {},
   "outputs": [
    {
     "data": {
      "text/plain": [
       "tensor([[1.5859e-07, 1.3565e-10, 1.0867e-06,  ..., 4.2555e-07, 1.0000e+00,\n",
       "         1.9279e-11],\n",
       "        [9.2862e-03, 1.5424e-03, 6.1453e-07,  ..., 9.8796e-01, 6.7983e-04,\n",
       "         2.5578e-07],\n",
       "        [9.3557e-08, 9.9997e-01, 1.9880e-05,  ..., 1.3859e-06, 2.6101e-06,\n",
       "         2.4812e-09],\n",
       "        ...,\n",
       "        [3.4308e-08, 1.6650e-07, 8.2612e-09,  ..., 1.7321e-09, 8.9984e-04,\n",
       "         9.9587e-01],\n",
       "        [6.3321e-08, 4.1278e-10, 7.7174e-07,  ..., 7.3159e-09, 1.0000e+00,\n",
       "         4.5935e-09],\n",
       "        [1.1648e-09, 7.4018e-08, 2.2281e-07,  ..., 1.0666e-10, 2.1353e-04,\n",
       "         6.7996e-05]], device='mps:0', grad_fn=<ExpBackward0>)"
      ]
     },
     "execution_count": 13,
     "metadata": {},
     "output_type": "execute_result"
    }
   ],
   "source": [
    "torch.exp(model(r_input_tensor))"
   ]
  },
  {
   "cell_type": "code",
   "execution_count": null,
   "metadata": {},
   "outputs": [
    {
     "name": "stdout",
     "output_type": "stream",
     "text": [
      "previous loss : 0.02251450903713703\n",
      "unlearned model loss : 0.027320783585309982\n"
     ]
    }
   ],
   "source": [
    "print(f'previous loss : {loss}')\n",
    "loss = criterion(model(r_input_tensor), r_label_tensor)\n",
    "print(f'unlearned model loss : {loss}')"
   ]
  },
  {
   "cell_type": "markdown",
   "metadata": {},
   "source": [
    "# Sonde Attack"
   ]
  },
  {
   "cell_type": "code",
   "execution_count": null,
   "metadata": {},
   "outputs": [
    {
     "data": {
      "text/plain": [
       "SondeNet(\n",
       "  (fc1): Linear(in_features=128, out_features=256, bias=True)\n",
       "  (fc2): Linear(in_features=256, out_features=10, bias=True)\n",
       "  (fc3): Linear(in_features=10, out_features=1, bias=True)\n",
       ")"
      ]
     },
     "execution_count": 15,
     "metadata": {},
     "output_type": "execute_result"
    }
   ],
   "source": [
    "sondeNet = SondeNet()\n",
    "sondeNet.to(device)\n",
    "sondeNet"
   ]
  },
  {
   "cell_type": "code",
   "execution_count": null,
   "metadata": {},
   "outputs": [
    {
     "data": {
      "text/plain": [
       "{'0 - zero': <torch.utils.data.dataloader.DataLoader at 0x30e2a1250>,\n",
       " '1 - one': <torch.utils.data.dataloader.DataLoader at 0x30e2a13a0>,\n",
       " '2 - two': <torch.utils.data.dataloader.DataLoader at 0x30e2a12e0>,\n",
       " '3 - three': <torch.utils.data.dataloader.DataLoader at 0x30e2a14f0>,\n",
       " '4 - four': <torch.utils.data.dataloader.DataLoader at 0x30e2a15b0>,\n",
       " '5 - five': <torch.utils.data.dataloader.DataLoader at 0x30e2a1670>,\n",
       " '6 - six': <torch.utils.data.dataloader.DataLoader at 0x30e2a1730>,\n",
       " '7 - seven': <torch.utils.data.dataloader.DataLoader at 0x30e2a17f0>,\n",
       " '8 - eight': <torch.utils.data.dataloader.DataLoader at 0x30e2a18b0>,\n",
       " '9 - nine': <torch.utils.data.dataloader.DataLoader at 0x30e2a1970>}"
      ]
     },
     "execution_count": 16,
     "metadata": {},
     "output_type": "execute_result"
    }
   ],
   "source": [
    "loaders = test_loaders\n",
    "loaders"
   ]
  },
  {
   "cell_type": "markdown",
   "metadata": {},
   "source": [
    "# Create SondeNet Loader"
   ]
  },
  {
   "cell_type": "code",
   "execution_count": null,
   "metadata": {},
   "outputs": [
    {
     "data": {
      "text/plain": [
       "ConvNet(\n",
       "  (conv1): Conv2d(1, 32, kernel_size=(3, 3), stride=(1, 1), padding=(1, 1))\n",
       "  (conv2): Conv2d(32, 64, kernel_size=(3, 3), stride=(1, 1), padding=(1, 1))\n",
       "  (conv2_drop): Dropout2d(p=0.25, inplace=False)\n",
       "  (fc1): Linear(in_features=3136, out_features=128, bias=True)\n",
       "  (fc2): Linear(in_features=128, out_features=9, bias=True)\n",
       ")"
      ]
     },
     "execution_count": 17,
     "metadata": {},
     "output_type": "execute_result"
    }
   ],
   "source": [
    "model"
   ]
  },
  {
   "cell_type": "code",
   "execution_count": null,
   "metadata": {},
   "outputs": [
    {
     "data": {
      "text/plain": [
       "ConvNet(\n",
       "  (conv1): Conv2d(1, 32, kernel_size=(3, 3), stride=(1, 1), padding=(1, 1))\n",
       "  (conv2): Conv2d(32, 64, kernel_size=(3, 3), stride=(1, 1), padding=(1, 1))\n",
       "  (conv2_drop): Dropout2d(p=0.25, inplace=False)\n",
       "  (fc1): Linear(in_features=3136, out_features=128, bias=True)\n",
       "  (fc2): Linear(in_features=128, out_features=9, bias=True)\n",
       ")"
      ]
     },
     "execution_count": 19,
     "metadata": {},
     "output_type": "execute_result"
    }
   ],
   "source": [
    "model_no_ = torch.load('./models/no_7 - seven.pth', weights_only=False)\n",
    "class_num = 7\n",
    "class_name = '7 - seven'\n",
    "model_no_seven = submodel(model_no_, class_num)\n",
    "model_no_seven.to(device)\n",
    "model_no_seven.eval()"
   ]
  },
  {
   "cell_type": "code",
   "execution_count": null,
   "metadata": {},
   "outputs": [],
   "source": [
    "import torch\n",
    "from torch.utils.data import DataLoader, Dataset\n",
    "\n",
    "forget_loader = loaders[class_name]\n",
    "retain_loader = filter_loaders(loaders, class_name, batch_size, shuffle=True, num_workers=num_workers)\n",
    "\n",
    "def sonde_activations(model, data, device=device):\n",
    "    input = data[0].to(device)\n",
    "    return get_activations(model, input, layer_num=-2, verbose=False)['activations']\n",
    "\n",
    "# Fonction pour appliquer my_func et associer les labels\n",
    "def create_combined_dataset(model, forget_loader, retain_loader, my_func):\n",
    "    combined_data = []\n",
    "    combined_labels = []\n",
    "\n",
    "    # Process data from forget_loader\n",
    "    n = 0\n",
    "    for data in forget_loader:\n",
    "        with torch.no_grad():\n",
    "            processed_data = my_func(model, data)\n",
    "        combined_data.append(processed_data)\n",
    "        combined_labels.append(torch.ones(len(processed_data)))  # Label 1 for forget_loader\n",
    "        n += 1\n",
    "\n",
    "    # Process data from retain_loader\n",
    "    for i, data in enumerate(retain_loader):\n",
    "        with torch.no_grad():\n",
    "            processed_data = my_func(model, data)\n",
    "        combined_data.append(processed_data)\n",
    "        combined_labels.append(torch.zeros(len(processed_data)))  # Label 0 for retain_loader\n",
    "        if i == n-1:\n",
    "            break\n",
    "\n",
    "    # Flatten lists and convert to tensors\n",
    "    combined_data = torch.cat(combined_data)\n",
    "    combined_labels = torch.cat(combined_labels)\n",
    "\n",
    "    return torch.utils.data.TensorDataset(combined_data, combined_labels)\n",
    "\n",
    "# Création du DataLoader combiné\n",
    "def create_combined_dataloader(model, forget_loader, retain_loader, my_func, batch_size, shuffle=True, num_workers=0):\n",
    "    combined_dataset = create_combined_dataset(model, forget_loader, retain_loader, my_func)\n",
    "    return DataLoader(combined_dataset, batch_size=batch_size, shuffle=shuffle, num_workers=num_workers)\n",
    "\n",
    "# Exemple d'utilisation\n",
    "# forget_loader et retain_loader doivent déjà être définis\n",
    "# my_func doit être une fonction prenant des données en entrée et retournant des données transformées\n",
    "batch_size = 32\n",
    "num_workers = 4\n",
    "sonde_loader = create_combined_dataloader(\n",
    "    model=model_no_seven,\n",
    "    forget_loader=forget_loader,\n",
    "    retain_loader=retain_loader,\n",
    "    my_func=sonde_activations,\n",
    "    batch_size=batch_size,\n",
    "    shuffle=True,\n",
    "    num_workers=0\n",
    ")"
   ]
  },
  {
   "cell_type": "code",
   "execution_count": null,
   "metadata": {},
   "outputs": [],
   "source": []
  },
  {
   "cell_type": "code",
   "execution_count": null,
   "metadata": {},
   "outputs": [
    {
     "name": "stderr",
     "output_type": "stream",
     "text": [
      "Epoch 1/5: 100%|██████████| 294/294 [00:00<00:00, 977.88it/s]\n"
     ]
    },
    {
     "name": "stdout",
     "output_type": "stream",
     "text": [
      "Epoch 1/5 - Loss: 0.0221 - Accuracy: 97.18%\n"
     ]
    },
    {
     "name": "stderr",
     "output_type": "stream",
     "text": [
      "Epoch 2/5: 100%|██████████| 294/294 [00:00<00:00, 1082.43it/s]\n"
     ]
    },
    {
     "name": "stdout",
     "output_type": "stream",
     "text": [
      "Epoch 2/5 - Loss: 0.0085 - Accuracy: 98.94%\n"
     ]
    },
    {
     "name": "stderr",
     "output_type": "stream",
     "text": [
      "Epoch 3/5: 100%|██████████| 294/294 [00:00<00:00, 1033.94it/s]\n"
     ]
    },
    {
     "name": "stdout",
     "output_type": "stream",
     "text": [
      "Epoch 3/5 - Loss: 0.0079 - Accuracy: 98.99%\n"
     ]
    },
    {
     "name": "stderr",
     "output_type": "stream",
     "text": [
      "Epoch 4/5: 100%|██████████| 294/294 [00:00<00:00, 1092.51it/s]\n"
     ]
    },
    {
     "name": "stdout",
     "output_type": "stream",
     "text": [
      "Epoch 4/5 - Loss: 0.0057 - Accuracy: 99.18%\n"
     ]
    },
    {
     "name": "stderr",
     "output_type": "stream",
     "text": [
      "Epoch 5/5: 100%|██████████| 294/294 [00:00<00:00, 1092.24it/s]"
     ]
    },
    {
     "name": "stdout",
     "output_type": "stream",
     "text": [
      "Epoch 5/5 - Loss: 0.0050 - Accuracy: 99.37%\n",
      "Entraînement terminé.\n"
     ]
    },
    {
     "name": "stderr",
     "output_type": "stream",
     "text": [
      "\n"
     ]
    }
   ],
   "source": [
    "import torch\n",
    "import torch.nn as nn\n",
    "import torch.optim as optim\n",
    "from tqdm import tqdm\n",
    "\n",
    "# Définition de la fonction d'entraînement\n",
    "def train_sondeNet(model, dataloader, criterion, optimizer, device, num_epochs=5):\n",
    "    model = model.to(device)  # Envoyer le modèle sur l'appareil (CPU ou GPU)\n",
    "    model.train()  # Mettre le modèle en mode entraînement\n",
    "    \n",
    "    for epoch in range(num_epochs):\n",
    "        running_loss = 0.0\n",
    "        correct = 0\n",
    "        total = 0\n",
    "\n",
    "        # Boucle sur le DataLoader\n",
    "        for inputs, labels in tqdm(dataloader, desc=f\"Epoch {epoch+1}/{num_epochs}\"):\n",
    "            inputs, labels = inputs.to(device), labels.to(device)\n",
    "\n",
    "            # Réinitialiser les gradients\n",
    "            optimizer.zero_grad()\n",
    "\n",
    "            # Forward pass\n",
    "            outputs = model(inputs).squeeze()  # Assurez-vous que la sortie est de la bonne forme\n",
    "            loss = criterion(outputs, labels)\n",
    "\n",
    "            # Backward pass et mise à jour des poids\n",
    "            loss.backward()\n",
    "            optimizer.step()\n",
    "\n",
    "            # Calcul des métriques\n",
    "            running_loss += loss.item()\n",
    "            predicted = (outputs > 0.5).float()  # Seuil pour prédire 0 ou 1\n",
    "            correct += (predicted == labels).sum().item()\n",
    "            total += labels.size(0)\n",
    "\n",
    "        # Affichage des statistiques d'entraînement\n",
    "        accuracy = 100 * correct / total\n",
    "        print(f\"Epoch {epoch+1}/{num_epochs} - Loss: {running_loss/len(dataloader):.4f} - Accuracy: {accuracy:.2f}%\")\n",
    "\n",
    "    print(\"Entraînement terminé.\")\n",
    "\n",
    "# Préparation du modèle, de la fonction de perte et de l'optimiseur\n",
    "device = torch.device(\"cuda\" if torch.cuda.is_available() else \"cpu\")\n",
    "sondeNet = sondeNet.to(device)  # Assurez-vous que votre modèle `sondeNet` est correctement défini\n",
    "criterion = nn.MSELoss()  # Perte binaire pour les sorties scalaires entre 0 et 1\n",
    "optimizer = optim.Adam(sondeNet.parameters(), lr=0.001)\n",
    "\n",
    "# Lancer l'entraînement\n",
    "train_sondeNet(sondeNet, sonde_loader, criterion, optimizer, device, num_epochs=5)"
   ]
  },
  {
   "cell_type": "code",
   "execution_count": null,
   "metadata": {},
   "outputs": [
    {
     "data": {
      "text/plain": [
       "tensor([[9.9997e-01],\n",
       "        [9.9995e-01],\n",
       "        [9.9988e-01],\n",
       "        [1.1254e-08],\n",
       "        [9.9996e-01],\n",
       "        [9.9986e-01],\n",
       "        [9.9996e-01],\n",
       "        [9.9989e-01],\n",
       "        [9.9999e-01],\n",
       "        [6.7562e-05],\n",
       "        [9.9994e-01],\n",
       "        [5.7248e-02],\n",
       "        [5.1010e-07],\n",
       "        [5.1280e-04],\n",
       "        [9.9843e-01],\n",
       "        [9.9781e-01],\n",
       "        [9.9981e-01],\n",
       "        [1.1888e-03],\n",
       "        [9.9994e-01],\n",
       "        [2.1434e-07],\n",
       "        [9.9997e-01],\n",
       "        [5.4119e-04],\n",
       "        [2.6281e-02],\n",
       "        [9.9990e-01],\n",
       "        [9.9993e-01],\n",
       "        [9.9999e-01],\n",
       "        [9.8229e-01],\n",
       "        [1.0000e+00],\n",
       "        [9.9995e-01],\n",
       "        [9.9999e-01],\n",
       "        [9.9997e-01],\n",
       "        [1.7024e-01]], grad_fn=<SigmoidBackward0>)"
      ]
     },
     "execution_count": 22,
     "metadata": {},
     "output_type": "execute_result"
    }
   ],
   "source": [
    "# output of sondeNet\n",
    "data = next(iter(sonde_loader))\n",
    "input_tensor, label_tensor = data[0].to(device), data[1].to(device)\n",
    "output_tensor = sondeNet(input_tensor)\n",
    "output_tensor"
   ]
  },
  {
   "cell_type": "code",
   "execution_count": null,
   "metadata": {},
   "outputs": [],
   "source": [
    "from MIA import MIA"
   ]
  },
  {
   "cell_type": "code",
   "execution_count": null,
   "metadata": {},
   "outputs": [],
   "source": [
    "\n",
    "\n",
    "retain_loader_train = filter_loaders(train_loaders, class_name, blcd_batch_size, shuffle=True, num_workers=num_workers)\n",
    "retain_loader_test = filter_loaders(train_loaders, class_name, blcd_batch_size, shuffle=True, num_workers=num_workers)\n",
    "forget_loader = train_loaders[class_name]\n",
    "test_loader = test_loaders[class_name]"
   ]
  },
  {
   "cell_type": "code",
   "execution_count": null,
   "metadata": {},
   "outputs": [
    {
     "data": {
      "text/plain": [
       "tensor([[-1.2840e+01, -9.3497e-01, -3.4790e+00, -9.9765e-01, -3.8078e+00,\n",
       "         -8.0533e+00, -1.4141e+01, -6.5656e+00, -1.6934e+00],\n",
       "        [-1.0131e+01, -6.1081e+00, -9.6205e-01, -6.0457e-01, -8.8311e+00,\n",
       "         -1.2513e+01, -1.9205e+01, -7.9562e+00, -2.6763e+00],\n",
       "        [-9.2549e+00, -2.9199e+00, -4.4353e-01, -2.3269e+00, -3.5900e+00,\n",
       "         -9.8361e+00, -1.3507e+01, -4.9451e+00, -1.7612e+00],\n",
       "        [-9.0292e+00, -3.5210e+00, -6.7557e-02, -3.4083e+00, -1.4734e+01,\n",
       "         -1.1903e+01, -1.8423e+01, -6.1598e+00, -7.7794e+00],\n",
       "        [-1.0147e+01, -4.7987e+00, -3.6827e+00, -8.9919e-01, -3.7961e+00,\n",
       "         -9.0383e+00, -1.5711e+01, -9.3950e+00, -6.2175e-01],\n",
       "        [-1.0297e+01, -7.3394e+00, -1.6268e-02, -5.0318e+00, -2.1615e+01,\n",
       "         -1.3947e+01, -2.0385e+01, -4.7203e+00, -1.1257e+01],\n",
       "        [-1.6751e+01, -4.2824e+00, -2.7923e+00, -4.2472e-01, -1.4482e+00,\n",
       "         -9.8735e+00, -1.2741e+01, -3.3360e+00, -7.9891e+00],\n",
       "        [-3.2651e+00, -8.7481e+00, -5.9322e-01, -9.4177e-01, -1.3777e+01,\n",
       "         -1.1327e+01, -1.7427e+01, -8.8434e+00, -3.9630e+00],\n",
       "        [-1.0802e+01, -3.0160e+00, -5.1251e-01, -1.1363e+00, -9.7218e+00,\n",
       "         -1.0225e+01, -1.6037e+01, -3.5172e+00, -6.7118e+00],\n",
       "        [-2.0852e+00, -7.0906e+00, -6.0184e+00, -6.5051e+00, -6.6932e+00,\n",
       "         -3.1707e+00, -7.6000e+00, -1.3687e+00, -5.5721e-01],\n",
       "        [-1.7659e+01, -2.9135e+00, -3.8728e+00, -8.4430e-02, -5.6486e+00,\n",
       "         -1.1333e+01, -1.6549e+01, -7.2078e+00, -6.4372e+00],\n",
       "        [-8.2449e+00, -4.8132e+00, -2.9069e+00, -1.3980e+00, -7.6962e+00,\n",
       "         -5.4774e+00, -1.3847e+01, -2.8732e+00, -4.6405e-01],\n",
       "        [-1.2336e+01, -3.3126e+00, -1.5385e+00, -2.9601e-01, -1.5051e+01,\n",
       "         -9.9967e+00, -1.8158e+01, -5.3203e+00, -8.8168e+00],\n",
       "        [-1.1468e+01, -3.6878e+00, -1.8351e+00, -2.2268e-01, -1.0478e+01,\n",
       "         -9.5965e+00, -1.8779e+01, -5.7904e+00, -4.4368e+00],\n",
       "        [-1.2731e+01, -3.1233e+00, -4.6340e+00, -1.2563e+00, -3.3410e+00,\n",
       "         -1.0428e+01, -1.6350e+01, -6.5617e+00, -4.7044e-01],\n",
       "        [-4.6054e+00, -5.8902e+00, -5.2476e+00, -8.2907e-01, -4.9066e+00,\n",
       "         -3.5329e+00, -1.0203e+01, -6.3271e+00, -6.7909e-01],\n",
       "        [-6.5623e+00, -1.6264e+00, -2.9683e+00, -1.2689e+00, -5.1142e+00,\n",
       "         -5.2399e+00, -1.1550e+01, -4.6042e+00, -8.0277e-01],\n",
       "        [-1.3896e+01, -6.3827e-03, -8.5518e+00, -5.1914e+00, -1.2429e+01,\n",
       "         -1.1221e+01, -1.2899e+01, -7.5937e+00, -9.4270e+00],\n",
       "        [-9.4910e+00, -6.7859e-01, -1.8830e+00, -1.8643e+00, -6.6698e+00,\n",
       "         -4.3006e+00, -1.2748e+01, -2.2443e+00, -2.7392e+00],\n",
       "        [-1.3723e+01, -4.4903e-02, -3.3155e+00, -4.9064e+00, -1.2108e+01,\n",
       "         -1.2486e+01, -1.5267e+01, -8.7241e+00, -1.0696e+01],\n",
       "        [-9.9214e+00, -8.1692e+00, -3.3029e+00, -3.7608e+00, -5.9952e+00,\n",
       "         -1.3161e+01, -1.8896e+01, -1.0542e+01, -6.4959e-02],\n",
       "        [-1.0401e+01, -3.1984e+00, -1.6908e+00, -4.4815e-01, -6.9830e+00,\n",
       "         -8.5565e+00, -1.5834e+01, -3.9757e+00, -2.1536e+00],\n",
       "        [-1.2724e+01, -6.8484e+00, -1.2319e+01, -7.1735e+00, -2.0037e-01,\n",
       "         -7.6540e+00, -1.2208e+01, -9.1671e+00, -1.7195e+00],\n",
       "        [-1.2858e+01, -8.6886e+00, -1.0523e+01, -5.2867e-01, -8.3663e+00,\n",
       "         -8.9449e-01, -8.1769e+00, -7.0404e+00, -8.4914e+00],\n",
       "        [-8.2389e+00, -7.3016e+00, -2.9784e+00, -5.3273e-01, -5.3178e+00,\n",
       "         -7.3590e+00, -1.5755e+01, -5.7413e+00, -1.0429e+00],\n",
       "        [-1.2364e+01, -7.3542e+00, -6.5875e+00, -3.6090e+00, -2.8907e+00,\n",
       "         -9.7779e+00, -1.6497e+01, -9.4449e+00, -8.8584e-02],\n",
       "        [-6.1792e-01, -5.0411e+00, -6.2342e+00, -3.2228e+00, -2.0291e+00,\n",
       "         -2.6904e+00, -5.3310e+00, -7.1770e+00, -1.5714e+00],\n",
       "        [-9.6978e+00, -6.1064e+00, -1.2447e+01, -9.8225e+00, -5.6415e+00,\n",
       "         -6.2427e+00, -1.2165e+01, -6.8190e+00, -8.9785e-03],\n",
       "        [-1.5305e+01, -4.8264e+00, -1.0261e+01, -2.6326e+00, -2.3163e-01,\n",
       "         -2.4161e+00, -1.1058e+01, -7.1467e+00, -3.3037e+00],\n",
       "        [-4.6982e+00, -5.4911e+00, -4.9915e+00, -3.6776e+00, -6.7555e+00,\n",
       "         -4.9072e+00, -1.1794e+01, -5.9466e+00, -5.8152e-02],\n",
       "        [-1.1101e+01, -2.6862e+00, -2.8007e+00, -5.8151e-01, -3.0359e+00,\n",
       "         -9.9256e+00, -1.5534e+01, -8.6555e+00, -1.3327e+00],\n",
       "        [-1.1125e+01, -1.3972e+00, -2.3541e+00, -4.3557e-01, -1.2021e+01,\n",
       "         -1.0652e+01, -1.7662e+01, -5.7779e+00, -4.8674e+00],\n",
       "        [-5.6768e+00, -3.2638e+00, -9.9219e+00, -7.8156e+00, -3.4094e-01,\n",
       "         -2.3135e+00, -7.0918e+00, -7.6596e+00, -1.9203e+00],\n",
       "        [-1.9468e+01, -1.6614e+00, -9.4682e+00, -5.6414e+00, -2.3797e-01,\n",
       "         -7.2971e+00, -1.5557e+01, -6.1699e+00, -4.1664e+00],\n",
       "        [-3.0354e+00, -4.4892e+00, -6.4351e+00, -5.1559e+00, -3.6808e+00,\n",
       "         -4.2645e+00, -9.7765e+00, -7.9614e+00, -1.1241e-01],\n",
       "        [-2.9119e+00, -6.0989e+00, -9.6675e+00, -2.7878e+00, -3.9163e+00,\n",
       "         -2.0827e+00, -6.7489e+00, -7.0206e+00, -3.0763e-01],\n",
       "        [-1.1504e+01, -8.3737e-01, -2.8807e+00, -6.8333e-01, -8.6801e+00,\n",
       "         -1.0304e+01, -1.4321e+01, -7.3240e+00, -5.2503e+00],\n",
       "        [-1.1441e+01, -4.9169e+00, -3.8302e+00, -2.4419e-01, -5.6740e+00,\n",
       "         -5.8840e+00, -1.2889e+01, -2.4763e+00, -2.3294e+00],\n",
       "        [-7.2733e+00, -4.4930e-01, -4.8858e+00, -2.9186e+00, -4.6218e+00,\n",
       "         -4.4210e+00, -1.0266e+01, -5.4351e+00, -1.2967e+00],\n",
       "        [-1.9210e+01, -4.5448e+00, -1.3549e+00, -3.2631e-01, -4.8961e+00,\n",
       "         -1.1419e+01, -1.8448e+01, -6.9738e+00, -6.5683e+00],\n",
       "        [-1.0117e+01, -4.1537e+00, -2.0513e+00, -6.3576e-01, -6.5187e+00,\n",
       "         -1.0775e+01, -1.6578e+01, -7.7909e+00, -1.1263e+00],\n",
       "        [-1.0578e+01, -7.5249e-01, -2.0343e+00, -9.8561e-01, -8.9486e+00,\n",
       "         -9.9464e+00, -1.3662e+01, -6.9588e+00, -3.7437e+00],\n",
       "        [-1.1905e+01, -6.2514e+00, -1.7770e-02, -4.5602e+00, -1.4400e+01,\n",
       "         -1.1687e+01, -1.9893e+01, -5.2823e+00, -8.9521e+00],\n",
       "        [-1.3671e+01, -5.6987e+00, -1.0230e-02, -5.0259e+00, -1.9229e+01,\n",
       "         -1.5318e+01, -2.1413e+01, -8.2568e+00, -1.3621e+01],\n",
       "        [-1.1699e+01, -5.3875e+00, -1.7236e-01, -1.8750e+00, -1.0227e+01,\n",
       "         -1.1332e+01, -1.5201e+01, -8.5241e+00, -8.8173e+00],\n",
       "        [-1.2531e+01, -4.0089e+00, -5.1872e-01, -1.0083e+00, -6.6733e+00,\n",
       "         -1.3349e+01, -1.9106e+01, -7.5843e+00, -3.9140e+00],\n",
       "        [-1.0309e+01, -5.8292e+00, -3.1524e+00, -1.0633e+00, -4.4731e+00,\n",
       "         -1.0132e+01, -1.7096e+01, -9.1680e+00, -5.1516e-01],\n",
       "        [-7.1614e+00, -6.7102e+00, -1.3665e+00, -4.0041e-01, -6.7981e+00,\n",
       "         -9.1917e+00, -1.5349e+01, -5.0658e+00, -2.7265e+00],\n",
       "        [-5.5917e+00, -4.5003e+00, -3.6012e+00, -2.6761e-01, -3.3631e+00,\n",
       "         -2.3863e+00, -6.3205e+00, -4.2400e+00, -2.9984e+00],\n",
       "        [-2.1872e+01, -9.1655e+00, -3.0978e-02, -3.5295e+00, -6.9184e+00,\n",
       "         -1.2231e+01, -2.2089e+01, -9.5161e+00, -1.1445e+01],\n",
       "        [-1.0908e+01, -3.6962e+00, -2.5221e+00, -3.2547e-01, -2.3033e+00,\n",
       "         -5.3777e+00, -1.2990e+01, -3.3734e+00, -3.3855e+00],\n",
       "        [-1.0879e+01, -5.3744e+00, -7.6548e-01, -4.2573e+00, -7.5779e-01,\n",
       "         -4.7473e+00, -5.9238e+00, -3.3435e+00, -7.2405e+00],\n",
       "        [-1.9140e+01, -4.0487e+00, -4.6046e+00, -4.3244e-02, -4.2578e+00,\n",
       "         -1.1304e+01, -1.7342e+01, -9.4103e+00, -7.3793e+00],\n",
       "        [-1.3270e+01, -7.9658e-02, -3.8920e+00, -2.8930e+00, -1.0348e+01,\n",
       "         -1.3094e+01, -1.5143e+01, -8.9101e+00, -7.4501e+00],\n",
       "        [-1.2275e+01, -2.9316e+00, -1.8279e+00, -2.8114e-01, -1.0172e+01,\n",
       "         -1.0250e+01, -2.0159e+01, -7.1548e+00, -3.5016e+00],\n",
       "        [-8.2711e+00, -1.2140e+00, -1.0904e+01, -4.4323e+00, -1.9445e+00,\n",
       "         -3.7634e+00, -5.9906e+00, -6.5825e+00, -6.5261e-01],\n",
       "        [-9.2641e+00, -4.3843e+00, -5.9900e-02, -3.1518e+00, -9.2344e+00,\n",
       "         -1.2672e+01, -1.7165e+01, -7.7398e+00, -6.0915e+00],\n",
       "        [-1.2684e+01, -1.3147e+00, -2.8695e+00, -5.4925e-01, -7.0534e+00,\n",
       "         -7.4243e+00, -1.5021e+01, -4.2323e+00, -2.5088e+00],\n",
       "        [-1.8203e+01, -4.3857e+00, -2.2938e+00, -1.3198e-01, -4.9891e+00,\n",
       "         -1.2533e+01, -1.7593e+01, -7.6369e+00, -5.8069e+00],\n",
       "        [-1.3683e+01, -9.1235e+00, -1.0671e+01, -7.2535e+00, -1.3878e+00,\n",
       "         -1.1144e+01, -1.7098e+01, -1.1353e+01, -2.8834e-01],\n",
       "        [-1.0752e+01, -3.7371e+00, -2.4666e+00, -1.5083e+00, -4.3122e+00,\n",
       "         -1.0614e+01, -1.6665e+01, -8.4801e+00, -4.2104e-01],\n",
       "        [-1.0122e+01, -4.7810e+00, -2.6336e-01, -1.6022e+00, -9.1191e+00,\n",
       "         -9.1865e+00, -1.7260e+01, -4.4812e+00, -4.5930e+00],\n",
       "        [-2.9835e+00, -3.5006e+00, -7.8747e+00, -7.6869e+00, -2.4638e+00,\n",
       "         -2.3540e+00, -7.8039e+00, -6.9929e+00, -3.0526e-01],\n",
       "        [-9.5413e+00, -4.1889e+00, -7.3454e+00, -6.3905e+00, -4.1524e+00,\n",
       "         -6.2278e+00, -1.2029e+01, -3.8580e+00, -5.8025e-02]],\n",
       "       grad_fn=<LogSoftmaxBackward0>)"
      ]
     },
     "execution_count": 36,
     "metadata": {},
     "output_type": "execute_result"
    }
   ],
   "source": [
    "model.to(device)\n",
    "model(next(iter(forget_loader))[0])"
   ]
  },
  {
   "cell_type": "code",
   "execution_count": null,
   "metadata": {},
   "outputs": [
    {
     "ename": "IndexError",
     "evalue": "index 9 is out of bounds for axis 1 with size 9",
     "output_type": "error",
     "traceback": [
      "\u001b[0;31m---------------------------------------------------------------------------\u001b[0m",
      "\u001b[0;31mIndexError\u001b[0m                                Traceback (most recent call last)",
      "Cell \u001b[0;32mIn[37], line 1\u001b[0m\n\u001b[0;32m----> 1\u001b[0m \u001b[43mMIA\u001b[49m\u001b[43m(\u001b[49m\n\u001b[1;32m      2\u001b[0m \u001b[43m    \u001b[49m\u001b[43mretain_loader_train\u001b[49m\u001b[43m,\u001b[49m\u001b[43m \u001b[49m\n\u001b[1;32m      3\u001b[0m \u001b[43m    \u001b[49m\u001b[43mretain_loader_test\u001b[49m\u001b[43m,\u001b[49m\u001b[43m \u001b[49m\n\u001b[1;32m      4\u001b[0m \u001b[43m    \u001b[49m\u001b[43mforget_loader\u001b[49m\u001b[43m,\u001b[49m\u001b[43m \u001b[49m\n\u001b[1;32m      5\u001b[0m \u001b[43m    \u001b[49m\u001b[43mtest_loader\u001b[49m\u001b[43m,\u001b[49m\u001b[43m \u001b[49m\n\u001b[1;32m      6\u001b[0m \u001b[43m    \u001b[49m\u001b[43mmodel\u001b[49m\u001b[43m,\u001b[49m\u001b[43m \u001b[49m\n\u001b[1;32m      7\u001b[0m \u001b[43m    \u001b[49m\u001b[43mdevice\u001b[49m\n\u001b[1;32m      8\u001b[0m \u001b[43m)\u001b[49m\n",
      "File \u001b[0;32m~/Desktop/MachineUL/MIA.py:183\u001b[0m, in \u001b[0;36mMIA\u001b[0;34m(retain_loader_train, retain_loader_test, forget_loader, test_loader, model, device)\u001b[0m\n\u001b[1;32m    180\u001b[0m target_train_performance \u001b[38;5;241m=\u001b[39m collect_performance(retain_loader_test, model, device)\n\u001b[1;32m    181\u001b[0m target_test_performance \u001b[38;5;241m=\u001b[39m collect_performance(forget_loader, model, device)\n\u001b[0;32m--> 183\u001b[0m BBB \u001b[38;5;241m=\u001b[39m \u001b[43mblack_box_benchmarks\u001b[49m\u001b[43m(\u001b[49m\n\u001b[1;32m    184\u001b[0m \u001b[43m    \u001b[49m\u001b[43mshadow_train_performance\u001b[49m\u001b[43m,\u001b[49m\n\u001b[1;32m    185\u001b[0m \u001b[43m    \u001b[49m\u001b[43mshadow_test_performance\u001b[49m\u001b[43m,\u001b[49m\n\u001b[1;32m    186\u001b[0m \u001b[43m    \u001b[49m\u001b[43mtarget_train_performance\u001b[49m\u001b[43m,\u001b[49m\n\u001b[1;32m    187\u001b[0m \u001b[43m    \u001b[49m\u001b[43mtarget_test_performance\u001b[49m\u001b[43m,\u001b[49m\n\u001b[1;32m    188\u001b[0m \u001b[43m    \u001b[49m\u001b[43mnum_classes\u001b[49m\u001b[38;5;241;43m=\u001b[39;49m\u001b[38;5;241;43m10\u001b[39;49m\u001b[43m,\u001b[49m\n\u001b[1;32m    189\u001b[0m \u001b[43m\u001b[49m\u001b[43m)\u001b[49m\n\u001b[1;32m    190\u001b[0m \u001b[38;5;28;01mreturn\u001b[39;00m BBB\u001b[38;5;241m.\u001b[39m_mem_inf_benchmarks()\n",
      "File \u001b[0;32m~/Desktop/MachineUL/MIA.py:38\u001b[0m, in \u001b[0;36mblack_box_benchmarks.__init__\u001b[0;34m(self, shadow_train_performance, shadow_test_performance, target_train_performance, target_test_performance, num_classes)\u001b[0m\n\u001b[1;32m     31\u001b[0m \u001b[38;5;28mself\u001b[39m\u001b[38;5;241m.\u001b[39mt_tr_corr \u001b[38;5;241m=\u001b[39m (\n\u001b[1;32m     32\u001b[0m     np\u001b[38;5;241m.\u001b[39margmax(\u001b[38;5;28mself\u001b[39m\u001b[38;5;241m.\u001b[39mt_tr_outputs, axis\u001b[38;5;241m=\u001b[39m\u001b[38;5;241m1\u001b[39m) \u001b[38;5;241m==\u001b[39m \u001b[38;5;28mself\u001b[39m\u001b[38;5;241m.\u001b[39mt_tr_labels\n\u001b[1;32m     33\u001b[0m )\u001b[38;5;241m.\u001b[39mastype(\u001b[38;5;28mint\u001b[39m)\n\u001b[1;32m     34\u001b[0m \u001b[38;5;28mself\u001b[39m\u001b[38;5;241m.\u001b[39mt_te_corr \u001b[38;5;241m=\u001b[39m (\n\u001b[1;32m     35\u001b[0m     np\u001b[38;5;241m.\u001b[39margmax(\u001b[38;5;28mself\u001b[39m\u001b[38;5;241m.\u001b[39mt_te_outputs, axis\u001b[38;5;241m=\u001b[39m\u001b[38;5;241m1\u001b[39m) \u001b[38;5;241m==\u001b[39m \u001b[38;5;28mself\u001b[39m\u001b[38;5;241m.\u001b[39mt_te_labels\n\u001b[1;32m     36\u001b[0m )\u001b[38;5;241m.\u001b[39mastype(\u001b[38;5;28mint\u001b[39m)\n\u001b[0;32m---> 38\u001b[0m \u001b[38;5;28mself\u001b[39m\u001b[38;5;241m.\u001b[39ms_tr_conf \u001b[38;5;241m=\u001b[39m \u001b[43mnp\u001b[49m\u001b[38;5;241;43m.\u001b[39;49m\u001b[43mtake_along_axis\u001b[49m\u001b[43m(\u001b[49m\n\u001b[1;32m     39\u001b[0m \u001b[43m    \u001b[49m\u001b[38;5;28;43mself\u001b[39;49m\u001b[38;5;241;43m.\u001b[39;49m\u001b[43ms_tr_outputs\u001b[49m\u001b[43m,\u001b[49m\u001b[43m \u001b[49m\u001b[38;5;28;43mself\u001b[39;49m\u001b[38;5;241;43m.\u001b[39;49m\u001b[43ms_tr_labels\u001b[49m\u001b[43m[\u001b[49m\u001b[43m:\u001b[49m\u001b[43m,\u001b[49m\u001b[43m \u001b[49m\u001b[38;5;28;43;01mNone\u001b[39;49;00m\u001b[43m]\u001b[49m\u001b[43m,\u001b[49m\u001b[43m \u001b[49m\u001b[43maxis\u001b[49m\u001b[38;5;241;43m=\u001b[39;49m\u001b[38;5;241;43m1\u001b[39;49m\n\u001b[1;32m     40\u001b[0m \u001b[43m\u001b[49m\u001b[43m)\u001b[49m\n\u001b[1;32m     41\u001b[0m \u001b[38;5;28mself\u001b[39m\u001b[38;5;241m.\u001b[39ms_te_conf \u001b[38;5;241m=\u001b[39m np\u001b[38;5;241m.\u001b[39mtake_along_axis(\n\u001b[1;32m     42\u001b[0m     \u001b[38;5;28mself\u001b[39m\u001b[38;5;241m.\u001b[39ms_te_outputs, \u001b[38;5;28mself\u001b[39m\u001b[38;5;241m.\u001b[39ms_te_labels[:, \u001b[38;5;28;01mNone\u001b[39;00m], axis\u001b[38;5;241m=\u001b[39m\u001b[38;5;241m1\u001b[39m\n\u001b[1;32m     43\u001b[0m )\n\u001b[1;32m     44\u001b[0m \u001b[38;5;28mself\u001b[39m\u001b[38;5;241m.\u001b[39mt_tr_conf \u001b[38;5;241m=\u001b[39m np\u001b[38;5;241m.\u001b[39mtake_along_axis(\n\u001b[1;32m     45\u001b[0m     \u001b[38;5;28mself\u001b[39m\u001b[38;5;241m.\u001b[39mt_tr_outputs, \u001b[38;5;28mself\u001b[39m\u001b[38;5;241m.\u001b[39mt_tr_labels[:, \u001b[38;5;28;01mNone\u001b[39;00m], axis\u001b[38;5;241m=\u001b[39m\u001b[38;5;241m1\u001b[39m\n\u001b[1;32m     46\u001b[0m )\n",
      "File \u001b[0;32m~/miniconda3/lib/python3.12/site-packages/numpy/lib/shape_base.py:170\u001b[0m, in \u001b[0;36mtake_along_axis\u001b[0;34m(arr, indices, axis)\u001b[0m\n\u001b[1;32m    167\u001b[0m     arr_shape \u001b[38;5;241m=\u001b[39m arr\u001b[38;5;241m.\u001b[39mshape\n\u001b[1;32m    169\u001b[0m \u001b[38;5;66;03m# use the fancy index\u001b[39;00m\n\u001b[0;32m--> 170\u001b[0m \u001b[38;5;28;01mreturn\u001b[39;00m \u001b[43marr\u001b[49m\u001b[43m[\u001b[49m\u001b[43m_make_along_axis_idx\u001b[49m\u001b[43m(\u001b[49m\u001b[43marr_shape\u001b[49m\u001b[43m,\u001b[49m\u001b[43m \u001b[49m\u001b[43mindices\u001b[49m\u001b[43m,\u001b[49m\u001b[43m \u001b[49m\u001b[43maxis\u001b[49m\u001b[43m)\u001b[49m\u001b[43m]\u001b[49m\n",
      "\u001b[0;31mIndexError\u001b[0m: index 9 is out of bounds for axis 1 with size 9"
     ]
    }
   ],
   "source": [
    "model.to(device)\n",
    "\n",
    "MIA(\n",
    "    retain_loader_train, \n",
    "    retain_loader_test, \n",
    "    forget_loader, \n",
    "    test_loader, \n",
    "    model, \n",
    "    device\n",
    ")"
   ]
  },
  {
   "cell_type": "code",
   "execution_count": null,
   "metadata": {},
   "outputs": [],
   "source": []
  },
  {
   "cell_type": "code",
   "execution_count": null,
   "metadata": {},
   "outputs": [],
   "source": []
  },
  {
   "cell_type": "code",
   "execution_count": null,
   "metadata": {},
   "outputs": [],
   "source": []
  },
  {
   "cell_type": "code",
   "execution_count": null,
   "metadata": {},
   "outputs": [],
   "source": []
  },
  {
   "cell_type": "code",
   "execution_count": null,
   "metadata": {},
   "outputs": [],
   "source": []
  },
  {
   "cell_type": "code",
   "execution_count": null,
   "metadata": {},
   "outputs": [],
   "source": []
  },
  {
   "cell_type": "code",
   "execution_count": null,
   "metadata": {},
   "outputs": [],
   "source": []
  }
 ],
 "metadata": {
  "kernelspec": {
   "display_name": "base",
   "language": "python",
   "name": "python3"
  },
  "language_info": {
   "codemirror_mode": {
    "name": "ipython",
    "version": 3
   },
   "file_extension": ".py",
   "mimetype": "text/x-python",
   "name": "python",
   "nbconvert_exporter": "python",
   "pygments_lexer": "ipython3",
   "version": "3.12.2"
  }
 },
 "nbformat": 4,
 "nbformat_minor": 2
}
